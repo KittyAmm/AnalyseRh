{
 "cells": [
  {
   "cell_type": "code",
   "execution_count": 8,
   "metadata": {
    "collapsed": true
   },
   "outputs": [
    {
     "data": {
      "text/plain": "          NUM_ID   NUM_IM CODEBUR                                     LIEU_AF  \\\n0       2008DEC5  275 850    34AS                                 ANTSIRANANA   \n1       2009DEC8  318 069    22TP                          TOAMASINA-PETROLES   \n2       2000DEC4  275 855    34AS                                 ANTSIRANANA   \n3       2001DEC2  275 855    12IV                              IVATO-AEROPORT   \n4       2010DEC7  275 855    22TP                          TOAMASINA-PETROLES   \n...          ...      ...     ...                                         ...   \n3112  2015DEC858  295 870     SAE             SERVICE DES ACTIONS ECONOMIQUES   \n3113  2015DEC974  357 660      SE                     SERVICE DES EQUIPEMENTS   \n3114  2005DEC933  295 871    SCRS  SERVICE DU CONTROLE DES REGIMES SUSPENSIFS   \n3115  2010DEC834  295 871    11AN                                ANTANANARIVO   \n3116  2005DEC934  295 873     DGD              DIRECTION GENERALE DES DOUANES   \n\n               MOTIF_AFFECT           FONCTION_AF DIVISION_AF SERVICE_AF  \\\n0     COMPLEMENT D'EFFECTIF                   NaN         NaN        SOC   \n1                       NaN          CHEF DE SITE         NaN        SOC   \n2     COMPLEMENT D'EFFECTIF                   NaN         NaN        SOC   \n3     COMPLEMENT D'EFFECTIF                   NaN         NaN        SOC   \n4     COMPLEMENT D'EFFECTIF  ECOR ET SURVEILLANCE         NaN       SPCB   \n...                     ...                   ...         ...        ...   \n3112                    NaN                   NaN         NaN        SAE   \n3113                    NaN                   NaN         NaN         SE   \n3114                    NaN                   NaN         NaN        NaN   \n3115                    NaN                   NaN         NaN       SPCB   \n3116                    NaN                   NaN         NaN        NaN   \n\n     DIRECTION_AF   DATE_PS  \n0             DSE       NaN  \n1             DSE       NaN  \n2             DSE  03/08/00  \n3             DSE       NaN  \n4             DSE  19/04/10  \n...           ...       ...  \n3112          NaN  23/09/15  \n3113          DRF  17/02/15  \n3114          NaN       NaN  \n3115          NaN  09/02/10  \n3116          NaN       NaN  \n\n[3117 rows x 10 columns]",
      "text/html": "<div>\n<style scoped>\n    .dataframe tbody tr th:only-of-type {\n        vertical-align: middle;\n    }\n\n    .dataframe tbody tr th {\n        vertical-align: top;\n    }\n\n    .dataframe thead th {\n        text-align: right;\n    }\n</style>\n<table border=\"1\" class=\"dataframe\">\n  <thead>\n    <tr style=\"text-align: right;\">\n      <th></th>\n      <th>NUM_ID</th>\n      <th>NUM_IM</th>\n      <th>CODEBUR</th>\n      <th>LIEU_AF</th>\n      <th>MOTIF_AFFECT</th>\n      <th>FONCTION_AF</th>\n      <th>DIVISION_AF</th>\n      <th>SERVICE_AF</th>\n      <th>DIRECTION_AF</th>\n      <th>DATE_PS</th>\n    </tr>\n  </thead>\n  <tbody>\n    <tr>\n      <th>0</th>\n      <td>2008DEC5</td>\n      <td>275 850</td>\n      <td>34AS</td>\n      <td>ANTSIRANANA</td>\n      <td>COMPLEMENT D'EFFECTIF</td>\n      <td>NaN</td>\n      <td>NaN</td>\n      <td>SOC</td>\n      <td>DSE</td>\n      <td>NaN</td>\n    </tr>\n    <tr>\n      <th>1</th>\n      <td>2009DEC8</td>\n      <td>318 069</td>\n      <td>22TP</td>\n      <td>TOAMASINA-PETROLES</td>\n      <td>NaN</td>\n      <td>CHEF DE SITE</td>\n      <td>NaN</td>\n      <td>SOC</td>\n      <td>DSE</td>\n      <td>NaN</td>\n    </tr>\n    <tr>\n      <th>2</th>\n      <td>2000DEC4</td>\n      <td>275 855</td>\n      <td>34AS</td>\n      <td>ANTSIRANANA</td>\n      <td>COMPLEMENT D'EFFECTIF</td>\n      <td>NaN</td>\n      <td>NaN</td>\n      <td>SOC</td>\n      <td>DSE</td>\n      <td>03/08/00</td>\n    </tr>\n    <tr>\n      <th>3</th>\n      <td>2001DEC2</td>\n      <td>275 855</td>\n      <td>12IV</td>\n      <td>IVATO-AEROPORT</td>\n      <td>COMPLEMENT D'EFFECTIF</td>\n      <td>NaN</td>\n      <td>NaN</td>\n      <td>SOC</td>\n      <td>DSE</td>\n      <td>NaN</td>\n    </tr>\n    <tr>\n      <th>4</th>\n      <td>2010DEC7</td>\n      <td>275 855</td>\n      <td>22TP</td>\n      <td>TOAMASINA-PETROLES</td>\n      <td>COMPLEMENT D'EFFECTIF</td>\n      <td>ECOR ET SURVEILLANCE</td>\n      <td>NaN</td>\n      <td>SPCB</td>\n      <td>DSE</td>\n      <td>19/04/10</td>\n    </tr>\n    <tr>\n      <th>...</th>\n      <td>...</td>\n      <td>...</td>\n      <td>...</td>\n      <td>...</td>\n      <td>...</td>\n      <td>...</td>\n      <td>...</td>\n      <td>...</td>\n      <td>...</td>\n      <td>...</td>\n    </tr>\n    <tr>\n      <th>3112</th>\n      <td>2015DEC858</td>\n      <td>295 870</td>\n      <td>SAE</td>\n      <td>SERVICE DES ACTIONS ECONOMIQUES</td>\n      <td>NaN</td>\n      <td>NaN</td>\n      <td>NaN</td>\n      <td>SAE</td>\n      <td>NaN</td>\n      <td>23/09/15</td>\n    </tr>\n    <tr>\n      <th>3113</th>\n      <td>2015DEC974</td>\n      <td>357 660</td>\n      <td>SE</td>\n      <td>SERVICE DES EQUIPEMENTS</td>\n      <td>NaN</td>\n      <td>NaN</td>\n      <td>NaN</td>\n      <td>SE</td>\n      <td>DRF</td>\n      <td>17/02/15</td>\n    </tr>\n    <tr>\n      <th>3114</th>\n      <td>2005DEC933</td>\n      <td>295 871</td>\n      <td>SCRS</td>\n      <td>SERVICE DU CONTROLE DES REGIMES SUSPENSIFS</td>\n      <td>NaN</td>\n      <td>NaN</td>\n      <td>NaN</td>\n      <td>NaN</td>\n      <td>NaN</td>\n      <td>NaN</td>\n    </tr>\n    <tr>\n      <th>3115</th>\n      <td>2010DEC834</td>\n      <td>295 871</td>\n      <td>11AN</td>\n      <td>ANTANANARIVO</td>\n      <td>NaN</td>\n      <td>NaN</td>\n      <td>NaN</td>\n      <td>SPCB</td>\n      <td>NaN</td>\n      <td>09/02/10</td>\n    </tr>\n    <tr>\n      <th>3116</th>\n      <td>2005DEC934</td>\n      <td>295 873</td>\n      <td>DGD</td>\n      <td>DIRECTION GENERALE DES DOUANES</td>\n      <td>NaN</td>\n      <td>NaN</td>\n      <td>NaN</td>\n      <td>NaN</td>\n      <td>NaN</td>\n      <td>NaN</td>\n    </tr>\n  </tbody>\n</table>\n<p>3117 rows × 10 columns</p>\n</div>"
     },
     "execution_count": 8,
     "metadata": {},
     "output_type": "execute_result"
    }
   ],
   "source": [
    "#Prediction Analysis\n",
    "import pandas as pd\n",
    "from sklearn.linear_model import LogisticRegression\n",
    "from sklearn.neighbors import KNeighborsClassifier\n",
    "from sklearn.svm import SVC\n",
    "from sklearn.tree import DecisionTreeClassifier\n",
    "from sklearn.ensemble import RandomForestClassifier, AdaBoostClassifier\n",
    "from sklearn.naive_bayes import GaussianNB\n",
    "from sklearn.model_selection import train_test_split\n",
    "datah = pd.read_csv('RH.csv')\n",
    "n = 70\n",
    "nbhead = int(len(datah)*(n/100))\n",
    "datah.head(nbhead)"
   ]
  }
 ],
 "metadata": {
  "kernelspec": {
   "display_name": "Python 3",
   "language": "python",
   "name": "python3"
  },
  "language_info": {
   "codemirror_mode": {
    "name": "ipython",
    "version": 2
   },
   "file_extension": ".py",
   "mimetype": "text/x-python",
   "name": "python",
   "nbconvert_exporter": "python",
   "pygments_lexer": "ipython2",
   "version": "2.7.6"
  }
 },
 "nbformat": 4,
 "nbformat_minor": 0
}