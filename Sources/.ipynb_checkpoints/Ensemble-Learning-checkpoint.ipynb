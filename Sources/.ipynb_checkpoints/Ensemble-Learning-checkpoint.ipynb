{
 "cells": [
  {
   "cell_type": "markdown",
   "id": "2f17571b",
   "metadata": {},
   "source": [
    "<h2><center>Ensemble Learning</center></h2>"
   ]
  },
  {
   "cell_type": "code",
   "execution_count": 20,
   "id": "d905359a",
   "metadata": {},
   "outputs": [],
   "source": [
    "import os\n",
    "import pandas as pd\n",
    "import numpy as np\n",
    "import warnings\n",
    "\n",
    "import matplotlib.pyplot as plt\n",
    "from sklearn.model_selection import train_test_split\n",
    "from sklearn.pipeline import make_pipeline\n",
    "from sklearn.preprocessing import RobustScaler\n",
    "from sklearn.linear_model import LinearRegression, Lasso, ElasticNet\n",
    "from sklearn.kernel_ridge import KernelRidge\n",
    "\n",
    "from sklearn.model_selection import KFold,cross_val_score, GridSearchCV,RandomizedSearchCV\n",
    "from sklearn.ensemble import GradientBoostingRegressor,VotingClassifier,BaggingRegressor,StackingRegressor\n",
    "import xgboost as xgb\n",
    "import lightgbm as lgb\n",
    "from sklearn import metrics\n",
    "\n",
    "\n",
    "from sklearn.model_selection import cross_val_score\n",
    "from sklearn.model_selection import cross_val_predict\n",
    "from sklearn.metrics import mean_squared_error\n",
    "\n",
    "# Global settings\n",
    "\n",
    "\n",
    "warnings.filterwarnings(\"ignore\") # To ignore warnings\n",
    "n_jobs = -1\n",
    "random_state = 42"
   ]
  },
  {
   "cell_type": "code",
   "execution_count": 21,
   "id": "63d76b6c",
   "metadata": {},
   "outputs": [],
   "source": [
    "data_train = pd.read_csv('data/train.csv')\n",
    "data_val = pd.read_csv('data/val.csv')"
   ]
  },
  {
   "cell_type": "code",
   "execution_count": 22,
   "id": "29c63596",
   "metadata": {},
   "outputs": [
    {
     "data": {
      "text/plain": [
       "(1333, 43)"
      ]
     },
     "execution_count": 22,
     "metadata": {},
     "output_type": "execute_result"
    }
   ],
   "source": [
    "data_test = pd.read_csv('data/test.csv')\n",
    "data_test.shape"
   ]
  },
  {
   "cell_type": "code",
   "execution_count": 23,
   "id": "f2b39071",
   "metadata": {},
   "outputs": [
    {
     "data": {
      "text/plain": [
       "['num_im',\n",
       " 'age',\n",
       " 'job_ok',\n",
       " 'nbre_enf',\n",
       " 'ann_dipl',\n",
       " 'ordre',\n",
       " 'annee_ent',\n",
       " 'date_ps',\n",
       " 'dat_retraite',\n",
       " 'dt_echeance',\n",
       " 'tot_afct',\n",
       " 'sexe_FEMININ',\n",
       " 'sexe_MASCULIN',\n",
       " 'sit_fam_CELIBATAIRE',\n",
       " 'sit_fam_DIVORCE(E)',\n",
       " 'sit_fam_MARIE(E)',\n",
       " 'sit_fam_VEUF(VE)',\n",
       " 'nature_Autres',\n",
       " 'nature_FORMATION',\n",
       " 'nature_INFORMATIQUE',\n",
       " 'nature_SUPERIEUR',\n",
       " 'statut_act_DECEDE(E)',\n",
       " 'statut_act_EN FONCTION',\n",
       " 'statut_act_FIN DE CONTRAT',\n",
       " 'statut_act_RETRAITE(E)',\n",
       " 'log_age',\n",
       " 'log_job_ok',\n",
       " 'log_nbre_enf',\n",
       " 'log_ordre',\n",
       " 'log_annee_ent',\n",
       " 'log_date_ps',\n",
       " 'log_dat_retraite',\n",
       " 'log_dt_echeance',\n",
       " 'log_tot_afct',\n",
       " 'std_age',\n",
       " 'std_job_ok',\n",
       " 'std_nbre_enf',\n",
       " 'std_ordre',\n",
       " 'std_annee_ent',\n",
       " 'std_date_ps',\n",
       " 'std_dat_retraite',\n",
       " 'std_dt_echeance',\n",
       " 'std_tot_afct']"
      ]
     },
     "execution_count": 23,
     "metadata": {},
     "output_type": "execute_result"
    }
   ],
   "source": [
    "data_test.columns.tolist()"
   ]
  },
  {
   "cell_type": "code",
   "execution_count": 24,
   "id": "a8ae26c8",
   "metadata": {},
   "outputs": [],
   "source": [
    "done=[\n",
    " 'sexe_FEMININ',\n",
    " 'sexe_MASCULIN',\n",
    " 'sit_fam_CELIBATAIRE',\n",
    " 'sit_fam_DIVORCE(E)',\n",
    " 'sit_fam_MARIE(E)',\n",
    " 'sit_fam_VEUF(VE)',\n",
    " 'nature_APTITUDE PROFESSIONNEL',\n",
    " 'nature_APTITUDE PROFESSIONNELLE',\n",
    " 'nature_ATTESTATION',\n",
    " 'nature_CERTIFICAT',\n",
    " 'nature_DIPLOME',\n",
    " 'nature_FORMATION',\n",
    " 'statut_act_DECEDE(E)',\n",
    " 'statut_act_EN FONCTION',\n",
    " 'statut_act_FIN DE CONTRAT',\n",
    " 'statut_act_RETRAITE(E)',\n",
    " 'log_age',\n",
    " 'log_job_ok',\n",
    " 'log_nbre_enf',\n",
    " 'log_ordre',\n",
    " 'log_annee_ent',\n",
    " 'log_date_ps',\n",
    " 'log_dat_retraite',\n",
    " 'log_dt_echeance',\n",
    " 'std_age',\n",
    "]"
   ]
  },
  {
   "cell_type": "code",
   "execution_count": 25,
   "id": "4dbd32e9",
   "metadata": {},
   "outputs": [
    {
     "ename": "KeyError",
     "evalue": "\"['nature_APTITUDE PROFESSIONNEL', 'nature_APTITUDE PROFESSIONNELLE', 'nature_ATTESTATION', 'nature_CERTIFICAT', 'nature_DIPLOME'] not in index\"",
     "output_type": "error",
     "traceback": [
      "\u001b[1;31m---------------------------------------------------------------------------\u001b[0m",
      "\u001b[1;31mKeyError\u001b[0m                                  Traceback (most recent call last)",
      "\u001b[1;32m~\\AppData\\Local\\Temp/ipykernel_980/3078923864.py\u001b[0m in \u001b[0;36m<module>\u001b[1;34m\u001b[0m\n\u001b[0;32m      1\u001b[0m \u001b[0mX\u001b[0m\u001b[1;33m=\u001b[0m\u001b[0mdone\u001b[0m\u001b[1;33m\u001b[0m\u001b[1;33m\u001b[0m\u001b[0m\n\u001b[1;32m----> 2\u001b[1;33m \u001b[0mX_train\u001b[0m \u001b[1;33m=\u001b[0m \u001b[0mdata_train\u001b[0m\u001b[1;33m[\u001b[0m\u001b[0mX\u001b[0m\u001b[1;33m]\u001b[0m\u001b[1;33m\u001b[0m\u001b[1;33m\u001b[0m\u001b[0m\n\u001b[0m\u001b[0;32m      3\u001b[0m \u001b[0mX_test\u001b[0m \u001b[1;33m=\u001b[0m \u001b[0mdata_test\u001b[0m\u001b[1;33m[\u001b[0m\u001b[0mX\u001b[0m\u001b[1;33m]\u001b[0m\u001b[1;33m\u001b[0m\u001b[1;33m\u001b[0m\u001b[0m\n\u001b[0;32m      4\u001b[0m \u001b[0mX_val\u001b[0m \u001b[1;33m=\u001b[0m \u001b[0mdata_val\u001b[0m\u001b[1;33m[\u001b[0m\u001b[0mX\u001b[0m\u001b[1;33m]\u001b[0m\u001b[1;33m\u001b[0m\u001b[1;33m\u001b[0m\u001b[0m\n\u001b[0;32m      5\u001b[0m \u001b[0my_train\u001b[0m \u001b[1;33m=\u001b[0m \u001b[0mdata_train\u001b[0m\u001b[1;33m[\u001b[0m\u001b[1;34m'log_tot_afct'\u001b[0m\u001b[1;33m]\u001b[0m\u001b[1;33m\u001b[0m\u001b[1;33m\u001b[0m\u001b[0m\n",
      "\u001b[1;32mc:\\users\\kitty\\pycharmprojects\\testaffichage\\venv\\lib\\site-packages\\pandas\\core\\frame.py\u001b[0m in \u001b[0;36m__getitem__\u001b[1;34m(self, key)\u001b[0m\n\u001b[0;32m   3459\u001b[0m             \u001b[1;32mif\u001b[0m \u001b[0mis_iterator\u001b[0m\u001b[1;33m(\u001b[0m\u001b[0mkey\u001b[0m\u001b[1;33m)\u001b[0m\u001b[1;33m:\u001b[0m\u001b[1;33m\u001b[0m\u001b[1;33m\u001b[0m\u001b[0m\n\u001b[0;32m   3460\u001b[0m                 \u001b[0mkey\u001b[0m \u001b[1;33m=\u001b[0m \u001b[0mlist\u001b[0m\u001b[1;33m(\u001b[0m\u001b[0mkey\u001b[0m\u001b[1;33m)\u001b[0m\u001b[1;33m\u001b[0m\u001b[1;33m\u001b[0m\u001b[0m\n\u001b[1;32m-> 3461\u001b[1;33m             \u001b[0mindexer\u001b[0m \u001b[1;33m=\u001b[0m \u001b[0mself\u001b[0m\u001b[1;33m.\u001b[0m\u001b[0mloc\u001b[0m\u001b[1;33m.\u001b[0m\u001b[0m_get_listlike_indexer\u001b[0m\u001b[1;33m(\u001b[0m\u001b[0mkey\u001b[0m\u001b[1;33m,\u001b[0m \u001b[0maxis\u001b[0m\u001b[1;33m=\u001b[0m\u001b[1;36m1\u001b[0m\u001b[1;33m)\u001b[0m\u001b[1;33m[\u001b[0m\u001b[1;36m1\u001b[0m\u001b[1;33m]\u001b[0m\u001b[1;33m\u001b[0m\u001b[1;33m\u001b[0m\u001b[0m\n\u001b[0m\u001b[0;32m   3462\u001b[0m \u001b[1;33m\u001b[0m\u001b[0m\n\u001b[0;32m   3463\u001b[0m         \u001b[1;31m# take() does not accept boolean indexers\u001b[0m\u001b[1;33m\u001b[0m\u001b[1;33m\u001b[0m\u001b[1;33m\u001b[0m\u001b[0m\n",
      "\u001b[1;32mc:\\users\\kitty\\pycharmprojects\\testaffichage\\venv\\lib\\site-packages\\pandas\\core\\indexing.py\u001b[0m in \u001b[0;36m_get_listlike_indexer\u001b[1;34m(self, key, axis)\u001b[0m\n\u001b[0;32m   1312\u001b[0m             \u001b[0mkeyarr\u001b[0m\u001b[1;33m,\u001b[0m \u001b[0mindexer\u001b[0m\u001b[1;33m,\u001b[0m \u001b[0mnew_indexer\u001b[0m \u001b[1;33m=\u001b[0m \u001b[0max\u001b[0m\u001b[1;33m.\u001b[0m\u001b[0m_reindex_non_unique\u001b[0m\u001b[1;33m(\u001b[0m\u001b[0mkeyarr\u001b[0m\u001b[1;33m)\u001b[0m\u001b[1;33m\u001b[0m\u001b[1;33m\u001b[0m\u001b[0m\n\u001b[0;32m   1313\u001b[0m \u001b[1;33m\u001b[0m\u001b[0m\n\u001b[1;32m-> 1314\u001b[1;33m         \u001b[0mself\u001b[0m\u001b[1;33m.\u001b[0m\u001b[0m_validate_read_indexer\u001b[0m\u001b[1;33m(\u001b[0m\u001b[0mkeyarr\u001b[0m\u001b[1;33m,\u001b[0m \u001b[0mindexer\u001b[0m\u001b[1;33m,\u001b[0m \u001b[0maxis\u001b[0m\u001b[1;33m)\u001b[0m\u001b[1;33m\u001b[0m\u001b[1;33m\u001b[0m\u001b[0m\n\u001b[0m\u001b[0;32m   1315\u001b[0m \u001b[1;33m\u001b[0m\u001b[0m\n\u001b[0;32m   1316\u001b[0m         if needs_i8_conversion(ax.dtype) or isinstance(\n",
      "\u001b[1;32mc:\\users\\kitty\\pycharmprojects\\testaffichage\\venv\\lib\\site-packages\\pandas\\core\\indexing.py\u001b[0m in \u001b[0;36m_validate_read_indexer\u001b[1;34m(self, key, indexer, axis)\u001b[0m\n\u001b[0;32m   1375\u001b[0m \u001b[1;33m\u001b[0m\u001b[0m\n\u001b[0;32m   1376\u001b[0m             \u001b[0mnot_found\u001b[0m \u001b[1;33m=\u001b[0m \u001b[0mlist\u001b[0m\u001b[1;33m(\u001b[0m\u001b[0mensure_index\u001b[0m\u001b[1;33m(\u001b[0m\u001b[0mkey\u001b[0m\u001b[1;33m)\u001b[0m\u001b[1;33m[\u001b[0m\u001b[0mmissing_mask\u001b[0m\u001b[1;33m.\u001b[0m\u001b[0mnonzero\u001b[0m\u001b[1;33m(\u001b[0m\u001b[1;33m)\u001b[0m\u001b[1;33m[\u001b[0m\u001b[1;36m0\u001b[0m\u001b[1;33m]\u001b[0m\u001b[1;33m]\u001b[0m\u001b[1;33m.\u001b[0m\u001b[0munique\u001b[0m\u001b[1;33m(\u001b[0m\u001b[1;33m)\u001b[0m\u001b[1;33m)\u001b[0m\u001b[1;33m\u001b[0m\u001b[1;33m\u001b[0m\u001b[0m\n\u001b[1;32m-> 1377\u001b[1;33m             \u001b[1;32mraise\u001b[0m \u001b[0mKeyError\u001b[0m\u001b[1;33m(\u001b[0m\u001b[1;34mf\"{not_found} not in index\"\u001b[0m\u001b[1;33m)\u001b[0m\u001b[1;33m\u001b[0m\u001b[1;33m\u001b[0m\u001b[0m\n\u001b[0m\u001b[0;32m   1378\u001b[0m \u001b[1;33m\u001b[0m\u001b[0m\n\u001b[0;32m   1379\u001b[0m \u001b[1;33m\u001b[0m\u001b[0m\n",
      "\u001b[1;31mKeyError\u001b[0m: \"['nature_APTITUDE PROFESSIONNEL', 'nature_APTITUDE PROFESSIONNELLE', 'nature_ATTESTATION', 'nature_CERTIFICAT', 'nature_DIPLOME'] not in index\""
     ]
    }
   ],
   "source": [
    "X=done\n",
    "X_train = data_train[X]\n",
    "X_test = data_test[X]\n",
    "X_val = data_val[X]\n",
    "y_train = data_train['log_tot_afct']\n",
    "y_test = data_test['log_tot_afct']\n",
    "y_val = data_val['log_tot_afct']"
   ]
  },
  {
   "cell_type": "code",
   "execution_count": null,
   "id": "e085db77",
   "metadata": {},
   "outputs": [],
   "source": [
    "models_scores = []\n",
    "\n",
    "def rmse(model):\n",
    "    model.fit(X_train, y_train)\n",
    "    y_pred = model.predict(X_train)\n",
    "    \n",
    "    return mean_squared_error(y_train, y_pred, squared= False)\n",
    "def rmse_val(model):\n",
    "    model.fit(X_train, y_train)\n",
    "    y_pred = model.predict(X_val)\n",
    "    \n",
    "    return mean_squared_error(y_val, y_pred, squared= False)\n",
    "def rmse_test(model):\n",
    "    model.fit(X_train, y_train)\n",
    "    y_pred = model.predict(X_test)\n",
    "    \n",
    "    return mean_squared_error(y_test, y_pred, squared= False)"
   ]
  },
  {
   "cell_type": "code",
   "execution_count": null,
   "id": "f6eefb53",
   "metadata": {},
   "outputs": [],
   "source": [
    "linear_regression  = make_pipeline(LinearRegression())\n",
    "score = rmse(linear_regression)\n",
    "score_val =rmse_val(linear_regression)\n",
    "models_scores.append(['LinearRegression', score])\n",
    "print(f'LinearRegression Score= {score}')\n",
    "# models_scores_val.append(['LinearRegression', score_val])\n",
    "print(f'LinearRegression Score= {score_val}')"
   ]
  },
  {
   "cell_type": "code",
   "execution_count": null,
   "id": "5eb1fb9d",
   "metadata": {},
   "outputs": [],
   "source": [
    "lasso = make_pipeline(RobustScaler(), Lasso(alpha=0.0005, random_state= random_state))\n",
    "\n",
    "score = rmse(lasso)\n",
    "models_scores.append(['Lasso', score])\n",
    "print(f'Lasso Score= {score}')\n"
   ]
  },
  {
   "cell_type": "code",
   "execution_count": null,
   "id": "5b35303e",
   "metadata": {},
   "outputs": [],
   "source": [
    "elastic_net = make_pipeline(RobustScaler(), ElasticNet(alpha=0.0005, l1_ratio= .9, random_state= random_state))\n",
    "\n",
    "score = rmse(elastic_net)\n",
    "models_scores.append(['ElasticNet', score])\n",
    "print(f'ElasticNet Score= {score}')"
   ]
  },
  {
   "cell_type": "code",
   "execution_count": null,
   "id": "5470cf0d",
   "metadata": {},
   "outputs": [],
   "source": [
    "from sklearn.linear_model import Ridge\n",
    "from sklearn.model_selection import GridSearchCV\n",
    "parameters = {'alpha':[1, 10]}\n",
    "model = Ridge()\n",
    "Ridge_reg = GridSearchCV(model, parameters, scoring='neg_mean_squared_error',cv=5)\n",
    "score = rmse(Ridge_reg)\n",
    "models_scores.append(['Ridge', score])\n",
    "print(f'KernelRidge Score= {score}')"
   ]
  },
  {
   "cell_type": "code",
   "execution_count": null,
   "id": "5b710cf3",
   "metadata": {},
   "outputs": [],
   "source": [
    "# Ranking the scores of each model\n",
    "pd.DataFrame(models_scores).sort_values(by=[1], ascending=True)"
   ]
  },
  {
   "cell_type": "markdown",
   "id": "6c591e73",
   "metadata": {},
   "source": [
    "### Bagging"
   ]
  },
  {
   "cell_type": "code",
   "execution_count": null,
   "id": "6b2d6a49",
   "metadata": {},
   "outputs": [],
   "source": [
    "def bagging_predictions(estimator):\n",
    "    \"\"\"\n",
    "    I/P\n",
    "    estimator: The base estimator from which the ensemble is grown.\n",
    "    O/P\n",
    "    br_y_pred: Predictions on test data for the base estimator.\n",
    "    \n",
    "    \"\"\"\n",
    "    regr = BaggingRegressor(base_estimator=estimator,\n",
    "                            n_estimators=10,\n",
    "                            max_samples=1.0,\n",
    "                            bootstrap=True, # Samples are drawn with replacement\n",
    "                            n_jobs= n_jobs,\n",
    "                            random_state=random_state).fit(X_train, y_train)\n",
    "\n",
    "    br_y_pred = regr.predict(X_test)\n",
    "\n",
    "    rmse_val = mean_squared_error(y_test, br_y_pred, squared= False) # squared= False > returns Root Mean Square Error   \n",
    "\n",
    "    print(f'RMSE for base estimator {regr.base_estimator_} = {rmse_val}\\n')\n",
    "    return br_y_pred\n",
    "\n",
    "\n",
    "predictions = np.column_stack((bagging_predictions(linear_regression),\n",
    "                              bagging_predictions(lasso),\n",
    "                              bagging_predictions(elastic_net),\n",
    "                              bagging_predictions(Ridge_reg)))\n",
    "print(f\"Bagged predictions shape: {predictions.shape}\")\n",
    "       \n",
    "y_pred = np.mean(predictions, axis=1)\n",
    "print(\"Aggregated predictions (y_pred) shape\", y_pred.shape)\n",
    "\n",
    "rmse_val = mean_squared_error(y_test, y_pred, squared= False) # squared= False > returns Root Mean Square Error   \n",
    "models_scores.append(['Bagging', rmse_val])\n",
    "\n",
    "print(f'\\nBagging RMSE= {rmse_val}')\n"
   ]
  },
  {
   "cell_type": "code",
   "execution_count": null,
   "id": "54677535",
   "metadata": {},
   "outputs": [],
   "source": [
    "pd.DataFrame(models_scores).sort_values(by=[1], ascending=True)"
   ]
  },
  {
   "cell_type": "markdown",
   "id": "df39ff0c",
   "metadata": {},
   "source": [
    "## RandomForestRegressor"
   ]
  },
  {
   "cell_type": "code",
   "execution_count": null,
   "id": "bce6f21e",
   "metadata": {},
   "outputs": [],
   "source": [
    "from sklearn.ensemble import RandomForestRegressor\n",
    "\n",
    "def tunning(parameters,X_train,y_train):\n",
    "    radom_forest = RandomForestRegressor()\n",
    "    grid_GBR = RandomizedSearchCV(random_state=42,estimator=radom_forest, param_distributions = parameters, cv = 5, n_jobs=-1,n_iter = 10)\n",
    "    grid_GBR.fit(X_train, y_train)\n",
    "    return grid_GBR\n",
    "\n",
    "parameters = {'bootstrap': [True],\n",
    "    'max_depth': [None, 10, 20, 30],\n",
    "    'max_features': range(20, 27),\n",
    "    'min_samples_leaf': [3, 4, 5,1],\n",
    "    'min_samples_split': [8, 10, 12],\n",
    "    'n_estimators': [100, 200, 300, 1000]\n",
    "                 }\n",
    "search = tunning(parameters,X_train,y_train)"
   ]
  },
  {
   "cell_type": "code",
   "execution_count": null,
   "id": "5e18fbab",
   "metadata": {},
   "outputs": [],
   "source": [
    "search.best_params_"
   ]
  },
  {
   "cell_type": "code",
   "execution_count": null,
   "id": "b9ff7310",
   "metadata": {},
   "outputs": [],
   "source": [
    "rf=search.best_estimator_\n",
    "val_pred = rf.predict(X_val)\n",
    "train_pred = rf.predict(X_train)"
   ]
  },
  {
   "cell_type": "code",
   "execution_count": null,
   "id": "a2c43d57",
   "metadata": {},
   "outputs": [],
   "source": [
    "trainrmse = (metrics.mean_squared_error(y_train, train_pred ))\n",
    "rmse = (metrics.mean_squared_error(y_val, val_pred))\n",
    "print(\"RMSE train :\",trainrmse)\n",
    "print(\"RMSE test :\",rmse)"
   ]
  },
  {
   "cell_type": "code",
   "execution_count": null,
   "id": "0e78e6ec",
   "metadata": {},
   "outputs": [],
   "source": [
    "feature_importance = rf.feature_importances_\n",
    "sorted_idx = np.argsort(feature_importance)\n",
    "pos = np.arange(sorted_idx.shape[0]) + .5\n",
    "fig = plt.figure(figsize=(12, 6))\n",
    "plt.subplot(1, 2, 1)\n",
    "plt.barh(pos, feature_importance[sorted_idx], align='center')\n",
    "plt.yticks(pos, np.array(done)[sorted_idx])\n",
    "plt.title('Feature Importance (MDI)')\n",
    "plt.show()"
   ]
  },
  {
   "cell_type": "markdown",
   "id": "1922f25b",
   "metadata": {},
   "source": [
    "### Boosting "
   ]
  },
  {
   "cell_type": "markdown",
   "id": "569b797b",
   "metadata": {},
   "source": [
    "#### GradientBoostingRegressor"
   ]
  },
  {
   "cell_type": "code",
   "execution_count": null,
   "id": "8879b895",
   "metadata": {},
   "outputs": [],
   "source": [
    "def tunning(parameters,X_val,y_val):\n",
    "    GBR = GradientBoostingRegressor()\n",
    "    grid_GBR = RandomizedSearchCV(random_state=42,estimator=GBR, param_distributions = parameters, cv = 2, n_jobs=-1,n_iter = 10)\n",
    "    grid_GBR.fit(X_train, y_train)\n",
    "    return grid_GBR"
   ]
  },
  {
   "cell_type": "code",
   "execution_count": null,
   "id": "746159ea",
   "metadata": {},
   "outputs": [],
   "source": [
    "parameters = {'learning_rate': [0.01,0.02,0.03],\n",
    "                  'subsample'    : [0.9, 0.5, 0.2, 0.1],\n",
    "                  'n_estimators' : [100,500,1000],\n",
    "                  'max_depth'    : [4,6,8]\n",
    "                 }\n",
    "search = tunning(parameters,X_val,y_val)"
   ]
  },
  {
   "cell_type": "code",
   "execution_count": null,
   "id": "957364e2",
   "metadata": {},
   "outputs": [],
   "source": [
    "search.best_params_"
   ]
  },
  {
   "cell_type": "code",
   "execution_count": null,
   "id": "dd74cd45",
   "metadata": {},
   "outputs": [],
   "source": [
    "gb=search.best_estimator_\n",
    "test_pred = gb.predict(X_val)\n",
    "train_pred = gb.predict(X_train)\n",
    "trainrmse = np.sqrt(metrics.mean_squared_error(y_train, train_pred ))\n",
    "rms = np.sqrt(metrics.mean_squared_error(y_val, val_pred))\n",
    "print(\"RMSE train :\",trainrmse)\n",
    "print(\"RMSE val :\",rms)"
   ]
  },
  {
   "cell_type": "markdown",
   "id": "b87914cf",
   "metadata": {},
   "source": [
    "### Feature Importance"
   ]
  },
  {
   "cell_type": "code",
   "execution_count": null,
   "id": "6e5f9c2f",
   "metadata": {},
   "outputs": [],
   "source": [
    "feature_importance = gb.feature_importances_\n",
    "sorted_idx = np.argsort(feature_importance)\n",
    "pos = np.arange(sorted_idx.shape[0]) + .5\n",
    "fig = plt.figure(figsize=(12, 6))\n",
    "plt.subplot(1, 2, 1)\n",
    "plt.barh(pos, feature_importance[sorted_idx], align='center')\n",
    "plt.yticks(pos, np.array(done)[sorted_idx])\n",
    "plt.title('Feature Importance (MDI)')\n",
    "plt.show()"
   ]
  },
  {
   "cell_type": "markdown",
   "id": "eea48df1",
   "metadata": {},
   "source": [
    "#### XGBRegressor "
   ]
  },
  {
   "cell_type": "code",
   "execution_count": null,
   "id": "8f08a5cb",
   "metadata": {},
   "outputs": [],
   "source": [
    "xgb_regressor= xgb.XGBRegressor(colsample_bytree=0.4603, gamma=0.0468, \n",
    "                             learning_rate=0.05, max_depth=3, \n",
    "                             min_child_weight=1.7817, n_estimators=2200,\n",
    "                             reg_alpha=0.4640, reg_lambda=0.8571,\n",
    "                             subsample=0.5213,verbosity=0, nthread = -1, random_state = random_state)\n",
    "score = rmse(xgb_regressor)\n",
    "score_val = rmse_val(xgb_regressor)\n",
    "models_scores.append(['XGBRegressor', score])\n",
    "print(f'XGBRegressor Score= {score}')\n",
    "print(f'XGBRegressor Score= {score_val}')"
   ]
  },
  {
   "cell_type": "markdown",
   "id": "39f2a6e6",
   "metadata": {},
   "source": [
    "#### LGBMRegressor"
   ]
  },
  {
   "cell_type": "code",
   "execution_count": null,
   "id": "f134e050",
   "metadata": {},
   "outputs": [],
   "source": [
    "import re\n",
    "X_train= X_train.rename(columns = lambda x:re.sub('[^A-Za-z0-9_]+', '', x))\n",
    "\n",
    "lgbm_regressor = lgb.LGBMRegressor(objective='regression',num_leaves=5,\n",
    "                              learning_rate=0.05, n_estimators=720,\n",
    "                              max_bin = 55, bagging_fraction = 0.8,\n",
    "                              bagging_freq = 5, feature_fraction = 0.2319,\n",
    "                              feature_fraction_seed=9, bagging_seed=9,\n",
    "                              min_data_in_leaf =6, min_sum_hessian_in_leaf = 11,random_state = random_state)\n",
    "\n",
    "score = rmse(lgbm_regressor)\n",
    "models_scores.append(['LGBMRegressor', score])\n",
    "print(f'LGBMRegressor Score= {score}')"
   ]
  },
  {
   "cell_type": "markdown",
   "id": "9c7f79ce",
   "metadata": {},
   "source": [
    "### Stacking"
   ]
  },
  {
   "cell_type": "code",
   "execution_count": null,
   "id": "679982c0",
   "metadata": {},
   "outputs": [],
   "source": [
    "estimators = [ ('elastic_net', elastic_net),('xgb_regressor', xgb_regressor) ]\n",
    "\n",
    "stack = StackingRegressor(estimators=estimators, final_estimator= lasso, cv= 5, n_jobs= n_jobs, passthrough = True)\n",
    "\n",
    "stack.fit(X_train, y_train)\n",
    "\n",
    "pred = stack.predict(X_test)\n",
    "\n",
    "rmse_val = mean_squared_error(y_test, pred, squared= False) # squared= False > returns Root Mean Square Error    \n",
    "models_scores.append(['Stacking', rmse_val])\n",
    "print(f'rmse= {rmse_val}')"
   ]
  },
  {
   "cell_type": "code",
   "execution_count": null,
   "id": "df736fd2",
   "metadata": {},
   "outputs": [],
   "source": [
    "# d=pd.DataFrame(models_scores2,columns=['Model', 'RMSE Train'])\n",
    "d=pd.DataFrame(models_scores,columns=['Model', 'RMSE Train'])\n",
    "d.sort_values(by=['RMSE Train'], ascending=True)"
   ]
  },
  {
   "cell_type": "markdown",
   "id": "08df1d0f",
   "metadata": {},
   "source": [
    "## Validation"
   ]
  },
  {
   "cell_type": "code",
   "execution_count": null,
   "id": "3e9ab739",
   "metadata": {},
   "outputs": [],
   "source": [
    "n_folds = 5\n",
    "\n",
    "def rmsle_cv(model):\n",
    "    kf = KFold(n_folds, shuffle=True, random_state=42).get_n_splits(X_train.values)\n",
    "    rmse= np.sqrt(-cross_val_score(model, X_train.values, y_train, scoring=\"neg_mean_squared_error\", cv = kf))\n",
    "    return(rmse)\n",
    "d=rmsle_cv(rf)"
   ]
  },
  {
   "cell_type": "code",
   "execution_count": null,
   "id": "11cdf330",
   "metadata": {},
   "outputs": [],
   "source": []
  }
 ],
 "metadata": {
  "kernelspec": {
   "display_name": "Python 3 (ipykernel)",
   "language": "python",
   "name": "python3"
  },
  "language_info": {
   "codemirror_mode": {
    "name": "ipython",
    "version": 3
   },
   "file_extension": ".py",
   "mimetype": "text/x-python",
   "name": "python",
   "nbconvert_exporter": "python",
   "pygments_lexer": "ipython3",
   "version": "3.9.6"
  }
 },
 "nbformat": 4,
 "nbformat_minor": 5
}
