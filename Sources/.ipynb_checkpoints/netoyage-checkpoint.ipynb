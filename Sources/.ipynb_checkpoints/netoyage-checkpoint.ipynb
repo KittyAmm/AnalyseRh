{
 "cells": [
  {
   "cell_type": "code",
   "execution_count": 21,
   "id": "8b9441a6",
   "metadata": {
    "pycharm": {
     "is_executing": true
    }
   },
   "outputs": [],
   "source": [
    "import pandas as pd\n",
    "import numpy as np\n",
    "import matplotlib.pyplot as plt\n",
    "import seaborn as sns\n",
    "from plotly.subplots import make_subplots\n",
    "import plotly.graph_objects as go\n",
    "import plotly.express as px"
   ]
  },
  {
   "cell_type": "code",
   "execution_count": 2,
   "id": "1082d4b6",
   "metadata": {},
   "outputs": [
    {
     "data": {
      "text/html": [
       "<div>\n",
       "<style scoped>\n",
       "    .dataframe tbody tr th:only-of-type {\n",
       "        vertical-align: middle;\n",
       "    }\n",
       "\n",
       "    .dataframe tbody tr th {\n",
       "        vertical-align: top;\n",
       "    }\n",
       "\n",
       "    .dataframe thead th {\n",
       "        text-align: right;\n",
       "    }\n",
       "</style>\n",
       "<table border=\"1\" class=\"dataframe\">\n",
       "  <thead>\n",
       "    <tr style=\"text-align: right;\">\n",
       "      <th></th>\n",
       "      <th>sexe</th>\n",
       "      <th>date_naiss</th>\n",
       "      <th>age</th>\n",
       "      <th>sit_fam</th>\n",
       "      <th>job_ok</th>\n",
       "      <th>nbre_enf</th>\n",
       "      <th>nature</th>\n",
       "      <th>design</th>\n",
       "      <th>ann_dipl</th>\n",
       "      <th>ordre</th>\n",
       "      <th>...</th>\n",
       "      <th>poste_act</th>\n",
       "      <th>job_act</th>\n",
       "      <th>dt_echeance</th>\n",
       "      <th>tot_afct</th>\n",
       "      <th>lieu_af</th>\n",
       "      <th>motif_affect</th>\n",
       "      <th>fonction_af</th>\n",
       "      <th>division_af</th>\n",
       "      <th>service_af</th>\n",
       "      <th>direction_af</th>\n",
       "    </tr>\n",
       "  </thead>\n",
       "  <tbody>\n",
       "    <tr>\n",
       "      <th>0</th>\n",
       "      <td>MASCULIN</td>\n",
       "      <td>26/07/1974</td>\n",
       "      <td>44 ans 05 mois 01 jours</td>\n",
       "      <td>MARIE(E)</td>\n",
       "      <td>0</td>\n",
       "      <td>1</td>\n",
       "      <td>DIPLOME</td>\n",
       "      <td>CERTIFICAT D'ETUDES PRIMAIRES ELEMENTAIRES</td>\n",
       "      <td>NaN</td>\n",
       "      <td>1</td>\n",
       "      <td>...</td>\n",
       "      <td>22TP</td>\n",
       "      <td>ECOREUR</td>\n",
       "      <td>2019-02-09</td>\n",
       "      <td>3</td>\n",
       "      <td>ANTSIRANANA</td>\n",
       "      <td>COMPLEMENT D'EFFECTIF</td>\n",
       "      <td>NaN</td>\n",
       "      <td>NaN</td>\n",
       "      <td>SOC</td>\n",
       "      <td>DSE</td>\n",
       "    </tr>\n",
       "    <tr>\n",
       "      <th>1</th>\n",
       "      <td>MASCULIN</td>\n",
       "      <td>11/06/1979</td>\n",
       "      <td>39 ans 06 mois 16 jours</td>\n",
       "      <td>MARIE(E)</td>\n",
       "      <td>1</td>\n",
       "      <td>2</td>\n",
       "      <td>CERTIFICAT</td>\n",
       "      <td>GRAPHISTE ET MAQUETTISTE</td>\n",
       "      <td>NaN</td>\n",
       "      <td>6</td>\n",
       "      <td>...</td>\n",
       "      <td>22TP</td>\n",
       "      <td>CHEF DE SITE INFORMATIQUE</td>\n",
       "      <td>2013-12-22</td>\n",
       "      <td>1</td>\n",
       "      <td>TOAMASINA-PETROLES</td>\n",
       "      <td>NaN</td>\n",
       "      <td>CHEF DE SITE</td>\n",
       "      <td>NaN</td>\n",
       "      <td>SOC</td>\n",
       "      <td>DSE</td>\n",
       "    </tr>\n",
       "    <tr>\n",
       "      <th>2</th>\n",
       "      <td>MASCULIN</td>\n",
       "      <td>11/06/1979</td>\n",
       "      <td>39 ans 06 mois 16 jours</td>\n",
       "      <td>MARIE(E)</td>\n",
       "      <td>1</td>\n",
       "      <td>2</td>\n",
       "      <td>DIPLOME</td>\n",
       "      <td>DIPLOME D'INGENIEUR EN GENIE ELECTRONIQUE MANAGER</td>\n",
       "      <td>2008.0</td>\n",
       "      <td>1</td>\n",
       "      <td>...</td>\n",
       "      <td>22TP</td>\n",
       "      <td>CHEF DE SITE INFORMATIQUE</td>\n",
       "      <td>2013-12-22</td>\n",
       "      <td>1</td>\n",
       "      <td>TOAMASINA-PETROLES</td>\n",
       "      <td>NaN</td>\n",
       "      <td>CHEF DE SITE</td>\n",
       "      <td>NaN</td>\n",
       "      <td>SOC</td>\n",
       "      <td>DSE</td>\n",
       "    </tr>\n",
       "    <tr>\n",
       "      <th>3</th>\n",
       "      <td>MASCULIN</td>\n",
       "      <td>11/06/1979</td>\n",
       "      <td>39 ans 06 mois 16 jours</td>\n",
       "      <td>MARIE(E)</td>\n",
       "      <td>1</td>\n",
       "      <td>2</td>\n",
       "      <td>DIPLOME</td>\n",
       "      <td>DIPLOME DE TECHNICIEN SUPERIEUR EN ELECTRONIQUE</td>\n",
       "      <td>2000.0</td>\n",
       "      <td>2</td>\n",
       "      <td>...</td>\n",
       "      <td>22TP</td>\n",
       "      <td>CHEF DE SITE INFORMATIQUE</td>\n",
       "      <td>2013-12-22</td>\n",
       "      <td>1</td>\n",
       "      <td>TOAMASINA-PETROLES</td>\n",
       "      <td>NaN</td>\n",
       "      <td>CHEF DE SITE</td>\n",
       "      <td>NaN</td>\n",
       "      <td>SOC</td>\n",
       "      <td>DSE</td>\n",
       "    </tr>\n",
       "    <tr>\n",
       "      <th>4</th>\n",
       "      <td>MASCULIN</td>\n",
       "      <td>11/06/1979</td>\n",
       "      <td>39 ans 06 mois 16 jours</td>\n",
       "      <td>MARIE(E)</td>\n",
       "      <td>1</td>\n",
       "      <td>2</td>\n",
       "      <td>CERTIFICAT</td>\n",
       "      <td>ADMINISTRATION RESEAUX-AUF JREWS</td>\n",
       "      <td>NaN</td>\n",
       "      <td>2</td>\n",
       "      <td>...</td>\n",
       "      <td>22TP</td>\n",
       "      <td>CHEF DE SITE INFORMATIQUE</td>\n",
       "      <td>2013-12-22</td>\n",
       "      <td>1</td>\n",
       "      <td>TOAMASINA-PETROLES</td>\n",
       "      <td>NaN</td>\n",
       "      <td>CHEF DE SITE</td>\n",
       "      <td>NaN</td>\n",
       "      <td>SOC</td>\n",
       "      <td>DSE</td>\n",
       "    </tr>\n",
       "  </tbody>\n",
       "</table>\n",
       "<p>5 rows × 27 columns</p>\n",
       "</div>"
      ],
      "text/plain": [
       "       sexe  date_naiss                      age   sit_fam  job_ok  nbre_enf  \\\n",
       "0  MASCULIN  26/07/1974  44 ans 05 mois 01 jours  MARIE(E)       0         1   \n",
       "1  MASCULIN  11/06/1979  39 ans 06 mois 16 jours  MARIE(E)       1         2   \n",
       "2  MASCULIN  11/06/1979  39 ans 06 mois 16 jours  MARIE(E)       1         2   \n",
       "3  MASCULIN  11/06/1979  39 ans 06 mois 16 jours  MARIE(E)       1         2   \n",
       "4  MASCULIN  11/06/1979  39 ans 06 mois 16 jours  MARIE(E)       1         2   \n",
       "\n",
       "       nature                                             design  ann_dipl  \\\n",
       "0     DIPLOME         CERTIFICAT D'ETUDES PRIMAIRES ELEMENTAIRES       NaN   \n",
       "1  CERTIFICAT                           GRAPHISTE ET MAQUETTISTE       NaN   \n",
       "2     DIPLOME  DIPLOME D'INGENIEUR EN GENIE ELECTRONIQUE MANAGER    2008.0   \n",
       "3     DIPLOME    DIPLOME DE TECHNICIEN SUPERIEUR EN ELECTRONIQUE    2000.0   \n",
       "4  CERTIFICAT                   ADMINISTRATION RESEAUX-AUF JREWS       NaN   \n",
       "\n",
       "   ordre  ... poste_act                    job_act dt_echeance tot_afct  \\\n",
       "0      1  ...      22TP                    ECOREUR  2019-02-09        3   \n",
       "1      6  ...      22TP  CHEF DE SITE INFORMATIQUE  2013-12-22        1   \n",
       "2      1  ...      22TP  CHEF DE SITE INFORMATIQUE  2013-12-22        1   \n",
       "3      2  ...      22TP  CHEF DE SITE INFORMATIQUE  2013-12-22        1   \n",
       "4      2  ...      22TP  CHEF DE SITE INFORMATIQUE  2013-12-22        1   \n",
       "\n",
       "              lieu_af           motif_affect   fonction_af division_af  \\\n",
       "0         ANTSIRANANA  COMPLEMENT D'EFFECTIF           NaN         NaN   \n",
       "1  TOAMASINA-PETROLES                    NaN  CHEF DE SITE         NaN   \n",
       "2  TOAMASINA-PETROLES                    NaN  CHEF DE SITE         NaN   \n",
       "3  TOAMASINA-PETROLES                    NaN  CHEF DE SITE         NaN   \n",
       "4  TOAMASINA-PETROLES                    NaN  CHEF DE SITE         NaN   \n",
       "\n",
       "  service_af direction_af  \n",
       "0        SOC          DSE  \n",
       "1        SOC          DSE  \n",
       "2        SOC          DSE  \n",
       "3        SOC          DSE  \n",
       "4        SOC          DSE  \n",
       "\n",
       "[5 rows x 27 columns]"
      ]
     },
     "execution_count": 2,
     "metadata": {},
     "output_type": "execute_result"
    }
   ],
   "source": [
    "data=pd.read_csv(\"data/rhdata.csv\")\n",
    "data.head()"
   ]
  },
  {
   "cell_type": "code",
   "execution_count": 3,
   "id": "98d77ea5",
   "metadata": {},
   "outputs": [],
   "source": [
    "df = data.copy()\n",
    "qualitative = []\n",
    "quantitative = []\n",
    "\n",
    "for variable in df.columns.tolist():\n",
    "    if df.dtypes[variable] in ['float64', 'int64']:\n",
    "        quantitative.append(variable)\n",
    "    else :\n",
    "        qualitative.append(variable)"
   ]
  },
  {
   "cell_type": "code",
   "execution_count": 4,
   "id": "870f70b1",
   "metadata": {},
   "outputs": [
    {
     "data": {
      "text/plain": [
       "array(['MASCULIN', 'FEMININ'], dtype=object)"
      ]
     },
     "execution_count": 4,
     "metadata": {},
     "output_type": "execute_result"
    }
   ],
   "source": [
    "df[qualitative[0]].unique()"
   ]
  },
  {
   "cell_type": "code",
   "execution_count": 5,
   "id": "d0caba64",
   "metadata": {},
   "outputs": [
    {
     "data": {
      "text/plain": [
       "array(['26/07/1974', '11/06/1979', '07/05/1970', ..., '24/04/1974',\n",
       "       '17/05/1991', '06/01/1981'], dtype=object)"
      ]
     },
     "execution_count": 5,
     "metadata": {},
     "output_type": "execute_result"
    }
   ],
   "source": [
    "df[qualitative[1]].unique()"
   ]
  },
  {
   "cell_type": "code",
   "execution_count": 6,
   "id": "0a14c53b",
   "metadata": {},
   "outputs": [
    {
     "data": {
      "text/plain": [
       "array(['44 ans 05 mois 01 jours', '39 ans 06 mois 16 jours',\n",
       "       '48 ans 07 mois 20 jours', ..., '46 ans 04 mois 04 jours',\n",
       "       '29 ans 03 mois 11 jours', '39 ans 07 mois 20 jours'], dtype=object)"
      ]
     },
     "execution_count": 6,
     "metadata": {},
     "output_type": "execute_result"
    }
   ],
   "source": [
    "df[qualitative[2]].unique()"
   ]
  },
  {
   "cell_type": "code",
   "execution_count": 7,
   "id": "3878d57f",
   "metadata": {},
   "outputs": [],
   "source": [
    "import re\n",
    "d=df[qualitative[2]]\n",
    "d=list(d)\n",
    "for index, value in enumerate(d):\n",
    "        numbers = [float(s) for s in re.findall(r'-?\\d+\\.?\\d*', value)]\n",
    "        d[index]=numbers[0]\n",
    "\n",
    "df[qualitative[2]] = [float(v) for v in d]"
   ]
  },
  {
   "cell_type": "code",
   "execution_count": 21,
   "id": "7af554e2",
   "metadata": {},
   "outputs": [
    {
     "data": {
      "text/plain": [
       "array(['MARIE(E)', 'DIVORCE(E)', 'CELIBATAIRE', 'VEUF(VE)', nan],\n",
       "      dtype=object)"
      ]
     },
     "execution_count": 21,
     "metadata": {},
     "output_type": "execute_result"
    }
   ],
   "source": [
    "df[qualitative[3]].unique()"
   ]
  },
  {
   "cell_type": "code",
   "execution_count": 9,
   "id": "5c900917",
   "metadata": {},
   "outputs": [
    {
     "data": {
      "text/plain": [
       "array(['DIPLOME', 'CERTIFICAT', 'FORMATION', 'ATTESTATION',\n",
       "       'APTITUDE PROFESSIONNEL', 'APTITUDE PROFESSIONNELLE'], dtype=object)"
      ]
     },
     "execution_count": 9,
     "metadata": {},
     "output_type": "execute_result"
    }
   ],
   "source": [
    "df[qualitative[4]].unique()"
   ]
  },
  {
   "cell_type": "code",
   "execution_count": 10,
   "id": "1d1c0cb2",
   "metadata": {},
   "outputs": [
    {
     "data": {
      "text/plain": [
       "array([\"CERTIFICAT D'ETUDES PRIMAIRES ELEMENTAIRES\",\n",
       "       'GRAPHISTE ET MAQUETTISTE',\n",
       "       \"DIPLOME D'INGENIEUR EN GENIE ELECTRONIQUE MANAGER\", ...,\n",
       "       'MASTER 1', 'LICENCE EN ECONOMIE-GESTION',\n",
       "       'MASTER EN CONTROLE DE GESTION ET AUDIT OPERATIONNEL'],\n",
       "      dtype=object)"
      ]
     },
     "execution_count": 10,
     "metadata": {},
     "output_type": "execute_result"
    }
   ],
   "source": [
    "df[qualitative[5]].unique()"
   ]
  },
  {
   "cell_type": "code",
   "execution_count": 11,
   "id": "b3c6b54b",
   "metadata": {},
   "outputs": [
    {
     "data": {
      "text/plain": [
       "array(['CONCOURS DIRECT', \"CONTRAT D'ENGAGEMENT\", \"DECISION D'ENGAGEMENT\",\n",
       "       'AFFECTATION DEFINITIVE', 'DETACHEMENT', nan], dtype=object)"
      ]
     },
     "execution_count": 11,
     "metadata": {},
     "output_type": "execute_result"
    }
   ],
   "source": [
    "df[qualitative[6]].unique()"
   ]
  },
  {
   "cell_type": "code",
   "execution_count": 12,
   "id": "11afa436",
   "metadata": {},
   "outputs": [],
   "source": [
    "df[qualitative[7]].unique()\n",
    "data_y = df[qualitative[7]]\n",
    "\n",
    "df[qualitative[7]]=pd.to_datetime(data_y).dt.year"
   ]
  },
  {
   "cell_type": "code",
   "execution_count": 13,
   "id": "e4004f15",
   "metadata": {},
   "outputs": [
    {
     "data": {
      "text/plain": [
       "array(['PREPOSE DES DOUANES', 'EFA4', 'CONTROLEUR DES DOUANES',\n",
       "       'INSPECTEUR DES DOUANES', 'AGENT DE CONSTATATION DES DOUANES',\n",
       "       'SOUS-CHEF DE BUREAU DES SCES FINANCIERS', 'EFA3', 'ELD4', 'EFA2',\n",
       "       \"AGENT D'ENCADREMENT DES DOUANES\",\n",
       "       \"ADMINISTRATEUR DE SERVICE DE L' A.N.\", 'EFA1',\n",
       "       'EMPLOYE DE COURTE DUREE', 'PROFESSEUR CERTIFIE', 'EFA8',\n",
       "       'INGENIEUR PRINCIPAL DE LA STATISTIQUE', 'EFA6', 'EFA5',\n",
       "       'CHEF DE BUREAU DES SCES FINANCIERS', 'PERCEPTEUR DES FINANCES',\n",
       "       'ADMINISTRATEUR CIVIL',\n",
       "       \"ASSISTANT D'ENSEIGNEMENT SUPERIEUR ET DE RECHERCHE\",\n",
       "       'CONTROLEUR DES IMPOTS',\n",
       "       'INSPECTEUR DU TRAVAIL ET DES LOIS SOCIALES', 'OFFICIER DE POLICE',\n",
       "       \"ADJOINT D'ADMINISTRATION\", 'MILITAIRE',\n",
       "       'INSPECTEUR PENITENTIAIRE', \"ASSISTANT D'ADMINISTRATION\", 'EFA7',\n",
       "       nan, \"ADMINISTRATEUR D'UNIVERSITE\", 'EFA9',\n",
       "       'ADMINISTRATEUR DES SCES FINANCIERS'], dtype=object)"
      ]
     },
     "execution_count": 13,
     "metadata": {},
     "output_type": "execute_result"
    }
   ],
   "source": [
    "df[qualitative[8]].unique()"
   ]
  },
  {
   "cell_type": "code",
   "execution_count": 14,
   "id": "e70da2bd",
   "metadata": {},
   "outputs": [
    {
     "data": {
      "text/plain": [
       "array(['42MG', '22TP', '34AS', '12IV', '21TO', 'DGD', 'SAI', 'SAF', 'SRI',\n",
       "       nan, '53TL', 'SLF', '25BT', 'SED', '11AN', 'SS', 'SLR', 'DSCD',\n",
       "       '24SM', 'PRMP', 'AUTRES', 'SAGD', 'SAJC', 'SID', 'SDI', 'SAGRH',\n",
       "       'SDC', '51MD', '35NB', 'SRH', 'SE/DSCD', '32SA', 'SFRC/DNF',\n",
       "       'SCAP', 'SCDD', '13AB', '31AH', 'SVO', 'DESD', 'DLRE', 'DAJLF',\n",
       "       'SCD', 'CCSEAD', '62MJ', '41AL', 'SCRS', '16ZE', '54TG', '17ZO',\n",
       "       '15ZS', '61MK', 'DTERD', 'SCC', '63FI', 'DAGD', 'DSE', 'SSD',\n",
       "       'BUDORS', 'SBID', 'SST', 'SSAE', 'SCSR', 'CIR', 'DAAD', '23MA',\n",
       "       'ENSD', 'SCRU', 'SI', 'SSLC', 'DNFP', 'SRAR', 'SOC', 'DLV',\n",
       "       'SRDAAMI', 'SE', '33VO', 'DLSD', 'SAE', '14MA', 'SSOC', 'SF',\n",
       "       'CPERF', 'CDL'], dtype=object)"
      ]
     },
     "execution_count": 14,
     "metadata": {},
     "output_type": "execute_result"
    }
   ],
   "source": [
    "df[qualitative[9]].unique()"
   ]
  },
  {
   "cell_type": "code",
   "execution_count": 15,
   "id": "c13dc09a",
   "metadata": {},
   "outputs": [],
   "source": [
    "df[qualitative[10]].unique()\n",
    "df[qualitative[10]]=pd.to_datetime(df[qualitative[10]]).dt.year"
   ]
  },
  {
   "cell_type": "code",
   "execution_count": 16,
   "id": "518970d8",
   "metadata": {},
   "outputs": [],
   "source": [
    "df[qualitative[11]]=pd.to_datetime(df[qualitative[11]]).dt.year"
   ]
  },
  {
   "cell_type": "code",
   "execution_count": 17,
   "id": "950bb102",
   "metadata": {},
   "outputs": [
    {
     "data": {
      "text/plain": [
       "array(['22TP', '21TO', '25BT', '11AN', '35NB', 'SAE', '13AB', 'DGD',\n",
       "       '31AH', 'SLF', 'SRH', 'SI', '34AS', '33VO', '14MA', '12IV', '42MG',\n",
       "       '54TG', '32SA', 'DSE', 'DRF', 'SAJC', 'SCAP', 'SID', 'SRAR',\n",
       "       'PRMP', 'ILMAU', 'SLR', '63FI', '53TL', 'SDC', 'CDL', 'BSTNR',\n",
       "       'CPERF', 'BSTMM', 'SPCB', 'DAJLF', 'SE', 'SVO', 'SF', 'SSLC',\n",
       "       'SRI', '61MK', 'SCSR', '62MJ', 'GNV', 'SSOC', 'DSCD', 'DLV', 'PRS',\n",
       "       'BRX', '51MD', '24SM', 'SSAE', 'PSMJG', 'AUTRES', '23MA', 'PSTUL',\n",
       "       'PSTAO', 'PSNSB'], dtype=object)"
      ]
     },
     "execution_count": 17,
     "metadata": {},
     "output_type": "execute_result"
    }
   ],
   "source": [
    "df[qualitative[12]].unique()"
   ]
  },
  {
   "cell_type": "code",
   "execution_count": 18,
   "id": "4f557010",
   "metadata": {},
   "outputs": [
    {
     "data": {
      "text/plain": [
       "array(['ECOREUR', 'CHEF DE SITE INFORMATIQUE',\n",
       "       'AGENT DE VISITE SECTION CONTENTIEUSES',\n",
       "       'CHARGE DU SUIVI ET ET FRCHS PROVSR', 'ADJOINT AU RECEVEUR',\n",
       "       'VERIFICATEUR-CTX-BILLETEUR', 'CHEF DES OPERATIONS COMMERCIALES',\n",
       "       'CHEF DE SERVICE SAE', 'Visiteur', \"AGENT D'ACCUEIL\",\n",
       "       'CHARGE DE MISSION PROCESSUS INTEGRAL', 'LIQUIDATEUR',\n",
       "       'RECEVEUR DES DOUANES 35NB', 'CHAUFFEUR',\n",
       "       'CHARGE AVANCEMENT AGENTS NON ENCADRES',\n",
       "       'CHEF DE DIVISION DE SUIVI FONCTIONNEL',\n",
       "       'CHEF DES OPERATIONS COMMERCIALES-BILLETEUR', nan, 'CHEF DE POSTE',\n",
       "       'CHAUFFEUR-CHARGE DU PERSONNEL', 'AGENT DE BRIGADE', 'PLANTON',\n",
       "       'RECEVEUR DES DOUANES 33VO-BILLETEUR', 'AGENT DE SURVEILLANCE',\n",
       "       'RECEVEUR DES DOUANES 54TG-BILLETEUR',\n",
       "       'CHARGE DE MISSION SUR ASSAINISSEMENT ZF ET EF', 'VERIFICATEUR',\n",
       "       'RECEVEUR DES DOUANES 11AN', 'RECEVEUR DES DOUANES 25BT',\n",
       "       'CHARGE DU TRANSIT', 'BILLETEUR', 'CHARGE DE LA COMPTABILITE',\n",
       "       'SECRETAIRE', 'CHARGE DE LA REPARTITION DES AMENDES',\n",
       "       'AGENT DE BRIGADE UMS', 'BRIGADE',\n",
       "       'UNITE DE GESTION DES PASSATIONS DE MARCHE',\n",
       "       'RESPONSABLE DE LA FORMATION',\n",
       "       'CONSEILLER AUX AFFAIRES DOUANIERES', 'REPRESENTANT AU CIM',\n",
       "       'RECEVEUR DES DOUANES', 'CHEF DE PROJET SYDONIA WORD', 'COPDIV',\n",
       "       'RECEVEUR DES DOUANES 53TL',\n",
       "       'CHARGE DE MISSION SUR PARTENARIAT SOCIAL', 'OPERATEUR DE SAISIE',\n",
       "       'CHEF CONTENTIEUX-VERIFICATEUR',\n",
       "       'CHARGE DU RAPPROCHEMENT DES DONNEES COMPTABLES',\n",
       "       'CHEF DE DIVISION', 'CHARGE DE MANDATEMENT',\n",
       "       'CHEF DE DIVISION SOLDE', 'CHEF DE POSTE U.M.S.',\n",
       "       'CHARGE DU CONGE', \"CHARGE DU TRANSIT-CHEF D'EQUIPE AEROPORT\",\n",
       "       'AGENT ECOREUR', 'REPRESENTANT DE LA DOUANE AU C.I.M.',\n",
       "       'CHEF DE DIVISION COMMUNICATION INTERNE', 'Secr?taire',\n",
       "       'INFORMATICIEN ANALYSTE DE MANIFESTE', 'RECEVEUR DES DOUANES 63FI',\n",
       "       'CHEF DE DIVISION CONTENTIEUX',\n",
       "       'COORDONNATEUR DU CENTRE DE LIQUIDATION', 'INFORMATICIEN',\n",
       "       'CHEF DE DIVISION INSPECTION', 'CHARGE DU SUIVI DES TRANSITS',\n",
       "       'ADMINISTRATEUR DE SITE',\n",
       "       'CHEF DE DIVISION INFORMATIQUE DECISIONNELLE',\n",
       "       'CHEF DE PROJET ADJOINT SYDONIA WORD',\n",
       "       'CONCEPTEUR EN RESSOURCES HUMAINES', 'GARDIEN',\n",
       "       'COPCO MADARAIL ANTANANARIVO', 'ADJOINT CHEF SECTEUR',\n",
       "       'CHEF DE MISSION ASSAINISSEMENT DES ZEF', 'VERIFICATEUR-CHEF RET',\n",
       "       'CHEF RET-VERIFICATEUR', 'CHARGE AVIS DE PAIEMENT',\n",
       "       'AGENT UNITE MOBILE DE SURVEILLANCE', 'D?positaire Comptable',\n",
       "       'SECRETAIRE-RH', 'V?rificateur-RESP.RH', \"COMPLEMENT D'EFFECTIF\",\n",
       "       'CHARGE DE LA RECEVABILITE', 'AGENT DE LA BRIGADE NIVEAU 1',\n",
       "       'CHEF DE DIVISION APPUI AU SRH', \"CHARGE D'ETUDES REGLEMENTATION\",\n",
       "       'Comptable', 'VAGUEMESTRE', 'CHARGE DE REMBOURSEMENT',\n",
       "       'DEPOSITAIRE COMPTABLE',\n",
       "       'CHEF DE DIVISION LITIGES ET CONTENTIEUX ADMIN.',\n",
       "       'Op?rateur de Saisie', \"CHARGE D'ETUDES\",\n",
       "       'CHEF DE DIVISION RECOUVREMENT', 'DIRECTEUR DAJLF',\n",
       "       'RECEVEUR DES DOUANES 12IV',\n",
       "       'CHEF DE DIVISION SUIVI PROCEDURES ET COORDINATION',\n",
       "       'CHEF DE SERVICE SLR', 'CHEF DE SERVICE SE',\n",
       "       'CHEF DE DIVISION EF/AGOA', '2EME ADJOINT CHEF SECTEUR BSTMM',\n",
       "       'V?rificateur - Liquidateur', 'COORDONNATEUR 21TO',\n",
       "       'COORDONNATEUR', 'V?rificateur',\n",
       "       'CHEF DE DIVISION VALEUR EN DOUANES ET BDD',\n",
       "       'V?rificateur-CHEF CTX', 'CHEF DE DIVISION LEGISLATION',\n",
       "       'CHEF DE DIVISION PROGRAMMATION', \"charg? d'enqu?tes\",\n",
       "       'RESPONSABLE DE LA CELLULE DE GESTION DES PERF',\n",
       "       'CHEF DE DIVISION CONTROLE RET',\n",
       "       'CHEF DE DIVISION FORMATION CONTINUE',\n",
       "       'chef de division du contr?le RET', 'CHEF DE DIVISION TARIF',\n",
       "       'CHARGE DE MISSION SUR LA REALISATION DE GRANDS EVT',\n",
       "       'CHEF DE DIVISION SUIVI STRATEGIQUE',\n",
       "       'CHEF DES OPERATIONS COMMERCIALES 25BT', 'CHEF DE SERVICE SVO',\n",
       "       'RECEVEUR DES DOUANES 34AS',\n",
       "       'CHEF DES OPERATIONS COMMERCIALES 12IV', 'CHEF DE DIVISION UCTS',\n",
       "       'CHEF DE GROUPE ESCALE', 'COORDONNATEUR-VERIFICATEUR',\n",
       "       'CHEF DE DIVISION APPLICATION DES REFORMES',\n",
       "       'RECEVEUR DES DOUANES 13AB', 'CHEF DE SERVICE SPCB',\n",
       "       'CHEF DE SERVICE SID', 'CHEF SECTEUR BS TOAMASINA',\n",
       "       'DIRECTEUR GENERAL', 'CHEF DES OPERATIONS COMMERCIALES 14MA',\n",
       "       '\\x04', 'CHEF DE DIVISION AUDIT',\n",
       "       'CHEF DE DIVISION COOPER. AVEC LES ORG.INTLES',\n",
       "       'CHEF DE DIVISION GESTION ET SUIVI MESSG RISQ', 'IVL',\n",
       "       'CHEF DE SERVICE SI', 'CHEF OPDIV 12IV', 'VISITEUR',\n",
       "       'COORDINATEUR SUPPLEANT DE LA FORMATION INITIALE',\n",
       "       'CHEF DE ZONE QUAI PLAGE', 'AGENT VISITEUR', 'CONTROLEUR ENTREPOT',\n",
       "       'CHARGE DU COURRIER', 'AGENT DE SURVEILLANCE - AGENT VISITEUR',\n",
       "       \"AGENT D'ENLEVEMENT\", 'AGENT DE VISITE MOLE A1',\n",
       "       'CHARGE MANIFESTE', 'AGENT DE BRIGADE MAGASIN',\n",
       "       'CHARGE DU SUIVI MANIFESTE-CHARGE DU MAGASIN DEPOT',\n",
       "       'AGENT DE LA BRIGADE NIVEAU 2', 'ABROGEE', 'Visiteur ESCALE',\n",
       "       'CHARGE ENREGISTREMENT DEVISES', 'MAGASINIER',\n",
       "       'Visiteur Export/Fret', \"AGENT D'INTERVENTION\",\n",
       "       'CHEF DE DIVISION DU CONTR?LE EN ENTREPRISE',\n",
       "       \"CHARGE DE MISSION MISE EN PLACE DU SCE D'ENQU?TE\",\n",
       "       'CHEF DU REGIME ECONOMIQUE ET TRANSIT',\n",
       "       'CHEF DE DIVISION SUIVI DES REGIMES ECONOMIQUES',\n",
       "       'ADJOINT AU RECEVEUR - VERIFICATEUR', 'RECEVEUR DES DOUANES 14MA',\n",
       "       'RECEVEUR DES DOUANES 42MG',\n",
       "       'CHEF DE DIVISION AFFAIRES JURIDIQUES', 'CHEF DE SERVICE SCAP',\n",
       "       'CHARGE DE MISSION APPUI A LA DSE', 'CHEF OPDIV',\n",
       "       'CHEF DE MISSION DEMATERIALISATION ADMINISTRATIVE',\n",
       "       'CHEF DE DIVISION AUDIT ET PROCEDURE',\n",
       "       'CHEF DES OPERATIONS COMMERCIALES ESCALE', 'CHEF RET',\n",
       "       'DIRECTEUR DES SERVICES EXTERIEURS', 'CHEF DE SERVICE SSLC',\n",
       "       'CHEF DE SERVICE DE LA FORMATION', 'RECEVEUR DES DOUANES 22TP',\n",
       "       'CHEF DE MISSION STRATEGIE DE MODERNISATION',\n",
       "       'CHEF DE SERVICE SDC',\n",
       "       'DIRECTEUR DES STATISTIQUES ET DE LA COMPTABILITE',\n",
       "       'DIRECTEUR DE LA LEGISLATION ET DE LA VALEUR',\n",
       "       'FORMATEUR PERMANENT ET CHARGE DE MISSION GPEEC',\n",
       "       'CHEF SECTEUR BSTNR', 'CHEF DE DIVISION APPUI',\n",
       "       'ATTACHE DOUANIER A PARIS', 'CHEF DE SERVICE SRI',\n",
       "       'CHEF DE SERVICE SSOC',\n",
       "       'DIRECTEUR DES RESSOURCES ET DE LA FORMATION',\n",
       "       'CHEF DE DIVISION RENSEIGNEMENT ET INVESTIGATION',\n",
       "       'FORMATEUR PERMANENT', 'CHARGE DE MISSION APPUI A LA DSCD',\n",
       "       'CHEF DE SERVICE SCSR', 'CHEF DE SERVICE SAJC',\n",
       "       'CHEF DE SERVICE SRH', 'VERIFICATEUR-CHEF DES OPDIV ',\n",
       "       'RECEVEUR DES DOUANES 21TO', 'CHEF DE SERVICE SLF',\n",
       "       'AGENT VISITEUR EXPORT', 'CHEF DE ZONE', 'AGENT SCANNER IMPORT',\n",
       "       'Brigade Portail', 'CHEF DE DIVISION MATERIELS', 'VISITEUR ESCALE',\n",
       "       'BILLETEUR-AGENT VISITEUR', 'Agent de surveillance',\n",
       "       'CHEF DE SERVICE SRAR', 'COORDONNATEUR 12IV',\n",
       "       'CHEF DE DIVISION GESTION DE RENSEIGNEMENT ET RIS',\n",
       "       'CHEF UNITE MOBILE DE SURVEILLANCE', 'AGENT DE RENSEIGNEMENT',\n",
       "       'Ecoreur', 'VISITEUR BCB', 'RESPONSABLE MATERIEL-DEP.COMPT.',\n",
       "       'CHARGE CAISSE ET COMPTABILITE', 'CAISSIER',\n",
       "       'AGENT CHARGE DU CONTENTIEUX', 'DEPOSITAIRE COMPTABLE-RESP MAT',\n",
       "       'ADJOINT AU CHEF DE POSTE', 'CHEF DE BRIGADE SLF',\n",
       "       'CHARGE DU PERSONNEL', 'ENCADREUR',\n",
       "       'CHEF DE DIVISION (Attestation de Destination)',\n",
       "       'CHEF DE POSTE-BILLETEUR', 'CHEF DE ZONE MAGASIN SSDOUANE DHL',\n",
       "       'CHEF DE ZONE IMPORT', 'VISITEUR-BILLETEUR', 'CHEF DE ZONE A1',\n",
       "       'AGENT DE VISITE SECTION CONTENTIEUSE', 'ADJOINT CHEF DE POSTE',\n",
       "       'CHEF DE ZONE EXPORT', \"CHARGE D'ENQUETES NIVEAU 2\",\n",
       "       'CHARGE DE  RECOUVREMENT',\n",
       "       'CHEF DE DIVISION ETUDES DISPOSITIONS DOUANIERES',\n",
       "       'CHEF DE SITE INFORM SUPPL - CHARGE DE LA COMPTA',\n",
       "       'CHARGE DU SUIVI DES DOSSIERS AUPRES DES COURS/TRIB',\n",
       "       'AGENT SCANNER -CHARGE MANIFESTE',\n",
       "       'CHEF DE SITE INFORMATIQUE-BILLETEUR', 'CHEF COMPTABLE',\n",
       "       'CHARGE DU SUIVI REGIME DE MISE EN ENTREPOT',\n",
       "       \"CHARGE D'ETUDES DES DISPOSITIONS DOUANIERES\",\n",
       "       'CHARGE DU Suivi FASAD',\n",
       "       'CHEF DE LA DIVISION COOPERATION BILATERALE',\n",
       "       'CHARGE DES ENTREPRISES FRANCHES ET AGOA',\n",
       "       \"CHARGE D'ETUDES DE LA DIV COOP AVEC ORGAN INTLES\",\n",
       "       'REPRESENTANT AU CENTRE IMMATRICULATEUR',\n",
       "       'Charg? des Entreprises Franches - AGOA',\n",
       "       'RESPONSABLE DU PERSONNEL',\n",
       "       'CHEF DE DIVISION DES AFFAIRES ADMINISTRATIVES',\n",
       "       'CHARGE DES AFFAIRES CONTENTIEUSES',\n",
       "       'ASSISTANT DU CD ANALYS RISQ LIES AUX ACTIV MAR',\n",
       "       'RESPONSABLE ADMISSION TEMPORAIRE', 'CHARGE DES MANIFESTES',\n",
       "       'CHEF DE DIVISION LOGISTIQUE ET PERSONNEL', 'ENCADREUR ESCALE',\n",
       "       'CHEF DE DIVISION SUIVI ET STATISTIQUES',\n",
       "       'RECEVEUR DES DOUANES 32MJ', 'CHARGE RET',\n",
       "       'RECEVEUR DES DOUANES 32SA',\n",
       "       'CHEF DE LA DIVISION TENUE ET ARMEMENT',\n",
       "       'Charg?e du suivi des doss aup des cours et tribx',\n",
       "       'CHEF DE POSTE BS TOAMASINA-BILLETEUR',\n",
       "       \"Charg? de l'admission temporaire\",\n",
       "       'Charg?e du recouvrement-DEPOSIT.COMPT.', \"Charg? d'Etudes\",\n",
       "       'RECEVEUR DES DOUANES 24SM', 'CHARGE DES COLIS POSTAUX',\n",
       "       'CHARGEE DOSSIERS ADMISSION TEMPORAIRE', 'COMPTABLE',\n",
       "       \"CHARGE D'ETUDES-DEPOSITAIRE CPTBL\",\n",
       "       'CHEF DE SECTION CTRL EN MER ET MOY. DE TRANSP',\n",
       "       \"COMITE D'APPEL D'OFFRE\",\n",
       "       'CHARGE DE VERIFICATION VOLUME ET QUANTITE', 'AGENT RET',\n",
       "       'CHEF CAISSE', 'CHARGE DU SUIVI DES ZEF',\n",
       "       'CHARGE DU CONTENTIEUX RET', 'CHEF DE SECTION RECEVABILITE',\n",
       "       \"CHARGE D'ETUDES DES REGIMES ECONOMIQUES\",\n",
       "       'CAISSIER DES OPERATIONS A CREDIT',\n",
       "       \"CHEF DE DIVISION VALEUR ENGINS ET TRACTEURS D'OCC.\",\n",
       "       'CHARGE CAISSE', 'RESPONSABLE CAISSE',\n",
       "       'CHARGE SUIVI DU REGIME DE MISE EN ENTREPOT',\n",
       "       'CHARGE RECEVABILITE', 'AGENT SCANNER EXPORT',\n",
       "       \"AGENT D'ENTRETIEN ET DE MAINTENANCE POLYVALENT\",\n",
       "       'CHARGE DE LA DOCUMENTATION', 'Planton',\n",
       "       'Comptable - BILLETEUR SUPPL - ORDSEC suppl',\n",
       "       'BILLETEUR-SECRETAIRE',\n",
       "       'ADJOINT CHEF DE FILE-CHARGE DES AFFAIRES CTX', 'BILLETEUR DGD',\n",
       "       'CHARGE DE LA NAVIGATION', 'CHARGE DE SOUMISSION',\n",
       "       'CHARGE du Suivi du D?lai de D?douanement',\n",
       "       'D?positaire comptable',\n",
       "       'Ordonnateur Secondaire - BILLETEUR SUPPL?ANT',\n",
       "       'ADJOINT CHEF DE SITE INFORMATIQUE', 'AGENT PERMANENT ESCALE',\n",
       "       'AGENT ACCEUIL - PLANTON', 'CHEF DU SERVICE SSAE',\n",
       "       'CHEF DE DIVISION DE LA PROGRAMMATION',\n",
       "       'CHEF DE SITE INFORMATIQUE SUPPLEANT', 'POINT FOCAL DE LA DSE',\n",
       "       'CHARGE DE LA DOCUMENTATION JURIDIQUE',\n",
       "       'CHEF DE DIVISION SECRETARIAT', 'CHEF DE BRIGADE',\n",
       "       'CHEF DE ZONE VISITE', 'AGENT UMS', 'CHARGE DU SUIVI ETAT BLEU',\n",
       "       'CHARGE NAVIG - VERIFICATEUR- CHARGE CAISSE/COMPTA',\n",
       "       'CHARGE DE LA FORMATION CONTINUE', 'CHARGE DE RECOUVREMENT',\n",
       "       'CHARGE DES REGIMES ECONOMIQUES ET DU TRANSIT',\n",
       "       'AGENT SCANNER - CHARGE SOUMISSION',\n",
       "       \"AGENT D'ACCUEIL-CHARGE CAISSE-CHARGE COMPTA\",\n",
       "       'CHARGE DE RECEVABILITE', 'CHEF DE ZONE ESCALE',\n",
       "       'Op?rateur de saisie donn?es', 'CHARGE ACCUEIL',\n",
       "       \"CHARGE D'ETUDES EN AUDIT ET INSPECTION\",\n",
       "       \"CHARGE DU CENTRE D'INFORMATION\", 'CHARGE DU SUIVI DOSSIER SLR',\n",
       "       'AGENT SCANNER-CHARGE TRANSIT', 'CHARGE RECEVABILITE DE LA SLR',\n",
       "       'SECRETAIRE DE DIRECTION', 'COMPTABLE SOLDE',\n",
       "       'CHARGE DE LA LOGISTIQUE', 'CHARGE SUIVI DU DOSSIER DU SLR',\n",
       "       'CHARGE DU MATERIEL', 'CHARGE EF/AGOA',\n",
       "       'CHARGE DE LA NAVIG ET DU MANIFESTE-CHARGE CAISSE',\n",
       "       'CHARGE DES ARCHIVES',\n",
       "       'CHARGE DE LA RECEVABILITE DOSSIERS VEHICULES',\n",
       "       'RESP.CONGE ET VALIDATION', 'CHEF DE DIVISION APPUI A LA DRF',\n",
       "       'SECRETAIRE-PLANTON', \"RESPONSABLE DU PERS - CHARGE D'ETUDES\",\n",
       "       'CHARGE DEPART DU DOSSIER DU SLR', 'PLANTON CONTENTIEUX',\n",
       "       'CHARGE FIN DE CARRIERE', 'Chauffeur - Coursier', 'PLANTON CI-CO',\n",
       "       'planton', 'ASSISTANT', 'CHARGE ARCHIVE ET CLASSEMENT',\n",
       "       'DEVELOPPEUR', 'CHEF DE DIVISION ODD',\n",
       "       \"Charg? d'Etudes - D?positR Cmptble (Chq carbt)\",\n",
       "       \"Agent d'Acceuil du Centre d'Information\",\n",
       "       'CHEF DE DIVISION BANQUE DE DONNEES ET AUTOMATISAT?',\n",
       "       'CHARGE RESEAU ET MAINTENANCE', 'Charg? des statistiques',\n",
       "       'CHEF DE DIVISION ETUDES ET CONCEPTIONS',\n",
       "       'Charg? Communication Externe et Relations Publiq',\n",
       "       'CHEF DE DIVISION EFFECTIF', 'CHARGE RECRUTEMENT ET AFFECTATION',\n",
       "       'CHARGE DU SUIVI DE TRANSIT',\n",
       "       'CHEF DE DIVISION RESEAU ET MAINTENANCE', 'CHEF DE DIVISION DEV',\n",
       "       'CHEF DE DIVISION (Logistique et s?curit?) ',\n",
       "       'CHEF DE LA DIVISION COOPERATION REGIONALE',\n",
       "       \"CHARGE D'ETUDES ATTESTATION DE DESTINATION\",\n",
       "       \"CHEF DE DIVISION D'APPUI SUIVI ET COORDINATION\",\n",
       "       'CHARGE ENREGISTREMENT', 'CHEF DE DIVISION COMM EXT ET REL PUB',\n",
       "       'CHEF DE DIVISION DU SUIVI ADMINISTRATIF',\n",
       "       'SECRETAIRE-CHARGE DU PERSONNEL', 'CHARGE REGISTRES ET IMPRIMES',\n",
       "       'CHARGE ACCUEIL-CHEF DE SITE SUPPLEANT', 'S?cr?taire',\n",
       "       'CHARGE AVANCEMENT AGENTS ENCADRES',\n",
       "       'CHEF DE DIVISION RELATIONS PUBLIQUES ET COMM.EXT.',\n",
       "       'CHARGE SUIVI DOSSIER', 'CHAUFFEUR-COURSIER',\n",
       "       'CHEF DE LA DIVISION PATRIMOINE',\n",
       "       \"CHARGE D'ETUDES aupr?s du Service\",\n",
       "       'CHEF DE DIVISION PARTENARIAT ET COMMUNICATION', 'AUDITEUR',\n",
       "       'SECR?TAIRE', \"CHEF DE DIVISION 'MODELISATION ET ANALYSE ECONOMQ.\",\n",
       "       'CHARGE DE LA VALIDATION', 'PLANTON - GARDIEN',\n",
       "       'COORDINATEUR DE LA FORMATION INITIALE',\n",
       "       \"CHARGE LIQUIDATION D'OFFICE\",\n",
       "       'CHARGE DE DEMATERIALISATION DES DOSSIERS CTX',\n",
       "       'ASSISTANT DIVISION CIBLAGE',\n",
       "       'CHEF DE DIVISION GESTION DU PARC AUTOMOBILE', 'PRMP',\n",
       "       'AGENT POSTE PERMANENCE OPERATIONNELLE',\n",
       "       'CHARGE DE LA RECEVABILITE - AGENT DE SURV ESCALE',\n",
       "       'CHARGE SOUMISSION',\n",
       "       'CHARGE DE LA FORMATION EN PARTENARIAT NATIONAL', 'ANALYSTE',\n",
       "       'CHARGE DU REGIME ECONOMIQUE ET DU TRANSIT',\n",
       "       'CHARGE ETS T BORD- AGENT DE SURVEILLANCE ESCALE',\n",
       "       'CHARGE DEPART DOSSIER', 'TECHNICIEN EN INFORMATIQUE',\n",
       "       'CHARGE DU SUIVI MANIFESTE', 'CHARGE ALIMENTATION SITE WEB',\n",
       "       'CHARGE DE LA COMPTABILITE ET DE LA CAISSE',\n",
       "       'CHARGE DE LA REFORME ET DE LA MODERNISATION',\n",
       "       'CHEF DE DIVISION COORDINATION DES ACTIONS DES US',\n",
       "       'CHEF DE DIVISION CONTROLE SECTORIEL',\n",
       "       'CHEF DE DIVISION VALEUR FOB ENGINS ET TRACTEURS-VR',\n",
       "       'CHARGE DE MANIFESTE ET NAVIGATION',\n",
       "       'CHEF DES OPERATIONS DIVERSES',\n",
       "       \"CHARGE D'ETUDES DE DIV DE L'APPLIC DES REFORMES\",\n",
       "       \"CHARG? D'?TUDES\",\n",
       "       'CHARGE DE LA RECEVA -SECRETAIRE- CHARGE DU PERS',\n",
       "       'AGENT SCANNER-CHARGE MANIFESTE-CHARGE VAE',\n",
       "       'CHARGE DE SUIVI DES DOSSIERS',\n",
       "       'CHARGE DU CONTENTIEUX ET DES ETATS DE REPARTITIONS',\n",
       "       'ANALYSTE DE RENSEIGNEMENT COMMERCIAL',\n",
       "       \"CHARGE D'ETUDES DE LA SELECTIVITE\",\n",
       "       'CHARGE DES ADMISSIONS TEMPORAIRES',\n",
       "       'CHEF DES RET-CHARGE DES AFF CTX', 'COORDINATEUR E-LEARNING',\n",
       "       \"CHARGE D'ETUDES SUIVI STRATEGIQUE\",\n",
       "       \"CHARGE D'ETUDES ENTREP?T ET EXPORTATION TEMP\",\n",
       "       'CHARGE DE LA RECEVABILITE-AGENT DE SURV ESCALE',\n",
       "       \"ASSISTANT AUX CHARGES D'ENQUETES\",\n",
       "       'CHARGE DE DEPOT ET VENTE AUX ENCHERES',\n",
       "       'CHEF DE DIVISION DES AFFAIRES JURIDIQUES',\n",
       "       'CHEF DE DIVISION COOPERATION INTERNATIONALE',\n",
       "       'CHEF DE DIVISION ORIENTATION DU CONTROLE',\n",
       "       'CHEF DE DIVISION INTERVENTION',\n",
       "       'CHEF DE DIVISION INFORMATIQUE ET GESTION DE LA SEL',\n",
       "       'CHEF DE DIVISION DE CONTROLE DES GRANDES ESES'], dtype=object)"
      ]
     },
     "execution_count": 18,
     "metadata": {},
     "output_type": "execute_result"
    }
   ],
   "source": [
    "df[qualitative[13]].unique()"
   ]
  },
  {
   "cell_type": "code",
   "execution_count": 19,
   "id": "57028b8d",
   "metadata": {},
   "outputs": [],
   "source": [
    "df[qualitative[14]]=pd.to_datetime(df[qualitative[14]]).dt.year"
   ]
  },
  {
   "cell_type": "code",
   "execution_count": 20,
   "id": "2b6c623f",
   "metadata": {},
   "outputs": [],
   "source": [
    "df.to_csv(\"data/clean.csv\",index=False)"
   ]
  },
  {
   "cell_type": "code",
   "execution_count": null,
   "id": "c58ae027",
   "metadata": {},
   "outputs": [],
   "source": []
  }
 ],
 "metadata": {
  "kernelspec": {
   "display_name": "Python 3 (ipykernel)",
   "language": "python",
   "name": "python3"
  },
  "language_info": {
   "codemirror_mode": {
    "name": "ipython",
    "version": 3
   },
   "file_extension": ".py",
   "mimetype": "text/x-python",
   "name": "python",
   "nbconvert_exporter": "python",
   "pygments_lexer": "ipython3",
   "version": "3.9.6"
  }
 },
 "nbformat": 4,
 "nbformat_minor": 5
}
