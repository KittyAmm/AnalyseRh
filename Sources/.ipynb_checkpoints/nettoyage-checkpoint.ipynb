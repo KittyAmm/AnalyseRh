{
 "cells": [
  {
   "cell_type": "code",
   "execution_count": 92,
   "id": "8b9441a6",
   "metadata": {},
   "outputs": [],
   "source": [
    "import pandas as pd\n",
    "import numpy as np\n",
    "import matplotlib.pyplot as plt\n",
    "import seaborn as sns\n",
    "from plotly.subplots import make_subplots\n",
    "import plotly.graph_objects as go\n",
    "import plotly.express as px"
   ]
  },
  {
   "cell_type": "code",
   "execution_count": 93,
   "id": "1082d4b6",
   "metadata": {},
   "outputs": [
    {
     "data": {
      "text/html": [
       "<div>\n",
       "<style scoped>\n",
       "    .dataframe tbody tr th:only-of-type {\n",
       "        vertical-align: middle;\n",
       "    }\n",
       "\n",
       "    .dataframe tbody tr th {\n",
       "        vertical-align: top;\n",
       "    }\n",
       "\n",
       "    .dataframe thead th {\n",
       "        text-align: right;\n",
       "    }\n",
       "</style>\n",
       "<table border=\"1\" class=\"dataframe\">\n",
       "  <thead>\n",
       "    <tr style=\"text-align: right;\">\n",
       "      <th></th>\n",
       "      <th>num_im</th>\n",
       "      <th>sexe</th>\n",
       "      <th>date_naiss</th>\n",
       "      <th>age</th>\n",
       "      <th>sit_fam</th>\n",
       "      <th>job_ok</th>\n",
       "      <th>nbre_enf</th>\n",
       "      <th>nature</th>\n",
       "      <th>design</th>\n",
       "      <th>ann_dipl</th>\n",
       "      <th>...</th>\n",
       "      <th>date_ent</th>\n",
       "      <th>corps_ent</th>\n",
       "      <th>poste_ent</th>\n",
       "      <th>date_ps</th>\n",
       "      <th>dat_retraite</th>\n",
       "      <th>poste_act</th>\n",
       "      <th>job_act</th>\n",
       "      <th>dt_echeance</th>\n",
       "      <th>tot_afct</th>\n",
       "      <th>statut_act</th>\n",
       "    </tr>\n",
       "  </thead>\n",
       "  <tbody>\n",
       "    <tr>\n",
       "      <th>0</th>\n",
       "      <td>271 987</td>\n",
       "      <td>FEMININ</td>\n",
       "      <td>10/10/1977</td>\n",
       "      <td>41 ans 02 mois 17 jours</td>\n",
       "      <td>MARIE(E)</td>\n",
       "      <td>0</td>\n",
       "      <td>3</td>\n",
       "      <td>DIPLOME</td>\n",
       "      <td>BACCALAUREAT A2</td>\n",
       "      <td>1995.0</td>\n",
       "      <td>...</td>\n",
       "      <td>1998-09-04</td>\n",
       "      <td>EFA3</td>\n",
       "      <td>DAGD</td>\n",
       "      <td>NaN</td>\n",
       "      <td>2037-10-10</td>\n",
       "      <td>42MG</td>\n",
       "      <td>AGENT SCANNER -CHARGE MANIFESTE</td>\n",
       "      <td>2013-06-29</td>\n",
       "      <td>6</td>\n",
       "      <td>EN FONCTION</td>\n",
       "    </tr>\n",
       "    <tr>\n",
       "      <th>1</th>\n",
       "      <td>271 987</td>\n",
       "      <td>FEMININ</td>\n",
       "      <td>10/10/1977</td>\n",
       "      <td>41 ans 02 mois 17 jours</td>\n",
       "      <td>MARIE(E)</td>\n",
       "      <td>0</td>\n",
       "      <td>3</td>\n",
       "      <td>DIPLOME</td>\n",
       "      <td>BEPC</td>\n",
       "      <td>1991.0</td>\n",
       "      <td>...</td>\n",
       "      <td>1998-09-04</td>\n",
       "      <td>EFA3</td>\n",
       "      <td>DAGD</td>\n",
       "      <td>NaN</td>\n",
       "      <td>2037-10-10</td>\n",
       "      <td>42MG</td>\n",
       "      <td>AGENT SCANNER -CHARGE MANIFESTE</td>\n",
       "      <td>2013-06-29</td>\n",
       "      <td>6</td>\n",
       "      <td>EN FONCTION</td>\n",
       "    </tr>\n",
       "    <tr>\n",
       "      <th>2</th>\n",
       "      <td>271 987</td>\n",
       "      <td>FEMININ</td>\n",
       "      <td>10/10/1977</td>\n",
       "      <td>41 ans 02 mois 17 jours</td>\n",
       "      <td>MARIE(E)</td>\n",
       "      <td>0</td>\n",
       "      <td>3</td>\n",
       "      <td>DIPLOME</td>\n",
       "      <td>CEPE</td>\n",
       "      <td>1986.0</td>\n",
       "      <td>...</td>\n",
       "      <td>1998-09-04</td>\n",
       "      <td>EFA3</td>\n",
       "      <td>DAGD</td>\n",
       "      <td>NaN</td>\n",
       "      <td>2037-10-10</td>\n",
       "      <td>42MG</td>\n",
       "      <td>AGENT SCANNER -CHARGE MANIFESTE</td>\n",
       "      <td>2013-06-29</td>\n",
       "      <td>6</td>\n",
       "      <td>EN FONCTION</td>\n",
       "    </tr>\n",
       "    <tr>\n",
       "      <th>3</th>\n",
       "      <td>271 987</td>\n",
       "      <td>FEMININ</td>\n",
       "      <td>10/10/1977</td>\n",
       "      <td>41 ans 02 mois 17 jours</td>\n",
       "      <td>MARIE(E)</td>\n",
       "      <td>0</td>\n",
       "      <td>3</td>\n",
       "      <td>ATTESTATION</td>\n",
       "      <td>INFORMATIQUE</td>\n",
       "      <td>NaN</td>\n",
       "      <td>...</td>\n",
       "      <td>1998-09-04</td>\n",
       "      <td>EFA3</td>\n",
       "      <td>DAGD</td>\n",
       "      <td>NaN</td>\n",
       "      <td>2037-10-10</td>\n",
       "      <td>42MG</td>\n",
       "      <td>AGENT SCANNER -CHARGE MANIFESTE</td>\n",
       "      <td>2013-06-29</td>\n",
       "      <td>6</td>\n",
       "      <td>EN FONCTION</td>\n",
       "    </tr>\n",
       "    <tr>\n",
       "      <th>4</th>\n",
       "      <td>271 987</td>\n",
       "      <td>FEMININ</td>\n",
       "      <td>10/10/1977</td>\n",
       "      <td>41 ans 02 mois 17 jours</td>\n",
       "      <td>MARIE(E)</td>\n",
       "      <td>0</td>\n",
       "      <td>3</td>\n",
       "      <td>ATTESTATION</td>\n",
       "      <td>ANGLAIS</td>\n",
       "      <td>NaN</td>\n",
       "      <td>...</td>\n",
       "      <td>1998-09-04</td>\n",
       "      <td>EFA3</td>\n",
       "      <td>DAGD</td>\n",
       "      <td>NaN</td>\n",
       "      <td>2037-10-10</td>\n",
       "      <td>42MG</td>\n",
       "      <td>AGENT SCANNER -CHARGE MANIFESTE</td>\n",
       "      <td>2013-06-29</td>\n",
       "      <td>6</td>\n",
       "      <td>EN FONCTION</td>\n",
       "    </tr>\n",
       "  </tbody>\n",
       "</table>\n",
       "<p>5 rows × 23 columns</p>\n",
       "</div>"
      ],
      "text/plain": [
       "    num_im     sexe  date_naiss                      age   sit_fam  job_ok  \\\n",
       "0  271 987  FEMININ  10/10/1977  41 ans 02 mois 17 jours  MARIE(E)       0   \n",
       "1  271 987  FEMININ  10/10/1977  41 ans 02 mois 17 jours  MARIE(E)       0   \n",
       "2  271 987  FEMININ  10/10/1977  41 ans 02 mois 17 jours  MARIE(E)       0   \n",
       "3  271 987  FEMININ  10/10/1977  41 ans 02 mois 17 jours  MARIE(E)       0   \n",
       "4  271 987  FEMININ  10/10/1977  41 ans 02 mois 17 jours  MARIE(E)       0   \n",
       "\n",
       "   nbre_enf       nature           design  ann_dipl  ...    date_ent  \\\n",
       "0         3      DIPLOME  BACCALAUREAT A2    1995.0  ...  1998-09-04   \n",
       "1         3      DIPLOME             BEPC    1991.0  ...  1998-09-04   \n",
       "2         3      DIPLOME             CEPE    1986.0  ...  1998-09-04   \n",
       "3         3  ATTESTATION     INFORMATIQUE       NaN  ...  1998-09-04   \n",
       "4         3  ATTESTATION          ANGLAIS       NaN  ...  1998-09-04   \n",
       "\n",
       "  corps_ent  poste_ent date_ps dat_retraite poste_act  \\\n",
       "0      EFA3       DAGD     NaN   2037-10-10      42MG   \n",
       "1      EFA3       DAGD     NaN   2037-10-10      42MG   \n",
       "2      EFA3       DAGD     NaN   2037-10-10      42MG   \n",
       "3      EFA3       DAGD     NaN   2037-10-10      42MG   \n",
       "4      EFA3       DAGD     NaN   2037-10-10      42MG   \n",
       "\n",
       "                           job_act dt_echeance tot_afct   statut_act  \n",
       "0  AGENT SCANNER -CHARGE MANIFESTE  2013-06-29        6  EN FONCTION  \n",
       "1  AGENT SCANNER -CHARGE MANIFESTE  2013-06-29        6  EN FONCTION  \n",
       "2  AGENT SCANNER -CHARGE MANIFESTE  2013-06-29        6  EN FONCTION  \n",
       "3  AGENT SCANNER -CHARGE MANIFESTE  2013-06-29        6  EN FONCTION  \n",
       "4  AGENT SCANNER -CHARGE MANIFESTE  2013-06-29        6  EN FONCTION  \n",
       "\n",
       "[5 rows x 23 columns]"
      ]
     },
     "execution_count": 93,
     "metadata": {},
     "output_type": "execute_result"
    }
   ],
   "source": [
    "data=pd.read_csv(\"data/rhdata.csv\")\n",
    "data.head()"
   ]
  },
  {
   "cell_type": "code",
   "execution_count": 94,
   "id": "98d77ea5",
   "metadata": {},
   "outputs": [],
   "source": [
    "df = data.copy()\n",
    "qualitative = []\n",
    "quantitative = []\n",
    "\n",
    "for variable in df.columns.tolist():\n",
    "    if df.dtypes[variable] in ['float64', 'int64']:\n",
    "        quantitative.append(variable)\n",
    "    else :\n",
    "        qualitative.append(variable)"
   ]
  },
  {
   "cell_type": "markdown",
   "id": "96b88294",
   "metadata": {},
   "source": [
    "### qualitative"
   ]
  },
  {
   "cell_type": "code",
   "execution_count": 95,
   "id": "c2c81bfd",
   "metadata": {
    "pycharm": {
     "name": "#%%\n"
    }
   },
   "outputs": [
    {
     "data": {
      "text/plain": [
       "['num_im',\n",
       " 'sexe',\n",
       " 'date_naiss',\n",
       " 'age',\n",
       " 'sit_fam',\n",
       " 'nature',\n",
       " 'design',\n",
       " 'mode_ent',\n",
       " 'date_ent',\n",
       " 'corps_ent',\n",
       " 'poste_ent',\n",
       " 'date_ps',\n",
       " 'dat_retraite',\n",
       " 'poste_act',\n",
       " 'job_act',\n",
       " 'dt_echeance',\n",
       " 'statut_act']"
      ]
     },
     "execution_count": 95,
     "metadata": {},
     "output_type": "execute_result"
    }
   ],
   "source": [
    "qualitative"
   ]
  },
  {
   "cell_type": "markdown",
   "id": "3e742a8b",
   "metadata": {},
   "source": [
    "### quantitative"
   ]
  },
  {
   "cell_type": "code",
   "execution_count": 96,
   "id": "e4c2dc0f",
   "metadata": {
    "pycharm": {
     "name": "#%%\n"
    }
   },
   "outputs": [
    {
     "data": {
      "text/plain": [
       "['job_ok', 'nbre_enf', 'ann_dipl', 'ordre', 'annee_ent', 'tot_afct']"
      ]
     },
     "execution_count": 96,
     "metadata": {},
     "output_type": "execute_result"
    }
   ],
   "source": [
    "quantitative"
   ]
  },
  {
   "cell_type": "code",
   "execution_count": 97,
   "id": "870f70b1",
   "metadata": {},
   "outputs": [
    {
     "data": {
      "text/plain": [
       "array(['271 987', '271 988', '271 992', ..., '353 695', '402 429',\n",
       "       '353 659'], dtype=object)"
      ]
     },
     "execution_count": 97,
     "metadata": {},
     "output_type": "execute_result"
    }
   ],
   "source": [
    "#num_im\n",
    "df[qualitative[0]].unique()"
   ]
  },
  {
   "cell_type": "code",
   "execution_count": 98,
   "id": "d0caba64",
   "metadata": {},
   "outputs": [
    {
     "data": {
      "text/plain": [
       "array(['FEMININ', 'MASCULIN'], dtype=object)"
      ]
     },
     "execution_count": 98,
     "metadata": {},
     "output_type": "execute_result"
    }
   ],
   "source": [
    "#sexe\n",
    "df[qualitative[1]].unique()"
   ]
  },
  {
   "cell_type": "code",
   "execution_count": 99,
   "id": "0a14c53b",
   "metadata": {},
   "outputs": [
    {
     "data": {
      "text/plain": [
       "array(['10/10/1977', '25/03/1973', '28/01/1969', ..., '18/01/1988',\n",
       "       '17/05/1991', '06/04/1988'], dtype=object)"
      ]
     },
     "execution_count": 99,
     "metadata": {},
     "output_type": "execute_result"
    }
   ],
   "source": [
    "#date_naiss\n",
    "df[qualitative[2]].unique()"
   ]
  },
  {
   "cell_type": "code",
   "execution_count": 100,
   "id": "6062e4a9",
   "metadata": {
    "pycharm": {
     "name": "#%%\n"
    }
   },
   "outputs": [
    {
     "data": {
      "text/plain": [
       "array(['41 ans 02 mois 17 jours', '45 ans 09 mois 02 jours',\n",
       "       '49 ans 10 mois 29 jours', ..., '32 ans 07 mois 10 jours',\n",
       "       '29 ans 03 mois 11 jours', '32 ans 04 mois 22 jours'], dtype=object)"
      ]
     },
     "execution_count": 100,
     "metadata": {},
     "output_type": "execute_result"
    }
   ],
   "source": [
    "#age\n",
    "df[qualitative[3]].unique()"
   ]
  },
  {
   "cell_type": "code",
   "execution_count": 76,
   "id": "3878d57f",
   "metadata": {},
   "outputs": [],
   "source": [
    "#age\n",
    "import re\n",
    "d=df[qualitative[3]]\n",
    "d=list(d)\n",
    "\n",
    "for index, value in enumerate(d):\n",
    "        numbers = [float(s) for s in re.findall(r'-?\\d+\\.?\\d*', value)]\n",
    "        d[index]=numbers[0]\n",
    "\n",
    "df[qualitative[3]] = [float(v) for v in d]"
   ]
  },
  {
   "cell_type": "code",
   "execution_count": 77,
   "id": "5c900917",
   "metadata": {},
   "outputs": [
    {
     "data": {
      "text/plain": [
       "array(['MARIE(E)', 'CELIBATAIRE', 'DIVORCE(E)', 'VEUF(VE)', nan],\n",
       "      dtype=object)"
      ]
     },
     "execution_count": 77,
     "metadata": {},
     "output_type": "execute_result"
    }
   ],
   "source": [
    "#sit_fam\n",
    "df[qualitative[4]].unique()"
   ]
  },
  {
   "cell_type": "code",
   "execution_count": 78,
   "id": "1d1c0cb2",
   "metadata": {},
   "outputs": [
    {
     "data": {
      "text/plain": [
       "array(['DIPLOME', 'ATTESTATION', 'CERTIFICAT', 'APTITUDE PROFESSIONNEL',\n",
       "       'APTITUDE PROFESSIONNELLE', 'FORMATION'], dtype=object)"
      ]
     },
     "execution_count": 78,
     "metadata": {},
     "output_type": "execute_result"
    }
   ],
   "source": [
    "#nature\n",
    "df[qualitative[5]].unique()"
   ]
  },
  {
   "cell_type": "code",
   "execution_count": 79,
   "id": "b3c6b54b",
   "metadata": {},
   "outputs": [
    {
     "data": {
      "text/plain": [
       "array(['BACCALAUREAT A2', 'BEPC', 'CEPE', ..., 'MASTER 1',\n",
       "       'LICENCE EN ECONOMIE-GESTION', 'MAITRISE EN SCIENCE JURIDIQUE'],\n",
       "      dtype=object)"
      ]
     },
     "execution_count": 79,
     "metadata": {},
     "output_type": "execute_result"
    }
   ],
   "source": [
    "#design\n",
    "df[qualitative[6]].unique()"
   ]
  },
  {
   "cell_type": "code",
   "execution_count": 80,
   "id": "11afa436",
   "metadata": {},
   "outputs": [
    {
     "data": {
      "text/plain": [
       "array([\"CONTRAT D'ENGAGEMENT\", \"DECISION D'ENGAGEMENT\", 'CONCOURS DIRECT',\n",
       "       'AFFECTATION DEFINITIVE', 'DETACHEMENT', nan], dtype=object)"
      ]
     },
     "execution_count": 80,
     "metadata": {},
     "output_type": "execute_result"
    }
   ],
   "source": [
    "#mode_ent\n",
    "df[qualitative[7]].unique()\n"
   ]
  },
  {
   "cell_type": "code",
   "execution_count": 81,
   "id": "e4004f15",
   "metadata": {},
   "outputs": [],
   "source": [
    "#date_ent\n",
    "df[qualitative[8]].unique()\n",
    "data_y = df[qualitative[8]]\n",
    "\n",
    "df[qualitative[8]]=pd.to_datetime(data_y).dt.year"
   ]
  },
  {
   "cell_type": "code",
   "execution_count": 82,
   "id": "e70da2bd",
   "metadata": {},
   "outputs": [
    {
     "data": {
      "text/plain": [
       "array(['EFA3', 'PREPOSE DES DOUANES', 'AGENT DE CONSTATATION DES DOUANES',\n",
       "       \"ASSISTANT D'ADMINISTRATION\", 'CONTROLEUR DES DOUANES',\n",
       "       \"AGENT D'ENCADREMENT DES DOUANES\", 'PROFESSEUR CERTIFIE', 'ELD4',\n",
       "       'EFA8', 'INSPECTEUR DES DOUANES', 'EMPLOYE DE COURTE DUREE',\n",
       "       'EFA4', 'OFFICIER DE POLICE', \"ADJOINT D'ADMINISTRATION\",\n",
       "       'MILITAIRE', 'EFA2', 'EFA9', 'EFA1', 'EFA5', 'EFA6', nan,\n",
       "       \"ASSISTANT D'ENSEIGNEMENT SUPERIEUR ET DE RECHERCHE\",\n",
       "       \"ADMINISTRATEUR DE SERVICE DE L' A.N.\", 'PERCEPTEUR DES FINANCES',\n",
       "       'SOUS-CHEF DE BUREAU DES SCES FINANCIERS',\n",
       "       'INSPECTEUR DU TRAVAIL ET DES LOIS SOCIALES',\n",
       "       'CHEF DE BUREAU DES SCES FINANCIERS', 'EFA7',\n",
       "       'ADMINISTRATEUR CIVIL', 'INSPECTEUR PENITENTIAIRE',\n",
       "       'CONTROLEUR DES IMPOTS', 'INGENIEUR PRINCIPAL DE LA STATISTIQUE',\n",
       "       'ADMINISTRATEUR DES SCES FINANCIERS',\n",
       "       \"ADMINISTRATEUR D'UNIVERSITE\"], dtype=object)"
      ]
     },
     "execution_count": 82,
     "metadata": {},
     "output_type": "execute_result"
    }
   ],
   "source": [
    "#corps_ent\n",
    "df[qualitative[9]].unique()"
   ]
  },
  {
   "cell_type": "code",
   "execution_count": 83,
   "id": "c13dc09a",
   "metadata": {},
   "outputs": [
    {
     "data": {
      "text/plain": [
       "array(['DAGD', '12IV', 'SAJC', 'SAF', 'SDI', '21TO', '42MG', '23MA',\n",
       "       '34AS', '41AL', '35NB', '11AN', 'SCRS', '22TP', '54TG', '53TL',\n",
       "       'SLF', 'DGD', '24SM', 'SID', 'AUTRES', 'SS', 'SAGRH', 'BUDORS',\n",
       "       'SRI', '61MK', 'DESD', 'SLR', 'DSCD', 'DLSD', '13AB', '51MD',\n",
       "       '32SA', 'SVO', 'SAGD', '15ZS', '17ZO', 'CIR', 'SSAE', 'SRH', 'DSE',\n",
       "       'SE', '16ZE', 'SCAP', 'DLRE', 'SFRC/DNF', 'SED', 'SCSR', 'DAJLF',\n",
       "       nan, 'SDC', 'DNFP', 'SOC', 'DLV', 'SRDAAMI', '31AH', 'SSLC',\n",
       "       '63FI', 'SE/DSCD', 'CCSEAD', 'SAI', 'SI', 'PRMP', 'SAE', 'SBID',\n",
       "       'SF', 'SRAR', 'SCD', '33VO', '25BT', 'ENSD', 'DTERD', 'DAAD',\n",
       "       'SSD', '62MJ', 'SCC', 'SST', 'SCDD', 'SCRU', 'SSOC', '14MA', 'CDL',\n",
       "       'CPERF'], dtype=object)"
      ]
     },
     "execution_count": 83,
     "metadata": {},
     "output_type": "execute_result"
    }
   ],
   "source": [
    "#poste_ent\n",
    "df[qualitative[10]].unique()\n"
   ]
  },
  {
   "cell_type": "code",
   "execution_count": 84,
   "id": "518970d8",
   "metadata": {},
   "outputs": [],
   "source": [
    "#date_ps\n",
    "df[qualitative[11]].unique()\n",
    "df[qualitative[11]]=pd.to_datetime(df[qualitative[11]]).dt.year"
   ]
  },
  {
   "cell_type": "code",
   "execution_count": 85,
   "id": "950bb102",
   "metadata": {},
   "outputs": [],
   "source": [
    "#dat_retraite\n",
    "df[qualitative[12]]=pd.to_datetime(df[qualitative[12]]).dt.year"
   ]
  },
  {
   "cell_type": "code",
   "execution_count": 86,
   "id": "4f557010",
   "metadata": {},
   "outputs": [
    {
     "data": {
      "text/plain": [
       "array(['42MG', 'SLF', 'SCSR', 'SLR', '12IV', 'DSCD', 'SF', '21TO', '22TP',\n",
       "       'SAJC', 'BSTMM', '14MA', '33VO', '35NB', 'BSTNR', '11AN', '25BT',\n",
       "       '62MJ', '53TL', 'DGD', '23MA', 'SID', 'SRH', 'SSLC', 'SCAP', 'SRI',\n",
       "       '51MD', '61MK', '34AS', 'PSMJG', 'DLV', 'DRF', 'SPCB', 'SVO',\n",
       "       'SDC', 'SE', '31AH', 'SSAE', '54TG', 'SRAR', 'DSE', 'PRMP', 'SI',\n",
       "       'SAE', '13AB', '32SA', '63FI', 'SSOC', 'CDL', 'DAJLF', '24SM',\n",
       "       'GNV', 'PRS', 'BRX', 'CPERF', 'ILMAU', 'PSTAO', 'PSTUL', 'PSNSB',\n",
       "       'AUTRES'], dtype=object)"
      ]
     },
     "execution_count": 86,
     "metadata": {},
     "output_type": "execute_result"
    }
   ],
   "source": [
    "#post_act\n",
    "df[qualitative[13]].unique()"
   ]
  },
  {
   "cell_type": "code",
   "execution_count": 87,
   "id": "87fa800c",
   "metadata": {
    "pycharm": {
     "name": "#%%\n"
    }
   },
   "outputs": [
    {
     "data": {
      "text/plain": [
       "array(['AGENT SCANNER -CHARGE MANIFESTE', nan,\n",
       "       \"CHARGE D'ETUDES aupr?s du Service\",\n",
       "       'CHARGE RECEVABILITE DE LA SLR', \"CHARGE LIQUIDATION D'OFFICE\",\n",
       "       'SECRETAIRE', 'COORDINATEUR SUPPLEANT DE LA FORMATION INITIALE',\n",
       "       'CHEF DE ZONE QUAI PLAGE', 'AGENT VISITEUR',\n",
       "       \"COMPLEMENT D'EFFECTIF\", \"CHARGE D'ETUDES REGLEMENTATION\",\n",
       "       'CHARGE DEPART DU DOSSIER DU SLR', 'ADJOINT CHEF SECTEUR',\n",
       "       'CHARGE DES REGIMES ECONOMIQUES ET DU TRANSIT',\n",
       "       'AGENT DE SURVEILLANCE - AGENT VISITEUR', 'VISITEUR',\n",
       "       'AGENT DE BRIGADE MAGASIN', 'ABROGEE',\n",
       "       'CHARGE DU SUIVI DOSSIER SLR', 'AGENT SCANNER-CHARGE TRANSIT',\n",
       "       'CHARGE CAISSE', 'CHARGE ACCUEIL', 'RESPONSABLE DU PERSONNEL',\n",
       "       'CHEF DE POSTE', 'CHARGE MANIFESTE', 'RECEVEUR DES DOUANES 53TL',\n",
       "       'CHARGE DE MISSION SUR PARTENARIAT SOCIAL',\n",
       "       'REPRESENTANT DE LA DOUANE AU C.I.M.', 'CHEF DE DIVISION',\n",
       "       'RESPONSABLE ADMISSION TEMPORAIRE', 'RESP.CONGE ET VALIDATION',\n",
       "       'SECRETAIRE-PLANTON', 'REPRESENTANT AU CIM',\n",
       "       'CHEF DU REGIME ECONOMIQUE ET TRANSIT', 'CHARGE DE REMBOURSEMENT',\n",
       "       'VISITEUR ESCALE', 'ADJOINT AU RECEVEUR - VERIFICATEUR',\n",
       "       'CHARGE ENREGISTREMENT', \"AGENT D'INTERVENTION\",\n",
       "       'RECEVEUR DES DOUANES 42MG', 'CHEF DE SERVICE SCAP',\n",
       "       'CHARGE DU Suivi FASAD', 'PLANTON', 'CHARGE DE  RECOUVREMENT',\n",
       "       'CHEF DE DIVISION ETUDES DISPOSITIONS DOUANIERES',\n",
       "       \"CHARGE D'ETUDES DE LA DIV COOP AVEC ORGAN INTLES\",\n",
       "       'CHARGE DU SUIVI REGIME DE MISE EN ENTREPOT', 'Visiteur ESCALE',\n",
       "       'MAGASINIER', 'Visiteur', 'AGENT DE SURVEILLANCE',\n",
       "       'Visiteur Export/Fret', 'Agent de surveillance',\n",
       "       'DIRECTEUR DE LA LEGISLATION ET DE LA VALEUR',\n",
       "       'CHEF DE DIVISION APPUI',\n",
       "       'DIRECTEUR DES RESSOURCES ET DE LA FORMATION',\n",
       "       'FORMATEUR PERMANENT', 'COMPTABLE', 'Comptable',\n",
       "       'CHEF DES OPERATIONS COMMERCIALES', 'Secr?taire',\n",
       "       'CHARGE DU CONGE', 'D?positaire Comptable', 'CHAUFFEUR',\n",
       "       'CHARGE REGISTRES ET IMPRIMES', 'Planton', 'ENCADREUR',\n",
       "       'CHEF OPDIV', 'CHARGE DU SUIVI ET ET FRCHS PROVSR',\n",
       "       \"CHARGE D'ETUDES DES DISPOSITIONS DOUANIERES\", 'BRIGADE',\n",
       "       'CHEF DE ZONE MAGASIN SSDOUANE DHL', 'CHEF DE ZONE A1',\n",
       "       'AGENT DE VISITE SECTION CONTENTIEUSE', 'AGENT RET',\n",
       "       'ADJOINT CHEF DE POSTE', 'AGENT DE LA BRIGADE NIVEAU 1',\n",
       "       'CHEF DE BRIGADE', 'CHEF DE ZONE ESCALE', 'AGENT UMS',\n",
       "       'AGENT ECOREUR', 'CHARGE DE LA RECEVABILITE',\n",
       "       'CHARGE DE SOUMISSION', \"CHARGE D'ETUDES\", 'BILLETEUR DGD',\n",
       "       'CHARGE DES ARCHIVES', 'CHARGE DE LA NAVIGATION',\n",
       "       'RECEVEUR DES DOUANES 32MJ', 'CHARGE RET', 'ENCADREUR ESCALE',\n",
       "       'VERIFICATEUR-CTX-BILLETEUR', 'CAISSIER', \"Charg? d'Etudes\",\n",
       "       'CHEF DE DIVISION SUIVI ET STATISTIQUES', 'D?positaire comptable',\n",
       "       'VERIFICATEUR-CHEF DES OPDIV ', 'RECEVEUR DES DOUANES 21TO',\n",
       "       'CHEF DE DIVISION RECOUVREMENT', 'CHEF DE SERVICE SE',\n",
       "       'RECEVEUR DES DOUANES 35NB', 'CHEF DE DIVISION EF/AGOA',\n",
       "       'ADJOINT CHEF DE SITE INFORMATIQUE',\n",
       "       'CHEF DE POSTE BS TOAMASINA-BILLETEUR', 'CHARGE DE RECEVABILITE',\n",
       "       'CHARGE DE LA COMPTABILITE', 'CHARGE RECEVABILITE',\n",
       "       'AGENT VISITEUR EXPORT', 'AGENT ACCEUIL - PLANTON', 'VAGUEMESTRE',\n",
       "       'CHARGE DES AFFAIRES CONTENTIEUSES',\n",
       "       '2EME ADJOINT CHEF SECTEUR BSTMM', 'BILLETEUR', 'S?cr?taire',\n",
       "       'CHARGE AVANCEMENT AGENTS ENCADRES',\n",
       "       'CHARGE ARCHIVE ET CLASSEMENT', \"COMITE D'APPEL D'OFFRE\",\n",
       "       'CHEF DE DIVISION DE LA PROGRAMMATION', 'INFORMATICIEN',\n",
       "       'VERIFICATEUR', 'CHEF DE SERVICE SAE',\n",
       "       'CHEF DES OPERATIONS COMMERCIALES 14MA',\n",
       "       'CHEF DE DIVISION COOPER. AVEC LES ORG.INTLES',\n",
       "       'CHEF DE SERVICE SI', 'CHEF DE DIVISION ODD',\n",
       "       'DEPOSITAIRE COMPTABLE', 'GARDIEN', 'CHARGE DU PERSONNEL',\n",
       "       \"CHARGE D'ETUDES ATTESTATION DE DESTINATION\", 'AGENT DE BRIGADE',\n",
       "       'CHEF DE ZONE IMPORT', 'ECOREUR',\n",
       "       'CHARGE DU SUIVI MANIFESTE-CHARGE DU MAGASIN DEPOT',\n",
       "       'CHEF DE LA DIVISION TENUE ET ARMEMENT', \"AGENT D'ACCUEIL\",\n",
       "       'CHARGE DE LA FORMATION CONTINUE', 'CHARGE DU SUIVI ETAT BLEU',\n",
       "       'AGENT SCANNER IMPORT', 'CHARGE EF/AGOA',\n",
       "       'Ordonnateur Secondaire - BILLETEUR SUPPL?ANT',\n",
       "       'SECRETAIRE DE DIRECTION', 'SECRETAIRE-CHARGE DU PERSONNEL',\n",
       "       'CHARGE ACCUEIL-CHEF DE SITE SUPPLEANT',\n",
       "       \"AGENT D'ACCUEIL-CHARGE CAISSE-CHARGE COMPTA\",\n",
       "       'COORDINATEUR DE LA FORMATION INITIALE',\n",
       "       'CHARGE SUIVI DU REGIME DE MISE EN ENTREPOT', 'COORDONNATEUR',\n",
       "       'V?rificateur - Liquidateur', 'CHAUFFEUR-CHARGE DU PERSONNEL',\n",
       "       'POINT FOCAL DE LA DSE', 'CHARGE DE LA DOCUMENTATION JURIDIQUE',\n",
       "       'AGENT DE RENSEIGNEMENT', 'Ecoreur',\n",
       "       'AGENT UNITE MOBILE DE SURVEILLANCE',\n",
       "       'CHEF DES OPERATIONS COMMERCIALES-BILLETEUR',\n",
       "       'CHEF DES OPERATIONS COMMERCIALES ESCALE', 'RESPONSABLE CAISSE',\n",
       "       'CHEF DE SECTION RECEVABILITE',\n",
       "       'Charg? Communication Externe et Relations Publiq',\n",
       "       'CHEF DE DIVISION EFFECTIF', 'CHARGE DU SUIVI DE TRANSIT',\n",
       "       'CHEF DE DIVISION RESEAU ET MAINTENANCE', 'CHEF DE DIVISION DEV',\n",
       "       'CHEF DE DIVISION (Logistique et s?curit?) ',\n",
       "       'CHEF DE SITE INFORMATIQUE', 'CHAUFFEUR-COURSIER',\n",
       "       \"CHARGE DU CENTRE D'INFORMATION\",\n",
       "       'CHEF DE DIVISION AUDIT ET PROCEDURE', 'CHARGE DES MANIFESTES',\n",
       "       'Charg?e du recouvrement-DEPOSIT.COMPT.', 'CHEF RET',\n",
       "       'CHEF DE SITE INFORM SUPPL - CHARGE DE LA COMPTA',\n",
       "       'CHEF DE DIVISION (Attestation de Destination)',\n",
       "       'RECEVEUR DES DOUANES',\n",
       "       \"CHARGE DE MISSION MISE EN PLACE DU SCE D'ENQU?TE\",\n",
       "       'CHARGE DU SUIVI DES TRANSITS', 'CHEF DE SERVICE SRH',\n",
       "       'Charg?e du suivi des doss aup des cours et tribx',\n",
       "       'CHARGE SUIVI DOSSIER', 'Op?rateur de Saisie',\n",
       "       'CHEF DE DIVISION FORMATION CONTINUE',\n",
       "       'chef de division du contr?le RET',\n",
       "       'CHARGE DE MISSION SUR LA REALISATION DE GRANDS EVT',\n",
       "       'RECEVEUR DES DOUANES 34AS', 'V?rificateur',\n",
       "       'CHEF DES OPERATIONS COMMERCIALES 12IV',\n",
       "       'CHEF DE DIVISION INSPECTION', 'COORDONNATEUR 12IV',\n",
       "       'CHEF DE SERVICE SPCB', 'Charg? des statistiques',\n",
       "       'CHEF DE DIVISION TARIF', 'COORDONNATEUR-VERIFICATEUR',\n",
       "       'CHEF UNITE MOBILE DE SURVEILLANCE',\n",
       "       \"CHARGE D'ETUDES DES REGIMES ECONOMIQUES\",\n",
       "       'RECEVEUR DES DOUANES 25BT',\n",
       "       'AGENT DE VISITE SECTION CONTENTIEUSES', 'CHARGE AVIS DE PAIEMENT',\n",
       "       'RESPONSABLE DE LA FORMATION', 'SECRETAIRE-RH',\n",
       "       'ADJOINT AU RECEVEUR', 'CHARGE DU TRANSIT',\n",
       "       'CHARGE DE MANDATEMENT', 'LIQUIDATEUR',\n",
       "       'RECEVEUR DES DOUANES 11AN', 'OPERATEUR DE SAISIE',\n",
       "       'CHEF CONTENTIEUX-VERIFICATEUR',\n",
       "       'RECEVEUR DES DOUANES 33VO-BILLETEUR',\n",
       "       'CHEF DE DIVISION SUIVI STRATEGIQUE',\n",
       "       'CHARGE DU RAPPROCHEMENT DES DONNEES COMPTABLES',\n",
       "       'CHEF DE SITE INFORMATIQUE-BILLETEUR',\n",
       "       'CHEF DE DIVISION COMMUNICATION INTERNE',\n",
       "       \"CHEF DE DIVISION 'MODELISATION ET ANALYSE ECONOMQ.\",\n",
       "       'ADMINISTRATEUR DE SITE', 'RECEVEUR DES DOUANES 54TG-BILLETEUR',\n",
       "       'V?rificateur-RESP.RH',\n",
       "       'UNITE DE GESTION DES PASSATIONS DE MARCHE',\n",
       "       'CHARGE DE LA REPARTITION DES AMENDES',\n",
       "       'CHARGE DE MISSION PROCESSUS INTEGRAL',\n",
       "       'CHEF DE DIVISION APPUI AU SRH',\n",
       "       'CHEF DE DIVISION LITIGES ET CONTENTIEUX ADMIN.',\n",
       "       'CHEF DE DIVISION DE SUIVI FONCTIONNEL', 'SECR?TAIRE', 'AUDITEUR',\n",
       "       'CHARGE DE LA DOCUMENTATION', 'CHEF DE POSTE U.M.S.',\n",
       "       'AGENT DE BRIGADE UMS', 'CHEF DE DIVISION CONTENTIEUX',\n",
       "       'CHEF DE DIVISION RELATIONS PUBLIQUES ET COMM.EXT.',\n",
       "       'CHEF DE SERVICE SSLC', 'CHEF DE SERVICE SRAR',\n",
       "       'CHARGE DU SUIVI DES DOSSIERS AUPRES DES COURS/TRIB',\n",
       "       'ADJOINT AU CHEF DE POSTE',\n",
       "       'CHARGE DE LA FORMATION EN PARTENARIAT NATIONAL',\n",
       "       'CHEF DE SERVICE SLF', 'CHEF DE LA DIVISION PATRIMOINE',\n",
       "       'REPRESENTANT AU CENTRE IMMATRICULATEUR',\n",
       "       'CHARGE SUIVI DU DOSSIER DU SLR', 'CHEF DE SERVICE SSOC',\n",
       "       \"AGENT D'ENLEVEMENT\", 'CHEF DE SERVICE SCSR',\n",
       "       'Op?rateur de saisie donn?es', 'RECEVEUR DES DOUANES 63FI',\n",
       "       'CHARGE CAISSE ET COMPTABILITE',\n",
       "       'CHEF DE DIVISION RENSEIGNEMENT ET INVESTIGATION',\n",
       "       'CHEF DE POSTE-BILLETEUR',\n",
       "       'CHARGE DE LA NAVIG ET DU MANIFESTE-CHARGE CAISSE',\n",
       "       'CHARGE ENREGISTREMENT DEVISES', 'ANALYSTE',\n",
       "       \"CHARGE D'ETUDES-DEPOSITAIRE CPTBL\",\n",
       "       'CHEF DE DIVISION CONTROLE RET', 'COPCO MADARAIL ANTANANARIVO',\n",
       "       'CHEF DE GROUPE ESCALE', \"Agent d'Acceuil du Centre d'Information\",\n",
       "       'CHEF DE DIVISION MATERIELS',\n",
       "       'CHEF DE DIVISION AFFAIRES JURIDIQUES',\n",
       "       'CHEF DE DIVISION BANQUE DE DONNEES ET AUTOMATISAT?',\n",
       "       'CHEF DU SERVICE SSAE', 'CHARGE du Suivi du D?lai de D?douanement',\n",
       "       \"CHEF DE DIVISION D'APPUI SUIVI ET COORDINATION\",\n",
       "       'CHEF DE DIVISION DU SUIVI ADMINISTRATIF',\n",
       "       'CHEF DE DIVISION LEGISLATION', 'CHARGE RESEAU ET MAINTENANCE',\n",
       "       'CHARGE AVANCEMENT AGENTS NON ENCADRES',\n",
       "       'CHEF DE SERVICE DE LA FORMATION', 'CHARGE DE LA VALIDATION',\n",
       "       'Chauffeur - Coursier', \"CHARGE DU TRANSIT-CHEF D'EQUIPE AEROPORT\",\n",
       "       'CHARGE DE MISSION APPUI A LA DSCD',\n",
       "       'CAISSIER DES OPERATIONS A CREDIT',\n",
       "       'CHEF DE DIVISION DES AFFAIRES ADMINISTRATIVES',\n",
       "       'Comptable - BILLETEUR SUPPL - ORDSEC suppl',\n",
       "       'RECEVEUR DES DOUANES 32SA', 'CHARGE DE LA LOGISTIQUE',\n",
       "       'CHARGEE DOSSIERS ADMISSION TEMPORAIRE', 'AGENT DE VISITE MOLE A1',\n",
       "       'RECEVEUR DES DOUANES 24SM', 'BILLETEUR-SECRETAIRE',\n",
       "       'CONTROLEUR ENTREPOT', 'CONCEPTEUR EN RESSOURCES HUMAINES',\n",
       "       'VISITEUR BCB', 'CHEF DE ZONE', 'AGENT CHARGE DU CONTENTIEUX',\n",
       "       'CHEF CAISSE', \"AGENT D'ENTRETIEN ET DE MAINTENANCE POLYVALENT\",\n",
       "       'CHEF DE DIVISION GESTION DU PARC AUTOMOBILE',\n",
       "       'BILLETEUR-AGENT VISITEUR', 'AGENT DE LA BRIGADE NIVEAU 2',\n",
       "       'CHARGE DU SUIVI DES ZEF',\n",
       "       'Charg? des Entreprises Franches - AGOA', 'PLANTON CI-CO',\n",
       "       'CHARGE RECRUTEMENT ET AFFECTATION', 'CHEF DE PROJET SYDONIA WORD',\n",
       "       \"RESPONSABLE DU PERS - CHARGE D'ETUDES\",\n",
       "       'CHEF DE DIVISION DU CONTR?LE EN ENTREPRISE', \"charg? d'enqu?tes\",\n",
       "       'CHEF DE DIVISION LOGISTIQUE ET PERSONNEL', 'CHEF DE SERVICE SRI',\n",
       "       \"CHARGE D'ENQUETES NIVEAU 2\", 'CHARGE DU CONTENTIEUX RET',\n",
       "       'CHARGE DE VERIFICATION VOLUME ET QUANTITE', 'Brigade Portail',\n",
       "       'V?rificateur-CHEF CTX',\n",
       "       'CHEF DE MISSION DEMATERIALISATION ADMINISTRATIVE',\n",
       "       'DEPOSITAIRE COMPTABLE-RESP MAT', 'CHEF DE SERVICE SAJC',\n",
       "       'VERIFICATEUR-CHEF RET', 'CHEF DE BRIGADE SLF',\n",
       "       'CHEF DE SERVICE SDC', 'CHEF DE DIVISION AUDIT',\n",
       "       'VISITEUR-BILLETEUR',\n",
       "       'ASSISTANT DU CD ANALYS RISQ LIES AUX ACTIV MAR',\n",
       "       'CHARGE DE DEMATERIALISATION DES DOSSIERS CTX',\n",
       "       \"CHEF DE DIVISION VALEUR ENGINS ET TRACTEURS D'OCC.\",\n",
       "       'AGENT SCANNER EXPORT', 'CHEF DE DIVISION SOLDE',\n",
       "       'PLANTON CONTENTIEUX', 'COPDIV',\n",
       "       'AGENT SCANNER - CHARGE SOUMISSION',\n",
       "       'CONSEILLER AUX AFFAIRES DOUANIERES', 'ATTACHE DOUANIER A PARIS',\n",
       "       'CHEF DE DIVISION APPLICATION DES REFORMES',\n",
       "       'COORDONNATEUR DU CENTRE DE LIQUIDATION', 'CHEF DE DIVISION UCTS',\n",
       "       'CHARGE DE LA RECEVABILITE DOSSIERS VEHICULES',\n",
       "       'RECEVEUR DES DOUANES 14MA', 'CHARGE DE MISSION APPUI A LA DSE',\n",
       "       'CHEF DE SERVICE SLR', 'IVL',\n",
       "       'CHEF DE DIVISION GESTION ET SUIVI MESSG RISQ',\n",
       "       'CHEF DES OPERATIONS COMMERCIALES 25BT', 'CHARGE FIN DE CARRIERE',\n",
       "       'DIRECTEUR DES SERVICES EXTERIEURS', 'CHEF OPDIV 12IV',\n",
       "       'RECEVEUR DES DOUANES 22TP', 'CHEF SECTEUR BSTNR', '\\x04',\n",
       "       'CHEF DE SITE INFORMATIQUE SUPPLEANT', 'DIRECTEUR GENERAL',\n",
       "       'PLANTON - GARDIEN', 'COMPTABLE SOLDE',\n",
       "       'RESPONSABLE DE LA CELLULE DE GESTION DES PERF',\n",
       "       'RESPONSABLE MATERIEL-DEP.COMPT.', 'CHEF DE SERVICE SVO',\n",
       "       'CHEF SECTEUR BS TOAMASINA', 'CHEF COMPTABLE',\n",
       "       'FORMATEUR PERMANENT ET CHARGE DE MISSION GPEEC',\n",
       "       'ASSISTANT DIVISION CIBLAGE',\n",
       "       'CHEF DE DIVISION INFORMATIQUE DECISIONNELLE',\n",
       "       'RECEVEUR DES DOUANES 12IV',\n",
       "       'CHEF DE MISSION STRATEGIE DE MODERNISATION',\n",
       "       'DIRECTEUR DES STATISTIQUES ET DE LA COMPTABILITE',\n",
       "       'CHEF DE DIVISION VALEUR EN DOUANES ET BDD',\n",
       "       'CHARGE DE MISSION SUR ASSAINISSEMENT ZF ET EF',\n",
       "       'CHARGE DU MATERIEL', 'CHEF RET-VERIFICATEUR', 'DIRECTEUR DAJLF',\n",
       "       'COORDONNATEUR 21TO',\n",
       "       'CHEF DE DIVISION GESTION DE RENSEIGNEMENT ET RIS',\n",
       "       'CHEF DE DIVISION PROGRAMMATION',\n",
       "       'CHARGE DES ENTREPRISES FRANCHES ET AGOA',\n",
       "       'CHARGE DES COLIS POSTAUX',\n",
       "       'CHEF DE DIVISION SUIVI PROCEDURES ET COORDINATION',\n",
       "       \"Charg? de l'admission temporaire\",\n",
       "       'ADJOINT CHEF DE FILE-CHARGE DES AFFAIRES CTX', 'ASSISTANT',\n",
       "       'CHARGE DE RECOUVREMENT',\n",
       "       'CHEF DE LA DIVISION COOPERATION BILATERALE',\n",
       "       'CHEF DE ZONE EXPORT', 'PRMP', 'CHARGE DEPART DOSSIER',\n",
       "       'CHARGE NAVIG - VERIFICATEUR- CHARGE CAISSE/COMPTA', 'planton',\n",
       "       'RECEVEUR DES DOUANES 13AB', 'INFORMATICIEN ANALYSTE DE MANIFESTE',\n",
       "       'CHEF DE DIVISION COMM EXT ET REL PUB',\n",
       "       'CHARGE DE LA REFORME ET DE LA MODERNISATION',\n",
       "       'CHARGE ALIMENTATION SITE WEB',\n",
       "       'CHARGE DE LA COMPTABILITE ET DE LA CAISSE',\n",
       "       \"ASSISTANT AUX CHARGES D'ENQUETES\",\n",
       "       'CHARGE DE MANIFESTE ET NAVIGATION',\n",
       "       'CHARGE ETS T BORD- AGENT DE SURVEILLANCE ESCALE',\n",
       "       'CHARGE DE LA RECEVABILITE - AGENT DE SURV ESCALE',\n",
       "       'CHARGE SOUMISSION',\n",
       "       'CHARGE DE LA RECEVABILITE-AGENT DE SURV ESCALE',\n",
       "       'CHEF DE LA DIVISION COOPERATION REGIONALE', 'DEVELOPPEUR',\n",
       "       \"Charg? d'Etudes - D?positR Cmptble (Chq carbt)\",\n",
       "       'CHEF DE PROJET ADJOINT SYDONIA WORD', 'CHEF DE ZONE VISITE',\n",
       "       'CHEF DE SECTION CTRL EN MER ET MOY. DE TRANSP',\n",
       "       'AGENT POSTE PERMANENCE OPERATIONNELLE',\n",
       "       'CHEF DE DIVISION SECRETARIAT',\n",
       "       'CHEF DE DIVISION PARTENARIAT ET COMMUNICATION',\n",
       "       'CHARGE DE DEPOT ET VENTE AUX ENCHERES',\n",
       "       'CHARGE DU SUIVI MANIFESTE',\n",
       "       'CHARGE DU CONTENTIEUX ET DES ETATS DE REPARTITIONS',\n",
       "       'CHARGE DE LA RECEVA -SECRETAIRE- CHARGE DU PERS',\n",
       "       \"CHARGE D'ETUDES EN AUDIT ET INSPECTION\", 'CHARGE DU COURRIER',\n",
       "       \"CHARG? D'?TUDES\", 'CHARGE DU REGIME ECONOMIQUE ET DU TRANSIT',\n",
       "       'CHARGE DE SUIVI DES DOSSIERS', 'COORDINATEUR E-LEARNING',\n",
       "       'AGENT SCANNER-CHARGE MANIFESTE-CHARGE VAE',\n",
       "       'CHEF DE DIVISION ETUDES ET CONCEPTIONS',\n",
       "       'CHEF DE MISSION ASSAINISSEMENT DES ZEF',\n",
       "       'CHARGE DES ADMISSIONS TEMPORAIRES', 'TECHNICIEN EN INFORMATIQUE',\n",
       "       \"CHARGE D'ETUDES DE DIV DE L'APPLIC DES REFORMES\",\n",
       "       'CHEF DES OPERATIONS DIVERSES',\n",
       "       'ANALYSTE DE RENSEIGNEMENT COMMERCIAL',\n",
       "       'CHEF DES RET-CHARGE DES AFF CTX',\n",
       "       \"CHARGE D'ETUDES SUIVI STRATEGIQUE\",\n",
       "       \"CHARGE D'ETUDES DE LA SELECTIVITE\",\n",
       "       \"CHARGE D'ETUDES ENTREP?T ET EXPORTATION TEMP\",\n",
       "       'CHEF DE DIVISION VALEUR FOB ENGINS ET TRACTEURS-VR',\n",
       "       'AGENT PERMANENT ESCALE',\n",
       "       'CHEF DE DIVISION DES AFFAIRES JURIDIQUES',\n",
       "       'CHEF DE DIVISION DE CONTROLE DES GRANDES ESES',\n",
       "       'CHEF DE DIVISION INTERVENTION', 'CHEF DE SERVICE SID',\n",
       "       'CHEF DE DIVISION APPUI A LA DRF',\n",
       "       'CHEF DE DIVISION SUIVI DES REGIMES ECONOMIQUES',\n",
       "       'CHEF DE DIVISION COOPERATION INTERNATIONALE',\n",
       "       'CHEF DE DIVISION COORDINATION DES ACTIONS DES US',\n",
       "       'CHEF DE DIVISION CONTROLE SECTORIEL',\n",
       "       'CHEF DE DIVISION ORIENTATION DU CONTROLE',\n",
       "       'CHEF DE DIVISION INFORMATIQUE ET GESTION DE LA SEL'], dtype=object)"
      ]
     },
     "execution_count": 87,
     "metadata": {},
     "output_type": "execute_result"
    }
   ],
   "source": [
    "#job_act\n",
    "df[qualitative[14]].unique()"
   ]
  },
  {
   "cell_type": "code",
   "execution_count": 88,
   "id": "57028b8d",
   "metadata": {},
   "outputs": [],
   "source": [
    "#dat_echeance\n",
    "df[qualitative[15]]=pd.to_datetime(df[qualitative[15]]).dt.year\n"
   ]
  },
  {
   "cell_type": "code",
   "execution_count": 89,
   "id": "2fab567e",
   "metadata": {
    "pycharm": {
     "name": "#%%\n"
    }
   },
   "outputs": [
    {
     "data": {
      "text/plain": [
       "array(['AGENT SCANNER -CHARGE MANIFESTE', nan,\n",
       "       \"CHARGE D'ETUDES aupr?s du Service\",\n",
       "       'CHARGE RECEVABILITE DE LA SLR', \"CHARGE LIQUIDATION D'OFFICE\",\n",
       "       'SECRETAIRE', 'COORDINATEUR SUPPLEANT DE LA FORMATION INITIALE',\n",
       "       'CHEF DE ZONE QUAI PLAGE', 'AGENT VISITEUR',\n",
       "       \"COMPLEMENT D'EFFECTIF\", \"CHARGE D'ETUDES REGLEMENTATION\",\n",
       "       'CHARGE DEPART DU DOSSIER DU SLR', 'ADJOINT CHEF SECTEUR',\n",
       "       'CHARGE DES REGIMES ECONOMIQUES ET DU TRANSIT',\n",
       "       'AGENT DE SURVEILLANCE - AGENT VISITEUR', 'VISITEUR',\n",
       "       'AGENT DE BRIGADE MAGASIN', 'ABROGEE',\n",
       "       'CHARGE DU SUIVI DOSSIER SLR', 'AGENT SCANNER-CHARGE TRANSIT',\n",
       "       'CHARGE CAISSE', 'CHARGE ACCUEIL', 'RESPONSABLE DU PERSONNEL',\n",
       "       'CHEF DE POSTE', 'CHARGE MANIFESTE', 'RECEVEUR DES DOUANES 53TL',\n",
       "       'CHARGE DE MISSION SUR PARTENARIAT SOCIAL',\n",
       "       'REPRESENTANT DE LA DOUANE AU C.I.M.', 'CHEF DE DIVISION',\n",
       "       'RESPONSABLE ADMISSION TEMPORAIRE', 'RESP.CONGE ET VALIDATION',\n",
       "       'SECRETAIRE-PLANTON', 'REPRESENTANT AU CIM',\n",
       "       'CHEF DU REGIME ECONOMIQUE ET TRANSIT', 'CHARGE DE REMBOURSEMENT',\n",
       "       'VISITEUR ESCALE', 'ADJOINT AU RECEVEUR - VERIFICATEUR',\n",
       "       'CHARGE ENREGISTREMENT', \"AGENT D'INTERVENTION\",\n",
       "       'RECEVEUR DES DOUANES 42MG', 'CHEF DE SERVICE SCAP',\n",
       "       'CHARGE DU Suivi FASAD', 'PLANTON', 'CHARGE DE  RECOUVREMENT',\n",
       "       'CHEF DE DIVISION ETUDES DISPOSITIONS DOUANIERES',\n",
       "       \"CHARGE D'ETUDES DE LA DIV COOP AVEC ORGAN INTLES\",\n",
       "       'CHARGE DU SUIVI REGIME DE MISE EN ENTREPOT', 'Visiteur ESCALE',\n",
       "       'MAGASINIER', 'Visiteur', 'AGENT DE SURVEILLANCE',\n",
       "       'Visiteur Export/Fret', 'Agent de surveillance',\n",
       "       'DIRECTEUR DE LA LEGISLATION ET DE LA VALEUR',\n",
       "       'CHEF DE DIVISION APPUI',\n",
       "       'DIRECTEUR DES RESSOURCES ET DE LA FORMATION',\n",
       "       'FORMATEUR PERMANENT', 'COMPTABLE', 'Comptable',\n",
       "       'CHEF DES OPERATIONS COMMERCIALES', 'Secr?taire',\n",
       "       'CHARGE DU CONGE', 'D?positaire Comptable', 'CHAUFFEUR',\n",
       "       'CHARGE REGISTRES ET IMPRIMES', 'Planton', 'ENCADREUR',\n",
       "       'CHEF OPDIV', 'CHARGE DU SUIVI ET ET FRCHS PROVSR',\n",
       "       \"CHARGE D'ETUDES DES DISPOSITIONS DOUANIERES\", 'BRIGADE',\n",
       "       'CHEF DE ZONE MAGASIN SSDOUANE DHL', 'CHEF DE ZONE A1',\n",
       "       'AGENT DE VISITE SECTION CONTENTIEUSE', 'AGENT RET',\n",
       "       'ADJOINT CHEF DE POSTE', 'AGENT DE LA BRIGADE NIVEAU 1',\n",
       "       'CHEF DE BRIGADE', 'CHEF DE ZONE ESCALE', 'AGENT UMS',\n",
       "       'AGENT ECOREUR', 'CHARGE DE LA RECEVABILITE',\n",
       "       'CHARGE DE SOUMISSION', \"CHARGE D'ETUDES\", 'BILLETEUR DGD',\n",
       "       'CHARGE DES ARCHIVES', 'CHARGE DE LA NAVIGATION',\n",
       "       'RECEVEUR DES DOUANES 32MJ', 'CHARGE RET', 'ENCADREUR ESCALE',\n",
       "       'VERIFICATEUR-CTX-BILLETEUR', 'CAISSIER', \"Charg? d'Etudes\",\n",
       "       'CHEF DE DIVISION SUIVI ET STATISTIQUES', 'D?positaire comptable',\n",
       "       'VERIFICATEUR-CHEF DES OPDIV ', 'RECEVEUR DES DOUANES 21TO',\n",
       "       'CHEF DE DIVISION RECOUVREMENT', 'CHEF DE SERVICE SE',\n",
       "       'RECEVEUR DES DOUANES 35NB', 'CHEF DE DIVISION EF/AGOA',\n",
       "       'ADJOINT CHEF DE SITE INFORMATIQUE',\n",
       "       'CHEF DE POSTE BS TOAMASINA-BILLETEUR', 'CHARGE DE RECEVABILITE',\n",
       "       'CHARGE DE LA COMPTABILITE', 'CHARGE RECEVABILITE',\n",
       "       'AGENT VISITEUR EXPORT', 'AGENT ACCEUIL - PLANTON', 'VAGUEMESTRE',\n",
       "       'CHARGE DES AFFAIRES CONTENTIEUSES',\n",
       "       '2EME ADJOINT CHEF SECTEUR BSTMM', 'BILLETEUR', 'S?cr?taire',\n",
       "       'CHARGE AVANCEMENT AGENTS ENCADRES',\n",
       "       'CHARGE ARCHIVE ET CLASSEMENT', \"COMITE D'APPEL D'OFFRE\",\n",
       "       'CHEF DE DIVISION DE LA PROGRAMMATION', 'INFORMATICIEN',\n",
       "       'VERIFICATEUR', 'CHEF DE SERVICE SAE',\n",
       "       'CHEF DES OPERATIONS COMMERCIALES 14MA',\n",
       "       'CHEF DE DIVISION COOPER. AVEC LES ORG.INTLES',\n",
       "       'CHEF DE SERVICE SI', 'CHEF DE DIVISION ODD',\n",
       "       'DEPOSITAIRE COMPTABLE', 'GARDIEN', 'CHARGE DU PERSONNEL',\n",
       "       \"CHARGE D'ETUDES ATTESTATION DE DESTINATION\", 'AGENT DE BRIGADE',\n",
       "       'CHEF DE ZONE IMPORT', 'ECOREUR',\n",
       "       'CHARGE DU SUIVI MANIFESTE-CHARGE DU MAGASIN DEPOT',\n",
       "       'CHEF DE LA DIVISION TENUE ET ARMEMENT', \"AGENT D'ACCUEIL\",\n",
       "       'CHARGE DE LA FORMATION CONTINUE', 'CHARGE DU SUIVI ETAT BLEU',\n",
       "       'AGENT SCANNER IMPORT', 'CHARGE EF/AGOA',\n",
       "       'Ordonnateur Secondaire - BILLETEUR SUPPL?ANT',\n",
       "       'SECRETAIRE DE DIRECTION', 'SECRETAIRE-CHARGE DU PERSONNEL',\n",
       "       'CHARGE ACCUEIL-CHEF DE SITE SUPPLEANT',\n",
       "       \"AGENT D'ACCUEIL-CHARGE CAISSE-CHARGE COMPTA\",\n",
       "       'COORDINATEUR DE LA FORMATION INITIALE',\n",
       "       'CHARGE SUIVI DU REGIME DE MISE EN ENTREPOT', 'COORDONNATEUR',\n",
       "       'V?rificateur - Liquidateur', 'CHAUFFEUR-CHARGE DU PERSONNEL',\n",
       "       'POINT FOCAL DE LA DSE', 'CHARGE DE LA DOCUMENTATION JURIDIQUE',\n",
       "       'AGENT DE RENSEIGNEMENT', 'Ecoreur',\n",
       "       'AGENT UNITE MOBILE DE SURVEILLANCE',\n",
       "       'CHEF DES OPERATIONS COMMERCIALES-BILLETEUR',\n",
       "       'CHEF DES OPERATIONS COMMERCIALES ESCALE', 'RESPONSABLE CAISSE',\n",
       "       'CHEF DE SECTION RECEVABILITE',\n",
       "       'Charg? Communication Externe et Relations Publiq',\n",
       "       'CHEF DE DIVISION EFFECTIF', 'CHARGE DU SUIVI DE TRANSIT',\n",
       "       'CHEF DE DIVISION RESEAU ET MAINTENANCE', 'CHEF DE DIVISION DEV',\n",
       "       'CHEF DE DIVISION (Logistique et s?curit?) ',\n",
       "       'CHEF DE SITE INFORMATIQUE', 'CHAUFFEUR-COURSIER',\n",
       "       \"CHARGE DU CENTRE D'INFORMATION\",\n",
       "       'CHEF DE DIVISION AUDIT ET PROCEDURE', 'CHARGE DES MANIFESTES',\n",
       "       'Charg?e du recouvrement-DEPOSIT.COMPT.', 'CHEF RET',\n",
       "       'CHEF DE SITE INFORM SUPPL - CHARGE DE LA COMPTA',\n",
       "       'CHEF DE DIVISION (Attestation de Destination)',\n",
       "       'RECEVEUR DES DOUANES',\n",
       "       \"CHARGE DE MISSION MISE EN PLACE DU SCE D'ENQU?TE\",\n",
       "       'CHARGE DU SUIVI DES TRANSITS', 'CHEF DE SERVICE SRH',\n",
       "       'Charg?e du suivi des doss aup des cours et tribx',\n",
       "       'CHARGE SUIVI DOSSIER', 'Op?rateur de Saisie',\n",
       "       'CHEF DE DIVISION FORMATION CONTINUE',\n",
       "       'chef de division du contr?le RET',\n",
       "       'CHARGE DE MISSION SUR LA REALISATION DE GRANDS EVT',\n",
       "       'RECEVEUR DES DOUANES 34AS', 'V?rificateur',\n",
       "       'CHEF DES OPERATIONS COMMERCIALES 12IV',\n",
       "       'CHEF DE DIVISION INSPECTION', 'COORDONNATEUR 12IV',\n",
       "       'CHEF DE SERVICE SPCB', 'Charg? des statistiques',\n",
       "       'CHEF DE DIVISION TARIF', 'COORDONNATEUR-VERIFICATEUR',\n",
       "       'CHEF UNITE MOBILE DE SURVEILLANCE',\n",
       "       \"CHARGE D'ETUDES DES REGIMES ECONOMIQUES\",\n",
       "       'RECEVEUR DES DOUANES 25BT',\n",
       "       'AGENT DE VISITE SECTION CONTENTIEUSES', 'CHARGE AVIS DE PAIEMENT',\n",
       "       'RESPONSABLE DE LA FORMATION', 'SECRETAIRE-RH',\n",
       "       'ADJOINT AU RECEVEUR', 'CHARGE DU TRANSIT',\n",
       "       'CHARGE DE MANDATEMENT', 'LIQUIDATEUR',\n",
       "       'RECEVEUR DES DOUANES 11AN', 'OPERATEUR DE SAISIE',\n",
       "       'CHEF CONTENTIEUX-VERIFICATEUR',\n",
       "       'RECEVEUR DES DOUANES 33VO-BILLETEUR',\n",
       "       'CHEF DE DIVISION SUIVI STRATEGIQUE',\n",
       "       'CHARGE DU RAPPROCHEMENT DES DONNEES COMPTABLES',\n",
       "       'CHEF DE SITE INFORMATIQUE-BILLETEUR',\n",
       "       'CHEF DE DIVISION COMMUNICATION INTERNE',\n",
       "       \"CHEF DE DIVISION 'MODELISATION ET ANALYSE ECONOMQ.\",\n",
       "       'ADMINISTRATEUR DE SITE', 'RECEVEUR DES DOUANES 54TG-BILLETEUR',\n",
       "       'V?rificateur-RESP.RH',\n",
       "       'UNITE DE GESTION DES PASSATIONS DE MARCHE',\n",
       "       'CHARGE DE LA REPARTITION DES AMENDES',\n",
       "       'CHARGE DE MISSION PROCESSUS INTEGRAL',\n",
       "       'CHEF DE DIVISION APPUI AU SRH',\n",
       "       'CHEF DE DIVISION LITIGES ET CONTENTIEUX ADMIN.',\n",
       "       'CHEF DE DIVISION DE SUIVI FONCTIONNEL', 'SECR?TAIRE', 'AUDITEUR',\n",
       "       'CHARGE DE LA DOCUMENTATION', 'CHEF DE POSTE U.M.S.',\n",
       "       'AGENT DE BRIGADE UMS', 'CHEF DE DIVISION CONTENTIEUX',\n",
       "       'CHEF DE DIVISION RELATIONS PUBLIQUES ET COMM.EXT.',\n",
       "       'CHEF DE SERVICE SSLC', 'CHEF DE SERVICE SRAR',\n",
       "       'CHARGE DU SUIVI DES DOSSIERS AUPRES DES COURS/TRIB',\n",
       "       'ADJOINT AU CHEF DE POSTE',\n",
       "       'CHARGE DE LA FORMATION EN PARTENARIAT NATIONAL',\n",
       "       'CHEF DE SERVICE SLF', 'CHEF DE LA DIVISION PATRIMOINE',\n",
       "       'REPRESENTANT AU CENTRE IMMATRICULATEUR',\n",
       "       'CHARGE SUIVI DU DOSSIER DU SLR', 'CHEF DE SERVICE SSOC',\n",
       "       \"AGENT D'ENLEVEMENT\", 'CHEF DE SERVICE SCSR',\n",
       "       'Op?rateur de saisie donn?es', 'RECEVEUR DES DOUANES 63FI',\n",
       "       'CHARGE CAISSE ET COMPTABILITE',\n",
       "       'CHEF DE DIVISION RENSEIGNEMENT ET INVESTIGATION',\n",
       "       'CHEF DE POSTE-BILLETEUR',\n",
       "       'CHARGE DE LA NAVIG ET DU MANIFESTE-CHARGE CAISSE',\n",
       "       'CHARGE ENREGISTREMENT DEVISES', 'ANALYSTE',\n",
       "       \"CHARGE D'ETUDES-DEPOSITAIRE CPTBL\",\n",
       "       'CHEF DE DIVISION CONTROLE RET', 'COPCO MADARAIL ANTANANARIVO',\n",
       "       'CHEF DE GROUPE ESCALE', \"Agent d'Acceuil du Centre d'Information\",\n",
       "       'CHEF DE DIVISION MATERIELS',\n",
       "       'CHEF DE DIVISION AFFAIRES JURIDIQUES',\n",
       "       'CHEF DE DIVISION BANQUE DE DONNEES ET AUTOMATISAT?',\n",
       "       'CHEF DU SERVICE SSAE', 'CHARGE du Suivi du D?lai de D?douanement',\n",
       "       \"CHEF DE DIVISION D'APPUI SUIVI ET COORDINATION\",\n",
       "       'CHEF DE DIVISION DU SUIVI ADMINISTRATIF',\n",
       "       'CHEF DE DIVISION LEGISLATION', 'CHARGE RESEAU ET MAINTENANCE',\n",
       "       'CHARGE AVANCEMENT AGENTS NON ENCADRES',\n",
       "       'CHEF DE SERVICE DE LA FORMATION', 'CHARGE DE LA VALIDATION',\n",
       "       'Chauffeur - Coursier', \"CHARGE DU TRANSIT-CHEF D'EQUIPE AEROPORT\",\n",
       "       'CHARGE DE MISSION APPUI A LA DSCD',\n",
       "       'CAISSIER DES OPERATIONS A CREDIT',\n",
       "       'CHEF DE DIVISION DES AFFAIRES ADMINISTRATIVES',\n",
       "       'Comptable - BILLETEUR SUPPL - ORDSEC suppl',\n",
       "       'RECEVEUR DES DOUANES 32SA', 'CHARGE DE LA LOGISTIQUE',\n",
       "       'CHARGEE DOSSIERS ADMISSION TEMPORAIRE', 'AGENT DE VISITE MOLE A1',\n",
       "       'RECEVEUR DES DOUANES 24SM', 'BILLETEUR-SECRETAIRE',\n",
       "       'CONTROLEUR ENTREPOT', 'CONCEPTEUR EN RESSOURCES HUMAINES',\n",
       "       'VISITEUR BCB', 'CHEF DE ZONE', 'AGENT CHARGE DU CONTENTIEUX',\n",
       "       'CHEF CAISSE', \"AGENT D'ENTRETIEN ET DE MAINTENANCE POLYVALENT\",\n",
       "       'CHEF DE DIVISION GESTION DU PARC AUTOMOBILE',\n",
       "       'BILLETEUR-AGENT VISITEUR', 'AGENT DE LA BRIGADE NIVEAU 2',\n",
       "       'CHARGE DU SUIVI DES ZEF',\n",
       "       'Charg? des Entreprises Franches - AGOA', 'PLANTON CI-CO',\n",
       "       'CHARGE RECRUTEMENT ET AFFECTATION', 'CHEF DE PROJET SYDONIA WORD',\n",
       "       \"RESPONSABLE DU PERS - CHARGE D'ETUDES\",\n",
       "       'CHEF DE DIVISION DU CONTR?LE EN ENTREPRISE', \"charg? d'enqu?tes\",\n",
       "       'CHEF DE DIVISION LOGISTIQUE ET PERSONNEL', 'CHEF DE SERVICE SRI',\n",
       "       \"CHARGE D'ENQUETES NIVEAU 2\", 'CHARGE DU CONTENTIEUX RET',\n",
       "       'CHARGE DE VERIFICATION VOLUME ET QUANTITE', 'Brigade Portail',\n",
       "       'V?rificateur-CHEF CTX',\n",
       "       'CHEF DE MISSION DEMATERIALISATION ADMINISTRATIVE',\n",
       "       'DEPOSITAIRE COMPTABLE-RESP MAT', 'CHEF DE SERVICE SAJC',\n",
       "       'VERIFICATEUR-CHEF RET', 'CHEF DE BRIGADE SLF',\n",
       "       'CHEF DE SERVICE SDC', 'CHEF DE DIVISION AUDIT',\n",
       "       'VISITEUR-BILLETEUR',\n",
       "       'ASSISTANT DU CD ANALYS RISQ LIES AUX ACTIV MAR',\n",
       "       'CHARGE DE DEMATERIALISATION DES DOSSIERS CTX',\n",
       "       \"CHEF DE DIVISION VALEUR ENGINS ET TRACTEURS D'OCC.\",\n",
       "       'AGENT SCANNER EXPORT', 'CHEF DE DIVISION SOLDE',\n",
       "       'PLANTON CONTENTIEUX', 'COPDIV',\n",
       "       'AGENT SCANNER - CHARGE SOUMISSION',\n",
       "       'CONSEILLER AUX AFFAIRES DOUANIERES', 'ATTACHE DOUANIER A PARIS',\n",
       "       'CHEF DE DIVISION APPLICATION DES REFORMES',\n",
       "       'COORDONNATEUR DU CENTRE DE LIQUIDATION', 'CHEF DE DIVISION UCTS',\n",
       "       'CHARGE DE LA RECEVABILITE DOSSIERS VEHICULES',\n",
       "       'RECEVEUR DES DOUANES 14MA', 'CHARGE DE MISSION APPUI A LA DSE',\n",
       "       'CHEF DE SERVICE SLR', 'IVL',\n",
       "       'CHEF DE DIVISION GESTION ET SUIVI MESSG RISQ',\n",
       "       'CHEF DES OPERATIONS COMMERCIALES 25BT', 'CHARGE FIN DE CARRIERE',\n",
       "       'DIRECTEUR DES SERVICES EXTERIEURS', 'CHEF OPDIV 12IV',\n",
       "       'RECEVEUR DES DOUANES 22TP', 'CHEF SECTEUR BSTNR', '\\x04',\n",
       "       'CHEF DE SITE INFORMATIQUE SUPPLEANT', 'DIRECTEUR GENERAL',\n",
       "       'PLANTON - GARDIEN', 'COMPTABLE SOLDE',\n",
       "       'RESPONSABLE DE LA CELLULE DE GESTION DES PERF',\n",
       "       'RESPONSABLE MATERIEL-DEP.COMPT.', 'CHEF DE SERVICE SVO',\n",
       "       'CHEF SECTEUR BS TOAMASINA', 'CHEF COMPTABLE',\n",
       "       'FORMATEUR PERMANENT ET CHARGE DE MISSION GPEEC',\n",
       "       'ASSISTANT DIVISION CIBLAGE',\n",
       "       'CHEF DE DIVISION INFORMATIQUE DECISIONNELLE',\n",
       "       'RECEVEUR DES DOUANES 12IV',\n",
       "       'CHEF DE MISSION STRATEGIE DE MODERNISATION',\n",
       "       'DIRECTEUR DES STATISTIQUES ET DE LA COMPTABILITE',\n",
       "       'CHEF DE DIVISION VALEUR EN DOUANES ET BDD',\n",
       "       'CHARGE DE MISSION SUR ASSAINISSEMENT ZF ET EF',\n",
       "       'CHARGE DU MATERIEL', 'CHEF RET-VERIFICATEUR', 'DIRECTEUR DAJLF',\n",
       "       'COORDONNATEUR 21TO',\n",
       "       'CHEF DE DIVISION GESTION DE RENSEIGNEMENT ET RIS',\n",
       "       'CHEF DE DIVISION PROGRAMMATION',\n",
       "       'CHARGE DES ENTREPRISES FRANCHES ET AGOA',\n",
       "       'CHARGE DES COLIS POSTAUX',\n",
       "       'CHEF DE DIVISION SUIVI PROCEDURES ET COORDINATION',\n",
       "       \"Charg? de l'admission temporaire\",\n",
       "       'ADJOINT CHEF DE FILE-CHARGE DES AFFAIRES CTX', 'ASSISTANT',\n",
       "       'CHARGE DE RECOUVREMENT',\n",
       "       'CHEF DE LA DIVISION COOPERATION BILATERALE',\n",
       "       'CHEF DE ZONE EXPORT', 'PRMP', 'CHARGE DEPART DOSSIER',\n",
       "       'CHARGE NAVIG - VERIFICATEUR- CHARGE CAISSE/COMPTA', 'planton',\n",
       "       'RECEVEUR DES DOUANES 13AB', 'INFORMATICIEN ANALYSTE DE MANIFESTE',\n",
       "       'CHEF DE DIVISION COMM EXT ET REL PUB',\n",
       "       'CHARGE DE LA REFORME ET DE LA MODERNISATION',\n",
       "       'CHARGE ALIMENTATION SITE WEB',\n",
       "       'CHARGE DE LA COMPTABILITE ET DE LA CAISSE',\n",
       "       \"ASSISTANT AUX CHARGES D'ENQUETES\",\n",
       "       'CHARGE DE MANIFESTE ET NAVIGATION',\n",
       "       'CHARGE ETS T BORD- AGENT DE SURVEILLANCE ESCALE',\n",
       "       'CHARGE DE LA RECEVABILITE - AGENT DE SURV ESCALE',\n",
       "       'CHARGE SOUMISSION',\n",
       "       'CHARGE DE LA RECEVABILITE-AGENT DE SURV ESCALE',\n",
       "       'CHEF DE LA DIVISION COOPERATION REGIONALE', 'DEVELOPPEUR',\n",
       "       \"Charg? d'Etudes - D?positR Cmptble (Chq carbt)\",\n",
       "       'CHEF DE PROJET ADJOINT SYDONIA WORD', 'CHEF DE ZONE VISITE',\n",
       "       'CHEF DE SECTION CTRL EN MER ET MOY. DE TRANSP',\n",
       "       'AGENT POSTE PERMANENCE OPERATIONNELLE',\n",
       "       'CHEF DE DIVISION SECRETARIAT',\n",
       "       'CHEF DE DIVISION PARTENARIAT ET COMMUNICATION',\n",
       "       'CHARGE DE DEPOT ET VENTE AUX ENCHERES',\n",
       "       'CHARGE DU SUIVI MANIFESTE',\n",
       "       'CHARGE DU CONTENTIEUX ET DES ETATS DE REPARTITIONS',\n",
       "       'CHARGE DE LA RECEVA -SECRETAIRE- CHARGE DU PERS',\n",
       "       \"CHARGE D'ETUDES EN AUDIT ET INSPECTION\", 'CHARGE DU COURRIER',\n",
       "       \"CHARG? D'?TUDES\", 'CHARGE DU REGIME ECONOMIQUE ET DU TRANSIT',\n",
       "       'CHARGE DE SUIVI DES DOSSIERS', 'COORDINATEUR E-LEARNING',\n",
       "       'AGENT SCANNER-CHARGE MANIFESTE-CHARGE VAE',\n",
       "       'CHEF DE DIVISION ETUDES ET CONCEPTIONS',\n",
       "       'CHEF DE MISSION ASSAINISSEMENT DES ZEF',\n",
       "       'CHARGE DES ADMISSIONS TEMPORAIRES', 'TECHNICIEN EN INFORMATIQUE',\n",
       "       \"CHARGE D'ETUDES DE DIV DE L'APPLIC DES REFORMES\",\n",
       "       'CHEF DES OPERATIONS DIVERSES',\n",
       "       'ANALYSTE DE RENSEIGNEMENT COMMERCIAL',\n",
       "       'CHEF DES RET-CHARGE DES AFF CTX',\n",
       "       \"CHARGE D'ETUDES SUIVI STRATEGIQUE\",\n",
       "       \"CHARGE D'ETUDES DE LA SELECTIVITE\",\n",
       "       \"CHARGE D'ETUDES ENTREP?T ET EXPORTATION TEMP\",\n",
       "       'CHEF DE DIVISION VALEUR FOB ENGINS ET TRACTEURS-VR',\n",
       "       'AGENT PERMANENT ESCALE',\n",
       "       'CHEF DE DIVISION DES AFFAIRES JURIDIQUES',\n",
       "       'CHEF DE DIVISION DE CONTROLE DES GRANDES ESES',\n",
       "       'CHEF DE DIVISION INTERVENTION', 'CHEF DE SERVICE SID',\n",
       "       'CHEF DE DIVISION APPUI A LA DRF',\n",
       "       'CHEF DE DIVISION SUIVI DES REGIMES ECONOMIQUES',\n",
       "       'CHEF DE DIVISION COOPERATION INTERNATIONALE',\n",
       "       'CHEF DE DIVISION COORDINATION DES ACTIONS DES US',\n",
       "       'CHEF DE DIVISION CONTROLE SECTORIEL',\n",
       "       'CHEF DE DIVISION ORIENTATION DU CONTROLE',\n",
       "       'CHEF DE DIVISION INFORMATIQUE ET GESTION DE LA SEL'], dtype=object)"
      ]
     },
     "execution_count": 89,
     "metadata": {},
     "output_type": "execute_result"
    }
   ],
   "source": [
    "#statut_act\n",
    "df[qualitative[14]].unique()"
   ]
  },
  {
   "cell_type": "code",
   "execution_count": 90,
   "id": "2b6c623f",
   "metadata": {
    "pycharm": {
     "name": "#%%\n"
    }
   },
   "outputs": [],
   "source": [
    "df.to_csv(\"data/clean.csv\",index=False)\n",
    "\n"
   ]
  }
 ],
 "metadata": {
  "kernelspec": {
   "display_name": "Python 3 (ipykernel)",
   "language": "python",
   "name": "python3"
  },
  "language_info": {
   "codemirror_mode": {
    "name": "ipython",
    "version": 3
   },
   "file_extension": ".py",
   "mimetype": "text/x-python",
   "name": "python",
   "nbconvert_exporter": "python",
   "pygments_lexer": "ipython3",
   "version": "3.9.6"
  }
 },
 "nbformat": 4,
 "nbformat_minor": 5
}
