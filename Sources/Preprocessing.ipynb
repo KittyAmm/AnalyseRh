{
 "cells": [
  {
   "cell_type": "code",
   "execution_count": 1,
   "id": "d8bdd1e0",
   "metadata": {},
   "outputs": [],
   "source": [
    "%matplotlib inline\n",
    "import pandas as pd\n",
    "from scipy import stats\n",
    "import seaborn as sns\n",
    "\n",
    "import numpy as np\n",
    "from collections import Counter"
   ]
  },
  {
   "cell_type": "code",
   "execution_count": 2,
   "id": "615ffa22",
   "metadata": {},
   "outputs": [
    {
     "data": {
      "text/plain": "       sexe  date_naiss   age   sit_fam  job_ok  nbre_enf      nature  \\\n0  MASCULIN  26/07/1974  44.0  MARIE(E)       0         1     DIPLOME   \n1  MASCULIN  11/06/1979  39.0  MARIE(E)       1         2  CERTIFICAT   \n2  MASCULIN  11/06/1979  39.0  MARIE(E)       1         2     DIPLOME   \n3  MASCULIN  11/06/1979  39.0  MARIE(E)       1         2     DIPLOME   \n4  MASCULIN  11/06/1979  39.0  MARIE(E)       1         2  CERTIFICAT   \n\n                                              design  ann_dipl  ordre  ...  \\\n0         CERTIFICAT D'ETUDES PRIMAIRES ELEMENTAIRES       NaN      1  ...   \n1                           GRAPHISTE ET MAQUETTISTE       NaN      6  ...   \n2  DIPLOME D'INGENIEUR EN GENIE ELECTRONIQUE MANAGER    2008.0      1  ...   \n3    DIPLOME DE TECHNICIEN SUPERIEUR EN ELECTRONIQUE    2000.0      2  ...   \n4                   ADMINISTRATION RESEAUX-AUF JREWS       NaN      2  ...   \n\n  division_af  service_af  direction_af date_ps dat_retraite poste_act  \\\n0         NaN         SOC           DSE     NaN       2034.0      22TP   \n1         NaN         SOC           DSE     NaN       2039.0      22TP   \n2         NaN         SOC           DSE     NaN       2039.0      22TP   \n3         NaN         SOC           DSE     NaN       2039.0      22TP   \n4         NaN         SOC           DSE     NaN       2039.0      22TP   \n\n                     job_act dt_echeance tot_afct   statut_act  \n0                    ECOREUR      2019.0        3  EN FONCTION  \n1  CHEF DE SITE INFORMATIQUE      2013.0        1  EN FONCTION  \n2  CHEF DE SITE INFORMATIQUE      2013.0        1  EN FONCTION  \n3  CHEF DE SITE INFORMATIQUE      2013.0        1  EN FONCTION  \n4  CHEF DE SITE INFORMATIQUE      2013.0        1  EN FONCTION  \n\n[5 rows x 28 columns]",
      "text/html": "<div>\n<style scoped>\n    .dataframe tbody tr th:only-of-type {\n        vertical-align: middle;\n    }\n\n    .dataframe tbody tr th {\n        vertical-align: top;\n    }\n\n    .dataframe thead th {\n        text-align: right;\n    }\n</style>\n<table border=\"1\" class=\"dataframe\">\n  <thead>\n    <tr style=\"text-align: right;\">\n      <th></th>\n      <th>sexe</th>\n      <th>date_naiss</th>\n      <th>age</th>\n      <th>sit_fam</th>\n      <th>job_ok</th>\n      <th>nbre_enf</th>\n      <th>nature</th>\n      <th>design</th>\n      <th>ann_dipl</th>\n      <th>ordre</th>\n      <th>...</th>\n      <th>division_af</th>\n      <th>service_af</th>\n      <th>direction_af</th>\n      <th>date_ps</th>\n      <th>dat_retraite</th>\n      <th>poste_act</th>\n      <th>job_act</th>\n      <th>dt_echeance</th>\n      <th>tot_afct</th>\n      <th>statut_act</th>\n    </tr>\n  </thead>\n  <tbody>\n    <tr>\n      <th>0</th>\n      <td>MASCULIN</td>\n      <td>26/07/1974</td>\n      <td>44.0</td>\n      <td>MARIE(E)</td>\n      <td>0</td>\n      <td>1</td>\n      <td>DIPLOME</td>\n      <td>CERTIFICAT D'ETUDES PRIMAIRES ELEMENTAIRES</td>\n      <td>NaN</td>\n      <td>1</td>\n      <td>...</td>\n      <td>NaN</td>\n      <td>SOC</td>\n      <td>DSE</td>\n      <td>NaN</td>\n      <td>2034.0</td>\n      <td>22TP</td>\n      <td>ECOREUR</td>\n      <td>2019.0</td>\n      <td>3</td>\n      <td>EN FONCTION</td>\n    </tr>\n    <tr>\n      <th>1</th>\n      <td>MASCULIN</td>\n      <td>11/06/1979</td>\n      <td>39.0</td>\n      <td>MARIE(E)</td>\n      <td>1</td>\n      <td>2</td>\n      <td>CERTIFICAT</td>\n      <td>GRAPHISTE ET MAQUETTISTE</td>\n      <td>NaN</td>\n      <td>6</td>\n      <td>...</td>\n      <td>NaN</td>\n      <td>SOC</td>\n      <td>DSE</td>\n      <td>NaN</td>\n      <td>2039.0</td>\n      <td>22TP</td>\n      <td>CHEF DE SITE INFORMATIQUE</td>\n      <td>2013.0</td>\n      <td>1</td>\n      <td>EN FONCTION</td>\n    </tr>\n    <tr>\n      <th>2</th>\n      <td>MASCULIN</td>\n      <td>11/06/1979</td>\n      <td>39.0</td>\n      <td>MARIE(E)</td>\n      <td>1</td>\n      <td>2</td>\n      <td>DIPLOME</td>\n      <td>DIPLOME D'INGENIEUR EN GENIE ELECTRONIQUE MANAGER</td>\n      <td>2008.0</td>\n      <td>1</td>\n      <td>...</td>\n      <td>NaN</td>\n      <td>SOC</td>\n      <td>DSE</td>\n      <td>NaN</td>\n      <td>2039.0</td>\n      <td>22TP</td>\n      <td>CHEF DE SITE INFORMATIQUE</td>\n      <td>2013.0</td>\n      <td>1</td>\n      <td>EN FONCTION</td>\n    </tr>\n    <tr>\n      <th>3</th>\n      <td>MASCULIN</td>\n      <td>11/06/1979</td>\n      <td>39.0</td>\n      <td>MARIE(E)</td>\n      <td>1</td>\n      <td>2</td>\n      <td>DIPLOME</td>\n      <td>DIPLOME DE TECHNICIEN SUPERIEUR EN ELECTRONIQUE</td>\n      <td>2000.0</td>\n      <td>2</td>\n      <td>...</td>\n      <td>NaN</td>\n      <td>SOC</td>\n      <td>DSE</td>\n      <td>NaN</td>\n      <td>2039.0</td>\n      <td>22TP</td>\n      <td>CHEF DE SITE INFORMATIQUE</td>\n      <td>2013.0</td>\n      <td>1</td>\n      <td>EN FONCTION</td>\n    </tr>\n    <tr>\n      <th>4</th>\n      <td>MASCULIN</td>\n      <td>11/06/1979</td>\n      <td>39.0</td>\n      <td>MARIE(E)</td>\n      <td>1</td>\n      <td>2</td>\n      <td>CERTIFICAT</td>\n      <td>ADMINISTRATION RESEAUX-AUF JREWS</td>\n      <td>NaN</td>\n      <td>2</td>\n      <td>...</td>\n      <td>NaN</td>\n      <td>SOC</td>\n      <td>DSE</td>\n      <td>NaN</td>\n      <td>2039.0</td>\n      <td>22TP</td>\n      <td>CHEF DE SITE INFORMATIQUE</td>\n      <td>2013.0</td>\n      <td>1</td>\n      <td>EN FONCTION</td>\n    </tr>\n  </tbody>\n</table>\n<p>5 rows × 28 columns</p>\n</div>"
     },
     "execution_count": 2,
     "metadata": {},
     "output_type": "execute_result"
    }
   ],
   "source": [
    "data=pd.read_csv(\"data/clean.csv\")\n",
    "data.head()"
   ]
  },
  {
   "cell_type": "code",
   "execution_count": 3,
   "id": "b08c48de",
   "metadata": {},
   "outputs": [],
   "source": [
    "df=data.copy()"
   ]
  },
  {
   "cell_type": "code",
   "execution_count": 4,
   "id": "f1aaaed6",
   "metadata": {},
   "outputs": [],
   "source": [
    "numeric = []\n",
    "qualitative= []\n",
    "\n",
    "for variable in df.columns.tolist():\n",
    "    if df.dtypes[variable] in ['float64','int64']:\n",
    "        numeric.append(variable)\n",
    "    else :\n",
    "        qualitative.append(variable)"
   ]
  },
  {
   "cell_type": "markdown",
   "id": "8c958dc8",
   "metadata": {},
   "source": [
    "##### Test de normalité"
   ]
  },
  {
   "cell_type": "code",
   "execution_count": 5,
   "id": "a989e55c",
   "metadata": {},
   "outputs": [],
   "source": [
    "def shapiro_test(x):\n",
    "    try :\n",
    "        res = stats.shapiro(x)\n",
    "    except :\n",
    "        return -1\n",
    "    alpha = 0.05\n",
    "\n",
    "    print(\"p = \",res.pvalue)\n",
    "\n",
    "    if res.pvalue < alpha:  # null hypothesis: x comes from a normal distribution\n",
    "\n",
    "        print(\"(shapiro)The null hypothesis can be rejected -> X ne possède pas une distribution normale\")\n",
    "\n",
    "    else:\n",
    "\n",
    "        print(\"(shapiro) The null hypothesis cannot be rejected -> X possède éventuellement une distribution normale\")\n",
    "\n",
    "    return res\n",
    "\n",
    "def omnibus_normaltest(x):\n",
    "    #test D'Agostino-Pearson\n",
    "    try :\n",
    "        k2, p = stats.normaltest(x)\n",
    "    except :\n",
    "        return -1\n",
    "\n",
    "    alpha = 0.05\n",
    "\n",
    "    print(\"p = \",p)\n",
    "\n",
    "    if p < alpha:  # null hypothesis: x comes from a normal distribution\n",
    "\n",
    "        print(\"(normaltest) The null hypothesis can be rejected -> X ne possède pas une distribution normale\")\n",
    "\n",
    "    else:\n",
    "\n",
    "        print(\"(normaltest) The null hypothesis cannot be rejected -> X possède éventuellement une distribution normale\")\n",
    "\n",
    "    return [k2,p]"
   ]
  },
  {
   "cell_type": "markdown",
   "id": "14338d8e",
   "metadata": {},
   "source": [
    "## valeur missing"
   ]
  },
  {
   "cell_type": "code",
   "execution_count": 6,
   "id": "becc62b3",
   "metadata": {},
   "outputs": [
    {
     "data": {
      "text/plain": "        variable valeur_NA Pourcentage_NA     type\n0    division_af     14744          95.49   object\n1    fonction_af     10368          67.15   object\n2       ann_dipl      8727          56.52  float64\n3        date_ps      8524           55.2  float64\n4   direction_af      8299          53.75   object\n5   motif_affect      7925          51.32   object\n6     service_af      6910          44.75   object\n7        job_act      3040          19.69   object\n8    dt_echeance      2958          19.16  float64\n9        sit_fam       320           2.07   object\n10  dat_retraite        84           0.54  float64\n11    statut_act        65           0.42   object\n12     poste_ent        30           0.19   object\n13        design        15            0.1   object\n14     annee_ent         8           0.05  float64\n15      mode_ent         7           0.05   object\n16     corps_ent         4           0.03   object",
      "text/html": "<div>\n<style scoped>\n    .dataframe tbody tr th:only-of-type {\n        vertical-align: middle;\n    }\n\n    .dataframe tbody tr th {\n        vertical-align: top;\n    }\n\n    .dataframe thead th {\n        text-align: right;\n    }\n</style>\n<table border=\"1\" class=\"dataframe\">\n  <thead>\n    <tr style=\"text-align: right;\">\n      <th></th>\n      <th>variable</th>\n      <th>valeur_NA</th>\n      <th>Pourcentage_NA</th>\n      <th>type</th>\n    </tr>\n  </thead>\n  <tbody>\n    <tr>\n      <th>0</th>\n      <td>division_af</td>\n      <td>14744</td>\n      <td>95.49</td>\n      <td>object</td>\n    </tr>\n    <tr>\n      <th>1</th>\n      <td>fonction_af</td>\n      <td>10368</td>\n      <td>67.15</td>\n      <td>object</td>\n    </tr>\n    <tr>\n      <th>2</th>\n      <td>ann_dipl</td>\n      <td>8727</td>\n      <td>56.52</td>\n      <td>float64</td>\n    </tr>\n    <tr>\n      <th>3</th>\n      <td>date_ps</td>\n      <td>8524</td>\n      <td>55.2</td>\n      <td>float64</td>\n    </tr>\n    <tr>\n      <th>4</th>\n      <td>direction_af</td>\n      <td>8299</td>\n      <td>53.75</td>\n      <td>object</td>\n    </tr>\n    <tr>\n      <th>5</th>\n      <td>motif_affect</td>\n      <td>7925</td>\n      <td>51.32</td>\n      <td>object</td>\n    </tr>\n    <tr>\n      <th>6</th>\n      <td>service_af</td>\n      <td>6910</td>\n      <td>44.75</td>\n      <td>object</td>\n    </tr>\n    <tr>\n      <th>7</th>\n      <td>job_act</td>\n      <td>3040</td>\n      <td>19.69</td>\n      <td>object</td>\n    </tr>\n    <tr>\n      <th>8</th>\n      <td>dt_echeance</td>\n      <td>2958</td>\n      <td>19.16</td>\n      <td>float64</td>\n    </tr>\n    <tr>\n      <th>9</th>\n      <td>sit_fam</td>\n      <td>320</td>\n      <td>2.07</td>\n      <td>object</td>\n    </tr>\n    <tr>\n      <th>10</th>\n      <td>dat_retraite</td>\n      <td>84</td>\n      <td>0.54</td>\n      <td>float64</td>\n    </tr>\n    <tr>\n      <th>11</th>\n      <td>statut_act</td>\n      <td>65</td>\n      <td>0.42</td>\n      <td>object</td>\n    </tr>\n    <tr>\n      <th>12</th>\n      <td>poste_ent</td>\n      <td>30</td>\n      <td>0.19</td>\n      <td>object</td>\n    </tr>\n    <tr>\n      <th>13</th>\n      <td>design</td>\n      <td>15</td>\n      <td>0.1</td>\n      <td>object</td>\n    </tr>\n    <tr>\n      <th>14</th>\n      <td>annee_ent</td>\n      <td>8</td>\n      <td>0.05</td>\n      <td>float64</td>\n    </tr>\n    <tr>\n      <th>15</th>\n      <td>mode_ent</td>\n      <td>7</td>\n      <td>0.05</td>\n      <td>object</td>\n    </tr>\n    <tr>\n      <th>16</th>\n      <td>corps_ent</td>\n      <td>4</td>\n      <td>0.03</td>\n      <td>object</td>\n    </tr>\n  </tbody>\n</table>\n</div>"
     },
     "execution_count": 6,
     "metadata": {},
     "output_type": "execute_result"
    }
   ],
   "source": [
    "def missing(df):\n",
    "    df_null = pd.DataFrame([df.isnull().sum(),round(100*df.isnull().sum()/ len(df), 2), df.dtypes]).transpose().reset_index()\n",
    "    df_null.columns = [\"variable\", \"valeur_NA\", \"Pourcentage_NA\", \"type\"]\n",
    "    df_null = df_null[df_null.valeur_NA != 0].sort_values(\"valeur_NA\",ascending = False).reset_index(drop = True)\n",
    "    return df_null\n",
    "missing(df)"
   ]
  },
  {
   "cell_type": "code",
   "execution_count": 7,
   "id": "5d8841a0",
   "metadata": {},
   "outputs": [
    {
     "data": {
      "text/plain": "['division_af']"
     },
     "execution_count": 7,
     "metadata": {},
     "output_type": "execute_result"
    }
   ],
   "source": [
    "list(data.columns[data.isnull().sum() / len(data) > 0.75])"
   ]
  },
  {
   "cell_type": "code",
   "execution_count": 8,
   "id": "ed0f6792",
   "metadata": {},
   "outputs": [],
   "source": [
    "d=data.copy()\n",
    "df = d.drop('division_af',axis=1)"
   ]
  },
  {
   "cell_type": "code",
   "execution_count": 9,
   "id": "dc3c52b7",
   "metadata": {},
   "outputs": [
    {
     "data": {
      "text/plain": "       variable valeur_NA Pourcentage_NA     type\n0   fonction_af     10060          67.15   object\n1      ann_dipl      8394          56.03  float64\n2       date_ps      8380          55.93  float64\n3  direction_af      8194          54.69   object\n4  motif_affect      7666          51.17   object\n5    service_af      6794          45.35   object\n6       job_act      2965          19.79   object\n7   dt_echeance      2927          19.54  float64",
      "text/html": "<div>\n<style scoped>\n    .dataframe tbody tr th:only-of-type {\n        vertical-align: middle;\n    }\n\n    .dataframe tbody tr th {\n        vertical-align: top;\n    }\n\n    .dataframe thead th {\n        text-align: right;\n    }\n</style>\n<table border=\"1\" class=\"dataframe\">\n  <thead>\n    <tr style=\"text-align: right;\">\n      <th></th>\n      <th>variable</th>\n      <th>valeur_NA</th>\n      <th>Pourcentage_NA</th>\n      <th>type</th>\n    </tr>\n  </thead>\n  <tbody>\n    <tr>\n      <th>0</th>\n      <td>fonction_af</td>\n      <td>10060</td>\n      <td>67.15</td>\n      <td>object</td>\n    </tr>\n    <tr>\n      <th>1</th>\n      <td>ann_dipl</td>\n      <td>8394</td>\n      <td>56.03</td>\n      <td>float64</td>\n    </tr>\n    <tr>\n      <th>2</th>\n      <td>date_ps</td>\n      <td>8380</td>\n      <td>55.93</td>\n      <td>float64</td>\n    </tr>\n    <tr>\n      <th>3</th>\n      <td>direction_af</td>\n      <td>8194</td>\n      <td>54.69</td>\n      <td>object</td>\n    </tr>\n    <tr>\n      <th>4</th>\n      <td>motif_affect</td>\n      <td>7666</td>\n      <td>51.17</td>\n      <td>object</td>\n    </tr>\n    <tr>\n      <th>5</th>\n      <td>service_af</td>\n      <td>6794</td>\n      <td>45.35</td>\n      <td>object</td>\n    </tr>\n    <tr>\n      <th>6</th>\n      <td>job_act</td>\n      <td>2965</td>\n      <td>19.79</td>\n      <td>object</td>\n    </tr>\n    <tr>\n      <th>7</th>\n      <td>dt_echeance</td>\n      <td>2927</td>\n      <td>19.54</td>\n      <td>float64</td>\n    </tr>\n  </tbody>\n</table>\n</div>"
     },
     "execution_count": 9,
     "metadata": {},
     "output_type": "execute_result"
    }
   ],
   "source": [
    "d=list(data.columns[data.isnull().sum() / len(data) < 0.05])\n",
    "for i in list(d):\n",
    "    df = df.dropna(subset=[i], axis=0)\n",
    "missing(df)"
   ]
  },
  {
   "cell_type": "code",
   "execution_count": 10,
   "id": "24d60f15",
   "metadata": {},
   "outputs": [],
   "source": [
    "df['fonction_af'] = df['fonction_af'].fillna(df['fonction_af'].mode()[0])\n",
    "df['direction_af'] = df['direction_af'].fillna(df['direction_af'].mode()[0])\n",
    "df['motif_affect'] = df['motif_affect'].fillna(df['motif_affect'].mode()[0])\n",
    "df['service_af'] = df['service_af'].fillna(df['service_af'].mode()[0])\n",
    "df['job_act'] = df['job_act'].fillna(df['job_act'].mode()[0])\n",
    "\n",
    "d=list(df.columns[df.isnull().sum() / len(df) < 0.05])\n",
    "for i in list(d):\n",
    "    df = df.dropna(subset=[i], axis=0)\n",
    "\n",
    "from sklearn.impute import KNNImputer\n",
    "df[numeric]=KNNImputer(missing_values=np.nan, n_neighbors=3).fit_transform(df[numeric])\n",
    "df[numeric] = np.round(df[numeric],decimals = 0)\n"
   ]
  },
  {
   "cell_type": "code",
   "execution_count": 11,
   "id": "fd766635",
   "metadata": {},
   "outputs": [
    {
     "data": {
      "text/plain": "Empty DataFrame\nColumns: [variable, valeur_NA, Pourcentage_NA, type]\nIndex: []",
      "text/html": "<div>\n<style scoped>\n    .dataframe tbody tr th:only-of-type {\n        vertical-align: middle;\n    }\n\n    .dataframe tbody tr th {\n        vertical-align: top;\n    }\n\n    .dataframe thead th {\n        text-align: right;\n    }\n</style>\n<table border=\"1\" class=\"dataframe\">\n  <thead>\n    <tr style=\"text-align: right;\">\n      <th></th>\n      <th>variable</th>\n      <th>valeur_NA</th>\n      <th>Pourcentage_NA</th>\n      <th>type</th>\n    </tr>\n  </thead>\n  <tbody>\n  </tbody>\n</table>\n</div>"
     },
     "execution_count": 11,
     "metadata": {},
     "output_type": "execute_result"
    }
   ],
   "source": [
    "missing(df)"
   ]
  },
  {
   "cell_type": "markdown",
   "id": "eca2bf7c",
   "metadata": {
    "pycharm": {
     "name": "#%% md\n"
    }
   },
   "source": [
    "## Valeur aberrante"
   ]
  },
  {
   "cell_type": "code",
   "id": "b5af4909",
   "metadata": {
    "pycharm": {
     "name": "#%%\n"
    }
   },
   "source": [
    "# Outlier detection\n",
    "\n",
    "def detect_outliers(df,n,features):\n",
    "    \"\"\"\n",
    "    Takes a dataframe df of features and returns a list of the indices\n",
    "    corresponding to the observations containing more than n outliers according\n",
    "    to the Tukey method.\n",
    "    \"\"\"\n",
    "    outlier_indices = []\n",
    "\n",
    "    # iterate over features(columns)\n",
    "    for col in features:\n",
    "        # 1st quartile (25%)\n",
    "        Q1 = np.percentile(df[col], 25)\n",
    "        # 3rd quartile (75%)\n",
    "        Q3 = np.percentile(df[col],75)\n",
    "        # Interquartile range (IQR)\n",
    "        IQR = Q3 - Q1\n",
    "\n",
    "        # outlier step\n",
    "        outlier_step = 1.5 * IQR\n",
    "\n",
    "        # Determine a list of indices of outliers for feature col\n",
    "        outlier_list_col = df[(df[col] < Q1 - outlier_step) | (df[col] > Q3 + outlier_step )].index\n",
    "\n",
    "        # append the found outlier indices for col to the list of outlier indices\n",
    "        outlier_indices.extend(outlier_list_col)\n",
    "\n",
    "    # select observations containing more than 2 outliers\n",
    "    outlier_indices = Counter(outlier_indices)\n",
    "    multiple_outliers = list( k for k, v in outlier_indices.items() if v > n )\n",
    "\n",
    "    return multiple_outliers\n",
    "\n",
    "Outliers_to_drop = detect_outliers(df,1,numeric)\n",
    "df.drop(Outliers_to_drop,0,inplace=True)\n",
    "len(Outliers_to_drop)"
   ],
   "execution_count": 12,
   "outputs": [
    {
     "name": "stderr",
     "output_type": "stream",
     "text": [
      "C:\\Users\\kitty\\AppData\\Local\\Temp/ipykernel_18996/2595745927.py:36: FutureWarning: In a future version of pandas all arguments of DataFrame.drop except for the argument 'labels' will be keyword-only\n",
      "  df.drop(Outliers_to_drop,0,inplace=True)\n"
     ]
    },
    {
     "data": {
      "text/plain": "1656"
     },
     "execution_count": 12,
     "metadata": {},
     "output_type": "execute_result"
    }
   ]
  },
  {
   "cell_type": "markdown",
   "id": "eaf6aa57",
   "metadata": {
    "pycharm": {
     "name": "#%% md\n"
    }
   },
   "source": [
    "## Teste de normalite"
   ]
  },
  {
   "cell_type": "code",
   "id": "14fccdcf",
   "metadata": {
    "pycharm": {
     "name": "#%%\n"
    }
   },
   "source": [
    "# Shapiro-Wilk Test\n",
    "from scipy.stats import shapiro\n",
    "def Shapiro(d):\n",
    "    stat, p = shapiro(d)\n",
    "    print('Statistics=%.3f, p=%.3f' % (stat, p))\n",
    "    # interpret\n",
    "    alpha = 0.05\n",
    "    if p > alpha:\n",
    "        print('Sample looks Gaussian (fail to reject H0)')\n",
    "    else:\n",
    "        print('Sample does not look Gaussian (reject H0)')\n",
    "\n",
    "for i in numeric:\n",
    "    print(i)\n",
    "    Shapiro(df[i])"
   ],
   "execution_count": 13,
   "outputs": [
    {
     "name": "stdout",
     "output_type": "stream",
     "text": [
      "age\n",
      "Statistics=0.972, p=0.000\n",
      "Sample does not look Gaussian (reject H0)\n",
      "job_ok\n",
      "Statistics=0.096, p=0.000\n",
      "Sample does not look Gaussian (reject H0)\n",
      "nbre_enf\n",
      "Statistics=0.886, p=0.000\n",
      "Sample does not look Gaussian (reject H0)\n",
      "ann_dipl\n",
      "Statistics=0.083, p=0.000\n",
      "Sample does not look Gaussian (reject H0)\n",
      "ordre\n",
      "Statistics=0.859, p=0.000\n",
      "Sample does not look Gaussian (reject H0)\n",
      "annee_ent\n",
      "Statistics=0.918, p=0.000\n",
      "Sample does not look Gaussian (reject H0)\n",
      "date_ent\n",
      "Statistics=0.918, p=0.000\n",
      "Sample does not look Gaussian (reject H0)\n",
      "date_ps\n",
      "Statistics=0.909, p=0.000\n",
      "Sample does not look Gaussian (reject H0)\n",
      "dat_retraite\n",
      "Statistics=0.972, p=0.000\n",
      "Sample does not look Gaussian (reject H0)\n",
      "dt_echeance\n",
      "Statistics=0.791, p=0.000\n",
      "Sample does not look Gaussian (reject H0)\n",
      "tot_afct\n",
      "Statistics=0.931, p=0.000\n",
      "Sample does not look Gaussian (reject H0)\n"
     ]
    },
    {
     "name": "stderr",
     "output_type": "stream",
     "text": [
      "c:\\users\\kitty\\pycharmprojects\\testaffichage\\venv\\lib\\site-packages\\scipy\\stats\\morestats.py:1760: UserWarning: p-value may not be accurate for N > 5000.\n",
      "  warnings.warn(\"p-value may not be accurate for N > 5000.\")\n"
     ]
    }
   ]
  },
  {
   "cell_type": "code",
   "execution_count": 14,
   "id": "9faf0636",
   "metadata": {},
   "outputs": [
    {
     "name": "stdout",
     "output_type": "stream",
     "text": [
      "Statistics=588.311, p=0.000\n",
      "Sample does not look Gaussian (reject H0)\n",
      "Statistics=17929.545, p=0.000\n",
      "Sample does not look Gaussian (reject H0)\n",
      "Statistics=2508.015, p=0.000\n",
      "Sample does not look Gaussian (reject H0)\n",
      "Statistics=34215.770, p=0.000\n",
      "Sample does not look Gaussian (reject H0)\n",
      "Statistics=2940.494, p=0.000\n",
      "Sample does not look Gaussian (reject H0)\n",
      "Statistics=441.773, p=0.000\n",
      "Sample does not look Gaussian (reject H0)\n",
      "Statistics=441.894, p=0.000\n",
      "Sample does not look Gaussian (reject H0)\n",
      "Statistics=2140.178, p=0.000\n",
      "Sample does not look Gaussian (reject H0)\n",
      "Statistics=604.876, p=0.000\n",
      "Sample does not look Gaussian (reject H0)\n",
      "Statistics=4205.323, p=0.000\n",
      "Sample does not look Gaussian (reject H0)\n",
      "Statistics=2685.937, p=0.000\n",
      "Sample does not look Gaussian (reject H0)\n"
     ]
    }
   ],
   "source": [
    "from scipy.stats import normaltest\n",
    "def agostino_test(d):\n",
    "    stat, p = normaltest(d)\n",
    "    print('Statistics=%.3f, p=%.3f' % (stat, p))\n",
    "    # interpret\n",
    "    alpha = 0.05\n",
    "    if p > alpha:\n",
    "        print('Sample looks Gaussian (fail to reject H0)')\n",
    "    else:\n",
    "        print('Sample does not look Gaussian (reject H0)')\n",
    "\n",
    "for i in numeric:\n",
    "    agostino_test(df[i])"
   ]
  },
  {
   "cell_type": "code",
   "execution_count": 15,
   "id": "6cea7555",
   "metadata": {},
   "outputs": [
    {
     "name": "stdout",
     "output_type": "stream",
     "text": [
      "\n",
      " age\n",
      "Statistics=0.987, p=0.000\n",
      "Sample does not look Gaussian (reject H0)\n",
      "\n",
      " job_ok\n",
      "Statistics=nan, p=1.000\n",
      "Sample looks Gaussian (fail to reject H0)\n",
      "\n",
      " nbre_enf\n",
      "Statistics=nan, p=1.000\n",
      "Sample looks Gaussian (fail to reject H0)\n",
      "\n",
      " ann_dipl\n",
      "Statistics=0.020, p=0.000\n",
      "Sample does not look Gaussian (reject H0)\n",
      "\n",
      " ordre\n",
      "Statistics=0.926, p=0.000\n",
      "Sample does not look Gaussian (reject H0)\n",
      "\n",
      " annee_ent\n",
      "Statistics=0.874, p=0.000\n",
      "Sample does not look Gaussian (reject H0)\n",
      "\n",
      " date_ent\n",
      "Statistics=0.874, p=0.000\n",
      "Sample does not look Gaussian (reject H0)\n",
      "\n",
      " date_ps\n",
      "Statistics=0.800, p=0.000\n",
      "Sample does not look Gaussian (reject H0)\n",
      "\n",
      " dat_retraite\n",
      "Statistics=0.957, p=0.000\n",
      "Sample does not look Gaussian (reject H0)\n",
      "\n",
      " dt_echeance\n",
      "Statistics=0.666, p=0.000\n",
      "Sample does not look Gaussian (reject H0)\n",
      "\n",
      " tot_afct\n",
      "Statistics=nan, p=1.000\n",
      "Sample looks Gaussian (fail to reject H0)\n"
     ]
    },
    {
     "name": "stderr",
     "output_type": "stream",
     "text": [
      "c:\\users\\kitty\\pycharmprojects\\testaffichage\\venv\\lib\\site-packages\\pandas\\core\\arraylike.py:364: RuntimeWarning: divide by zero encountered in log\n",
      "  result = getattr(ufunc, method)(*inputs, **kwargs)\n"
     ]
    }
   ],
   "source": [
    "p_values = {}\n",
    "for col in numeric:\n",
    "    print(\"\\n\",col)\n",
    "    Shapiro(np.log(df[col].dropna()))"
   ]
  },
  {
   "cell_type": "code",
   "id": "96eb79a7",
   "metadata": {
    "pycharm": {
     "name": "#%%\n"
    }
   },
   "source": [
    "len(df[qualitative[4]].unique())"
   ],
   "execution_count": 16,
   "outputs": [
    {
     "data": {
      "text/plain": "1282"
     },
     "execution_count": 16,
     "metadata": {},
     "output_type": "execute_result"
    }
   ]
  },
  {
   "cell_type": "code",
   "id": "157d1caf",
   "metadata": {
    "pycharm": {
     "name": "#%%\n"
    }
   },
   "source": [
    "formation=['ECONOMIE CIRCULAIRE ET DEVELOPPEMENT DURABLE','CFEPENN','2EME REUNION DES EXPERTS DE','AGOA','FORMATION','SCANNER','RAPPROCHEMENT DES DONNEES COMPTABLES','RENFORCEMENT','SEMINAIRE','LUTTE','SURVEILLANCE','ATELIER','TECHNIQUE D\\'ENQUETE','SCANNER','DACTYLOGRAPHIE','FOOD SAFETY INSPECTION TECHNOLOGY','COMMUNICATION INTERPERSONNELLE','ACCUEIL DES USAGERS','SURETE AEROPORTUAIRE','ATELIER SUR LES NEGOCIATIONS SUR LA ZLET TRIPARTITE','VALEUR TRANSACTIONNELLE','COMPTABILITE','BAE','MECANICIEN','CONTROLE A POSTERIORI','OPERATEUR IMAGE SCANNER','TABLEAU DE BORD','CORRESPONDANCE ADMINISTRATIVE','ATTACHE D\\'ADMINISTRATION','REGLES D\\'ORIGINE','SECRETARIAT','TEAM MANAGEMENT','DEVELOPPEMENT PERSONNEL','GESTION AXEE SUR LES RESULTATS','SECRETARIAT','MISE A NIVEAU','MECANIQUE AUTOMOBILE','MANAGEMENT ET LEADERSHIP','BUREAUTIQUE','LEADERSHIP','FORMATION']\n",
    "MAITRISE=['DUES','4E ANNEE','BACC+4','BACC+5','SECOND CYCLE',\"DIPLOME D'ETUDES PROFESSIONNELLES APPROFONDIES\",'4EME ANNEE','MASTER','MAITRISE','ETHIQUE ET DEONTOLOGIE','DEA','MAGISTERE','INGENIORAT','INGENIEUR','2ND CYCLE','BACCALAUREAT+4']\n",
    "LICENCE =['3EME ANNEE','BACC+3','LICENCE']\n",
    "BREVET=['BREVET','CFEPCES','PREBAC','PRE BAC','BEPC']\n",
    "PRIMAIRE=['CAE/EB','CEPE','CERTIFICAT D\\'ETUDES PRIMAIRES ELEMENTAIRES']\n",
    "DOUANE=['SYDONIA++','PROCEDURE DE DEDOUANEMENT','DOUAN','TRANSIT']\n",
    "LANGUES=['B1-B2','ANGLAIS','FRANCAIS','DELF','ENGLISH','MTCP']\n",
    "INFORMATIQUE=['ANALYSE D\\'IMAGE','ATTESTATION','ELECTRONIQUE','ELECTROTECHNIQUE','PROGRAMMATION','DEVELOPPEUR','SOFTWARE','BASE DE DONNEE','ORACLE','EXCEL','WEB','LINUX','GRAPHISTE','RESEAU','INFORMATIQUE','PROGRAMMEUR']\n",
    "PERMIS=['PERMIS','MAINTENANCE AUTOMOBILE','CHAUFFEUR','MECANIQUE AUTO','CONDUCTEUR']\n",
    "BACC=['BACC','BACALAUREAT']\n",
    "SUPERIEUR=['BT','BATIMENT','COMPTABLE','AUDIT INTERNE','DROIT','GESTION','DROIT / GEOGRAPHIE','MANAGEMENT','DIPLOME','INFA','IST-T','COMMUNICATION','SUPERIEUR','UNIVERSITAIRE','COACHING','CHEF','BANCAIRES','INTERNATIONALES','ETUDES APPROFONDIES','SERVICE NATIONAL HORS FORCES ARMEES','RADIOPROTECTION','ETUDES JUDICIAIRES','CONTROLE A LA CIRCULATION','MARCHE PUBLIC','ENVIRONNEMENT','OZONE','SURETE AEROPORTUAIRE ET FRAUDE DOCUMENTAIRE','SUBSTANCES APPAUVRISSANT LA COUCHE D\\'OZONE','COMMERCE INTERNATIONAL','CITES','CONTROLE DES SUBSTANCES APPAUVRISSANT LA COUCHE D\\'OZONE','DIPLOME D\\'ATTACHE D\\'ADMINISTRATION']\n",
    "DTS=['2E ANNEE','DEUG','2EME ANNEE','BACC+2','DTS']\n",
    "Autres=['FORMATION','MAITRISE','LICENCE','BREVET','PRIMAIRE','DOUANE','LANGUES','INFORMATIQUE','PERMIS','BACC','SUPERIEUR','DTS']\n",
    "dat = list(df[qualitative[4]])\n",
    "for index, value in enumerate(dat):\n",
    "    for i in DTS:\n",
    "        if i in str(value):\n",
    "            dat[index]='DTS'\n",
    "    for i in BACC:\n",
    "        if i in str(value):\n",
    "            dat[index]='BACC'\n",
    "    for i in SUPERIEUR:\n",
    "        if i in str(value):\n",
    "            dat[index]='SUPERIEUR'\n",
    "    for i in PERMIS:\n",
    "        if i in str(value):\n",
    "            dat[index]='PERMIS'\n",
    "    for i in INFORMATIQUE:\n",
    "        if i in str(value):\n",
    "            dat[index]='INFORMATIQUE'\n",
    "    for i in LANGUES:\n",
    "        if i in str(value):\n",
    "            dat[index]='LANGUES'\n",
    "    for i in DOUANE:\n",
    "        if i in str(value):\n",
    "            dat[index]='DOUANE'\n",
    "    for i in PRIMAIRE:\n",
    "        if i in str(value):\n",
    "            dat[index]='PRIMAIRE'\n",
    "    for i in BREVET:\n",
    "        if i in str(value):\n",
    "            dat[index]='BREVET'\n",
    "    for i in LICENCE:\n",
    "        if i in str(value):\n",
    "            dat[index]='LICENCE'\n",
    "    for i in formation:\n",
    "        if str(i) in str(value):\n",
    "            dat[index]='FORMATION'\n",
    "    for i in MAITRISE:\n",
    "        if i in str(value):\n",
    "            dat[index]='MAITRISE'\n",
    "    if 'CERTIFICAT' in str(value):\n",
    "        dat[index]='CERTIFICAT'\n",
    "    if 'DOCTORAT' in str(value):\n",
    "        dat[index]='DOCTORAT'\n",
    "\n",
    "df[qualitative[4]] =  dat\n",
    "d = list(df[qualitative[4]])\n",
    "for index, value in enumerate(d):\n",
    "    if  str(value) not in Autres:\n",
    "        d[index]='Autres'\n",
    "df[qualitative[4]] =  d\n"
   ],
   "execution_count": 17,
   "outputs": []
  },
  {
   "cell_type": "code",
   "execution_count": 18,
   "id": "d5623f45",
   "metadata": {},
   "outputs": [],
   "source": [
    "b=[ 'date_naiss','mode_ent',\n",
    " 'corps_ent',\n",
    " 'poste_ent',\n",
    " 'lieu_af',\n",
    " 'motif_affect',\n",
    " 'fonction_af',\n",
    " 'service_af',\n",
    " 'direction_af',\n",
    " 'poste_act',\n",
    " 'job_act',\n",
    " 'design',\n",
    "  'date_ent']\n",
    "d=df.copy()\n",
    "df = d.drop(b,axis=1)"
   ]
  },
  {
   "cell_type": "code",
   "execution_count": 19,
   "id": "dda6c072",
   "metadata": {},
   "outputs": [],
   "source": [
    "categorical_cols =['sexe', 'sit_fam', 'nature', 'statut_act']\n",
    "data=df.copy()\n",
    "df=pd.get_dummies(data, columns=categorical_cols)"
   ]
  },
  {
   "cell_type": "markdown",
   "id": "6cc27370",
   "metadata": {
    "pycharm": {
     "name": "#%% md\n"
    }
   },
   "source": [
    "## log"
   ]
  },
  {
   "cell_type": "code",
   "source": [
    "numeric"
   ],
   "metadata": {
    "collapsed": false,
    "pycharm": {
     "name": "#%%\n"
    }
   },
   "execution_count": 20,
   "outputs": [
    {
     "data": {
      "text/plain": "['age',\n 'job_ok',\n 'nbre_enf',\n 'ann_dipl',\n 'ordre',\n 'annee_ent',\n 'date_ent',\n 'date_ps',\n 'dat_retraite',\n 'dt_echeance',\n 'tot_afct']"
     },
     "execution_count": 20,
     "metadata": {},
     "output_type": "execute_result"
    }
   ]
  },
  {
   "cell_type": "code",
   "source": [
    "df['log_age']=np.log(df['age']+1)\n",
    "df['log_job_ok']=np.log(df['job_ok']+1)\n",
    "df['log_nbre_enf']=np.log(df['nbre_enf']+1)\n",
    "df['log_ordre']=np.log(df['ordre']+1)\n",
    "df['log_annee_ent']=np.log(df['annee_ent']+1)\n",
    "df['log_date_ps']=np.log(df['date_ps']+1)\n",
    "df['log_dat_retraite']=np.log(df['dat_retraite']+1)\n",
    "df['log_dt_echeance']=np.log(df['dt_echeance']+1)\n",
    "df['log_tot_afct']=np.log(df['tot_afct']+1)"
   ],
   "metadata": {
    "collapsed": false,
    "pycharm": {
     "name": "#%%\n"
    }
   },
   "execution_count": 21,
   "outputs": []
  },
  {
   "cell_type": "markdown",
   "source": [
    "## Standardisation"
   ],
   "metadata": {
    "collapsed": false,
    "pycharm": {
     "name": "#%% md\n"
    }
   }
  },
  {
   "cell_type": "code",
   "execution_count": 22,
   "outputs": [],
   "source": [
    "df['std_age'] = (df['age'] - np.mean(df['age']))/np.std(df['age'])\n",
    "df['std_job_ok'] = (df['job_ok'] - np.mean(df['job_ok']))/np.std(df['job_ok'])\n",
    "df['std_nbre_enf'] = (df['nbre_enf'] - np.mean(df['nbre_enf']))/np.std(df['nbre_enf'])\n",
    "df['std_ordre'] = (df['ordre'] - np.mean(df['ordre']))/np.std(df['ordre'])\n",
    "df['std_annee_ent'] = (df['annee_ent'] - np.mean(df['annee_ent']))/np.std(df['annee_ent'])\n",
    "df['std_date_ps'] = (df['date_ps'] - np.mean(df['date_ps']))/np.std(df['date_ps'])\n",
    "df['std_dat_retraite'] = (df['dat_retraite'] - np.mean(df['dat_retraite']))/np.std(df['dat_retraite'])\n",
    "df['std_dt_echeance'] = (df['dt_echeance'] - np.mean(df['dt_echeance']))/np.std(df['dt_echeance'])\n",
    "df['std_tot_afct'] = (df['tot_afct'] - np.mean(df['tot_afct']))/np.std(df['tot_afct'])"
   ],
   "metadata": {
    "collapsed": false,
    "pycharm": {
     "name": "#%%\n"
    }
   }
  },
  {
   "cell_type": "code",
   "execution_count": 23,
   "outputs": [],
   "source": [
    "df.to_csv(r'data/preproce.csv',index=False)"
   ],
   "metadata": {
    "collapsed": false,
    "pycharm": {
     "name": "#%%\n"
    }
   }
  },
  {
   "cell_type": "code",
   "execution_count": 23,
   "outputs": [],
   "source": [],
   "metadata": {
    "collapsed": false,
    "pycharm": {
     "name": "#%%\n"
    }
   }
  },
  {
   "cell_type": "code",
   "execution_count": 23,
   "outputs": [],
   "source": [],
   "metadata": {
    "collapsed": false,
    "pycharm": {
     "name": "#%%\n"
    }
   }
  }
 ],
 "metadata": {
  "kernelspec": {
   "display_name": "Python 3 (ipykernel)",
   "language": "python",
   "name": "python3"
  },
  "language_info": {
   "codemirror_mode": {
    "name": "ipython",
    "version": 3
   },
   "file_extension": ".py",
   "mimetype": "text/x-python",
   "name": "python",
   "nbconvert_exporter": "python",
   "pygments_lexer": "ipython3",
   "version": "3.9.6"
  }
 },
 "nbformat": 4,
 "nbformat_minor": 5
}