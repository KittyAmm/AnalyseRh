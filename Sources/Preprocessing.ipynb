{
 "cells": [
  {
   "cell_type": "code",
   "execution_count": 1,
   "id": "d8bdd1e0",
   "metadata": {},
   "outputs": [],
   "source": [
    "%matplotlib inline\n",
    "import pandas as pd\n",
    "from scipy import stats\n",
    "import seaborn as sns\n",
    "\n",
    "import numpy as np\n",
    "from collections import Counter"
   ]
  },
  {
   "cell_type": "code",
   "execution_count": 63,
   "id": "615ffa22",
   "metadata": {},
   "outputs": [],
   "source": [
    "data=pd.read_csv(\"data/clean.csv\")"
   ]
  },
  {
   "cell_type": "code",
   "execution_count": 64,
   "id": "b08c48de",
   "metadata": {},
   "outputs": [],
   "source": [
    "df=data.copy()"
   ]
  },
  {
   "cell_type": "code",
   "execution_count": 65,
   "id": "f1aaaed6",
   "metadata": {},
   "outputs": [],
   "source": [
    "numeric = []\n",
    "qualitative= []\n",
    "\n",
    "for variable in df.columns.tolist():\n",
    "    if df.dtypes[variable] in ['float64','int64']:\n",
    "        numeric.append(variable)\n",
    "    else :\n",
    "        qualitative.append(variable)"
   ]
  },
  {
   "cell_type": "markdown",
   "id": "8c958dc8",
   "metadata": {},
   "source": [
    "##### Test de normalité"
   ]
  },
  {
   "cell_type": "code",
   "execution_count": 66,
   "id": "a989e55c",
   "metadata": {},
   "outputs": [],
   "source": [
    "def shapiro_test(x):\n",
    "    try :\n",
    "        res = stats.shapiro(x)\n",
    "    except :\n",
    "        return -1\n",
    "    alpha = 0.05\n",
    "\n",
    "    print(\"p = \",res.pvalue)\n",
    "\n",
    "    if res.pvalue < alpha:  # null hypothesis: x comes from a normal distribution\n",
    "\n",
    "        print(\"(shapiro)The null hypothesis can be rejected -> X ne possède pas une distribution normale\")\n",
    "\n",
    "    else:\n",
    "\n",
    "        print(\"(shapiro) The null hypothesis cannot be rejected -> X possède éventuellement une distribution normale\")\n",
    "\n",
    "    return res\n",
    "\n",
    "def omnibus_normaltest(x):\n",
    "    #test D'Agostino-Pearson\n",
    "    try :\n",
    "        k2, p = stats.normaltest(x)\n",
    "    except :\n",
    "        return -1\n",
    "    \n",
    "    alpha = 0.05\n",
    "\n",
    "    print(\"p = \",p)\n",
    "\n",
    "    if p < alpha:  # null hypothesis: x comes from a normal distribution\n",
    "\n",
    "        print(\"(normaltest) The null hypothesis can be rejected -> X ne possède pas une distribution normale\")\n",
    "\n",
    "    else:\n",
    "\n",
    "        print(\"(normaltest) The null hypothesis cannot be rejected -> X possède éventuellement une distribution normale\")\n",
    "\n",
    "    return [k2,p]"
   ]
  },
  {
   "cell_type": "markdown",
   "id": "14338d8e",
   "metadata": {},
   "source": [
    "## valeur missing"
   ]
  },
  {
   "cell_type": "code",
   "execution_count": 67,
   "id": "becc62b3",
   "metadata": {},
   "outputs": [
    {
     "data": {
      "text/html": [
       "<div>\n",
       "<style scoped>\n",
       "    .dataframe tbody tr th:only-of-type {\n",
       "        vertical-align: middle;\n",
       "    }\n",
       "\n",
       "    .dataframe tbody tr th {\n",
       "        vertical-align: top;\n",
       "    }\n",
       "\n",
       "    .dataframe thead th {\n",
       "        text-align: right;\n",
       "    }\n",
       "</style>\n",
       "<table border=\"1\" class=\"dataframe\">\n",
       "  <thead>\n",
       "    <tr style=\"text-align: right;\">\n",
       "      <th></th>\n",
       "      <th>variable</th>\n",
       "      <th>valeur_NA</th>\n",
       "      <th>Pourcentage_NA</th>\n",
       "      <th>type</th>\n",
       "    </tr>\n",
       "  </thead>\n",
       "  <tbody>\n",
       "    <tr>\n",
       "      <th>0</th>\n",
       "      <td>division_af</td>\n",
       "      <td>14744</td>\n",
       "      <td>95.49</td>\n",
       "      <td>object</td>\n",
       "    </tr>\n",
       "    <tr>\n",
       "      <th>1</th>\n",
       "      <td>fonction_af</td>\n",
       "      <td>10368</td>\n",
       "      <td>67.15</td>\n",
       "      <td>object</td>\n",
       "    </tr>\n",
       "    <tr>\n",
       "      <th>2</th>\n",
       "      <td>ann_dipl</td>\n",
       "      <td>8727</td>\n",
       "      <td>56.52</td>\n",
       "      <td>float64</td>\n",
       "    </tr>\n",
       "    <tr>\n",
       "      <th>3</th>\n",
       "      <td>date_ps</td>\n",
       "      <td>8524</td>\n",
       "      <td>55.2</td>\n",
       "      <td>float64</td>\n",
       "    </tr>\n",
       "    <tr>\n",
       "      <th>4</th>\n",
       "      <td>direction_af</td>\n",
       "      <td>8299</td>\n",
       "      <td>53.75</td>\n",
       "      <td>object</td>\n",
       "    </tr>\n",
       "    <tr>\n",
       "      <th>5</th>\n",
       "      <td>motif_affect</td>\n",
       "      <td>7925</td>\n",
       "      <td>51.32</td>\n",
       "      <td>object</td>\n",
       "    </tr>\n",
       "    <tr>\n",
       "      <th>6</th>\n",
       "      <td>service_af</td>\n",
       "      <td>6910</td>\n",
       "      <td>44.75</td>\n",
       "      <td>object</td>\n",
       "    </tr>\n",
       "    <tr>\n",
       "      <th>7</th>\n",
       "      <td>job_act</td>\n",
       "      <td>3040</td>\n",
       "      <td>19.69</td>\n",
       "      <td>object</td>\n",
       "    </tr>\n",
       "    <tr>\n",
       "      <th>8</th>\n",
       "      <td>dt_echeance</td>\n",
       "      <td>2958</td>\n",
       "      <td>19.16</td>\n",
       "      <td>float64</td>\n",
       "    </tr>\n",
       "    <tr>\n",
       "      <th>9</th>\n",
       "      <td>sit_fam</td>\n",
       "      <td>320</td>\n",
       "      <td>2.07</td>\n",
       "      <td>object</td>\n",
       "    </tr>\n",
       "    <tr>\n",
       "      <th>10</th>\n",
       "      <td>dat_retraite</td>\n",
       "      <td>84</td>\n",
       "      <td>0.54</td>\n",
       "      <td>float64</td>\n",
       "    </tr>\n",
       "    <tr>\n",
       "      <th>11</th>\n",
       "      <td>poste_ent</td>\n",
       "      <td>30</td>\n",
       "      <td>0.19</td>\n",
       "      <td>object</td>\n",
       "    </tr>\n",
       "    <tr>\n",
       "      <th>12</th>\n",
       "      <td>design</td>\n",
       "      <td>15</td>\n",
       "      <td>0.1</td>\n",
       "      <td>object</td>\n",
       "    </tr>\n",
       "    <tr>\n",
       "      <th>13</th>\n",
       "      <td>annee_ent</td>\n",
       "      <td>8</td>\n",
       "      <td>0.05</td>\n",
       "      <td>float64</td>\n",
       "    </tr>\n",
       "    <tr>\n",
       "      <th>14</th>\n",
       "      <td>mode_ent</td>\n",
       "      <td>7</td>\n",
       "      <td>0.05</td>\n",
       "      <td>object</td>\n",
       "    </tr>\n",
       "    <tr>\n",
       "      <th>15</th>\n",
       "      <td>corps_ent</td>\n",
       "      <td>4</td>\n",
       "      <td>0.03</td>\n",
       "      <td>object</td>\n",
       "    </tr>\n",
       "  </tbody>\n",
       "</table>\n",
       "</div>"
      ],
      "text/plain": [
       "        variable valeur_NA Pourcentage_NA     type\n",
       "0    division_af     14744          95.49   object\n",
       "1    fonction_af     10368          67.15   object\n",
       "2       ann_dipl      8727          56.52  float64\n",
       "3        date_ps      8524           55.2  float64\n",
       "4   direction_af      8299          53.75   object\n",
       "5   motif_affect      7925          51.32   object\n",
       "6     service_af      6910          44.75   object\n",
       "7        job_act      3040          19.69   object\n",
       "8    dt_echeance      2958          19.16  float64\n",
       "9        sit_fam       320           2.07   object\n",
       "10  dat_retraite        84           0.54  float64\n",
       "11     poste_ent        30           0.19   object\n",
       "12        design        15            0.1   object\n",
       "13     annee_ent         8           0.05  float64\n",
       "14      mode_ent         7           0.05   object\n",
       "15     corps_ent         4           0.03   object"
      ]
     },
     "execution_count": 67,
     "metadata": {},
     "output_type": "execute_result"
    }
   ],
   "source": [
    "def missing(df):\n",
    "    df_null = pd.DataFrame([df.isnull().sum(),round(100*df.isnull().sum()/ len(df), 2), df.dtypes]).transpose().reset_index()\n",
    "    df_null.columns = [\"variable\", \"valeur_NA\", \"Pourcentage_NA\", \"type\"]\n",
    "    df_null = df_null[df_null.valeur_NA != 0].sort_values(\"valeur_NA\",ascending = False).reset_index(drop = True)\n",
    "    return df_null\n",
    "missing(df)"
   ]
  },
  {
   "cell_type": "code",
   "execution_count": 68,
   "id": "5d8841a0",
   "metadata": {},
   "outputs": [
    {
     "data": {
      "text/plain": [
       "['division_af']"
      ]
     },
     "execution_count": 68,
     "metadata": {},
     "output_type": "execute_result"
    }
   ],
   "source": [
    "list(data.columns[data.isnull().sum() / len(data) > 0.75])"
   ]
  },
  {
   "cell_type": "code",
   "execution_count": 69,
   "id": "ed0f6792",
   "metadata": {},
   "outputs": [],
   "source": [
    "d=data.copy()\n",
    "df = d.drop('division_af',axis=1)"
   ]
  },
  {
   "cell_type": "code",
   "execution_count": 70,
   "id": "dc3c52b7",
   "metadata": {},
   "outputs": [
    {
     "data": {
      "text/html": [
       "<div>\n",
       "<style scoped>\n",
       "    .dataframe tbody tr th:only-of-type {\n",
       "        vertical-align: middle;\n",
       "    }\n",
       "\n",
       "    .dataframe tbody tr th {\n",
       "        vertical-align: top;\n",
       "    }\n",
       "\n",
       "    .dataframe thead th {\n",
       "        text-align: right;\n",
       "    }\n",
       "</style>\n",
       "<table border=\"1\" class=\"dataframe\">\n",
       "  <thead>\n",
       "    <tr style=\"text-align: right;\">\n",
       "      <th></th>\n",
       "      <th>variable</th>\n",
       "      <th>valeur_NA</th>\n",
       "      <th>Pourcentage_NA</th>\n",
       "      <th>type</th>\n",
       "    </tr>\n",
       "  </thead>\n",
       "  <tbody>\n",
       "    <tr>\n",
       "      <th>0</th>\n",
       "      <td>fonction_af</td>\n",
       "      <td>10065</td>\n",
       "      <td>67.15</td>\n",
       "      <td>object</td>\n",
       "    </tr>\n",
       "    <tr>\n",
       "      <th>1</th>\n",
       "      <td>ann_dipl</td>\n",
       "      <td>8399</td>\n",
       "      <td>56.03</td>\n",
       "      <td>float64</td>\n",
       "    </tr>\n",
       "    <tr>\n",
       "      <th>2</th>\n",
       "      <td>date_ps</td>\n",
       "      <td>8380</td>\n",
       "      <td>55.91</td>\n",
       "      <td>float64</td>\n",
       "    </tr>\n",
       "    <tr>\n",
       "      <th>3</th>\n",
       "      <td>direction_af</td>\n",
       "      <td>8194</td>\n",
       "      <td>54.67</td>\n",
       "      <td>object</td>\n",
       "    </tr>\n",
       "    <tr>\n",
       "      <th>4</th>\n",
       "      <td>motif_affect</td>\n",
       "      <td>7671</td>\n",
       "      <td>51.18</td>\n",
       "      <td>object</td>\n",
       "    </tr>\n",
       "    <tr>\n",
       "      <th>5</th>\n",
       "      <td>service_af</td>\n",
       "      <td>6794</td>\n",
       "      <td>45.33</td>\n",
       "      <td>object</td>\n",
       "    </tr>\n",
       "    <tr>\n",
       "      <th>6</th>\n",
       "      <td>job_act</td>\n",
       "      <td>2970</td>\n",
       "      <td>19.81</td>\n",
       "      <td>object</td>\n",
       "    </tr>\n",
       "    <tr>\n",
       "      <th>7</th>\n",
       "      <td>dt_echeance</td>\n",
       "      <td>2927</td>\n",
       "      <td>19.53</td>\n",
       "      <td>float64</td>\n",
       "    </tr>\n",
       "  </tbody>\n",
       "</table>\n",
       "</div>"
      ],
      "text/plain": [
       "       variable valeur_NA Pourcentage_NA     type\n",
       "0   fonction_af     10065          67.15   object\n",
       "1      ann_dipl      8399          56.03  float64\n",
       "2       date_ps      8380          55.91  float64\n",
       "3  direction_af      8194          54.67   object\n",
       "4  motif_affect      7671          51.18   object\n",
       "5    service_af      6794          45.33   object\n",
       "6       job_act      2970          19.81   object\n",
       "7   dt_echeance      2927          19.53  float64"
      ]
     },
     "execution_count": 70,
     "metadata": {},
     "output_type": "execute_result"
    }
   ],
   "source": [
    "d=list(data.columns[data.isnull().sum() / len(data) < 0.05])\n",
    "for i in list(d):\n",
    "    df = df.dropna(subset=[i], axis=0)\n",
    "missing(df)"
   ]
  },
  {
   "cell_type": "code",
   "execution_count": 78,
   "id": "24d60f15",
   "metadata": {},
   "outputs": [],
   "source": [
    "df['fonction_af'] = df['fonction_af'].fillna(df['fonction_af'].mode()[0])\n",
    "df['direction_af'] = df['direction_af'].fillna(df['direction_af'].mode()[0])\n",
    "df['motif_affect'] = df['motif_affect'].fillna(df['motif_affect'].mode()[0])\n",
    "df['service_af'] = df['service_af'].fillna(df['service_af'].mode()[0])\n",
    "df['job_act'] = df['job_act'].fillna(df['job_act'].mode()[0])\n",
    "\n",
    "d=list(df.columns[df.isnull().sum() / len(df) < 0.05])\n",
    "for i in list(d):\n",
    "    df = df.dropna(subset=[i], axis=0)\n",
    "    \n",
    "from sklearn.impute import KNNImputer\n",
    "df[numeric]=KNNImputer(missing_values=np.nan, n_neighbors=3).fit_transform(df[numeric])"
   ]
  },
  {
   "cell_type": "code",
   "execution_count": 79,
   "id": "fd766635",
   "metadata": {},
   "outputs": [
    {
     "data": {
      "text/html": [
       "<div>\n",
       "<style scoped>\n",
       "    .dataframe tbody tr th:only-of-type {\n",
       "        vertical-align: middle;\n",
       "    }\n",
       "\n",
       "    .dataframe tbody tr th {\n",
       "        vertical-align: top;\n",
       "    }\n",
       "\n",
       "    .dataframe thead th {\n",
       "        text-align: right;\n",
       "    }\n",
       "</style>\n",
       "<table border=\"1\" class=\"dataframe\">\n",
       "  <thead>\n",
       "    <tr style=\"text-align: right;\">\n",
       "      <th></th>\n",
       "      <th>variable</th>\n",
       "      <th>valeur_NA</th>\n",
       "      <th>Pourcentage_NA</th>\n",
       "      <th>type</th>\n",
       "    </tr>\n",
       "  </thead>\n",
       "  <tbody>\n",
       "  </tbody>\n",
       "</table>\n",
       "</div>"
      ],
      "text/plain": [
       "Empty DataFrame\n",
       "Columns: [variable, valeur_NA, Pourcentage_NA, type]\n",
       "Index: []"
      ]
     },
     "execution_count": 79,
     "metadata": {},
     "output_type": "execute_result"
    }
   ],
   "source": [
    "missing(df)"
   ]
  },
  {
   "cell_type": "markdown",
   "id": "eca2bf7c",
   "metadata": {},
   "source": [
    "## Valeur aberante"
   ]
  },
  {
   "cell_type": "code",
   "execution_count": 85,
   "id": "b5af4909",
   "metadata": {},
   "outputs": [
    {
     "data": {
      "text/plain": [
       "3135"
      ]
     },
     "execution_count": 85,
     "metadata": {},
     "output_type": "execute_result"
    }
   ],
   "source": [
    "# Outlier detection \n",
    "\n",
    "def detect_outliers(df,n,features):\n",
    "    \"\"\"\n",
    "    Takes a dataframe df of features and returns a list of the indices\n",
    "    corresponding to the observations containing more than n outliers according\n",
    "    to the Tukey method.\n",
    "    \"\"\"\n",
    "    outlier_indices = []\n",
    "    \n",
    "    # iterate over features(columns)\n",
    "    for col in features:\n",
    "        # 1st quartile (25%)\n",
    "        Q1 = np.percentile(df[col], 25)\n",
    "        # 3rd quartile (75%)\n",
    "        Q3 = np.percentile(df[col],75)\n",
    "        # Interquartile range (IQR)\n",
    "        IQR = Q3 - Q1\n",
    "        \n",
    "        # outlier step\n",
    "        outlier_step = 1.5 * IQR\n",
    "        \n",
    "        # Determine a list of indices of outliers for feature col\n",
    "        outlier_list_col = df[(df[col] < Q1 - outlier_step) | (df[col] > Q3 + outlier_step )].index\n",
    "        \n",
    "        # append the found outlier indices for col to the list of outlier indices \n",
    "        outlier_indices.extend(outlier_list_col)\n",
    "        \n",
    "    # select observations containing more than 2 outliers\n",
    "    outlier_indices = Counter(outlier_indices)        \n",
    "    multiple_outliers = list( k for k, v in outlier_indices.items() if v > n )\n",
    "    \n",
    "    return multiple_outliers   \n",
    "\n",
    "Outliers_to_drop = detect_outliers(df,0,numeric)\n",
    "# df.drop(Outliers_to_drop,0,inplace=True)\n",
    "len(Outliers_to_drop)"
   ]
  },
  {
   "cell_type": "markdown",
   "id": "eaf6aa57",
   "metadata": {},
   "source": [
    "## Teste de normalite "
   ]
  },
  {
   "cell_type": "code",
   "execution_count": 86,
   "id": "14fccdcf",
   "metadata": {},
   "outputs": [
    {
     "name": "stdout",
     "output_type": "stream",
     "text": [
      "age\n",
      "Statistics=0.975, p=0.000\n",
      "Sample does not look Gaussian (reject H0)\n",
      "job_ok\n",
      "Statistics=0.093, p=0.000\n",
      "Sample does not look Gaussian (reject H0)\n",
      "nbre_enf\n",
      "Statistics=0.888, p=0.000\n",
      "Sample does not look Gaussian (reject H0)\n",
      "ann_dipl\n",
      "Statistics=0.092, p=0.000\n",
      "Sample does not look Gaussian (reject H0)\n",
      "ordre\n",
      "Statistics=0.845, p=0.000\n",
      "Sample does not look Gaussian (reject H0)\n",
      "annee_ent\n",
      "Statistics=0.885, p=0.000\n",
      "Sample does not look Gaussian (reject H0)\n",
      "date_ent\n",
      "Statistics=0.882, p=0.000\n",
      "Sample does not look Gaussian (reject H0)\n",
      "date_ps\n",
      "Statistics=0.868, p=0.000\n",
      "Sample does not look Gaussian (reject H0)\n",
      "dat_retraite\n",
      "Statistics=0.978, p=0.000\n",
      "Sample does not look Gaussian (reject H0)\n",
      "dt_echeance\n",
      "Statistics=0.770, p=0.000\n",
      "Sample does not look Gaussian (reject H0)\n",
      "tot_afct\n",
      "Statistics=0.933, p=0.000\n",
      "Sample does not look Gaussian (reject H0)\n"
     ]
    },
    {
     "name": "stderr",
     "output_type": "stream",
     "text": [
      "/home/asina/anaconda3/lib/python3.8/site-packages/scipy/stats/morestats.py:1681: UserWarning: p-value may not be accurate for N > 5000.\n",
      "  warnings.warn(\"p-value may not be accurate for N > 5000.\")\n"
     ]
    }
   ],
   "source": [
    "# Shapiro-Wilk Test\n",
    "from scipy.stats import shapiro\n",
    "def Shapiro(d):\n",
    "    stat, p = shapiro(d)\n",
    "    print('Statistics=%.3f, p=%.3f' % (stat, p))\n",
    "    # interpret\n",
    "    alpha = 0.05\n",
    "    if p > alpha:\n",
    "        print('Sample looks Gaussian (fail to reject H0)')\n",
    "    else:\n",
    "        print('Sample does not look Gaussian (reject H0)')\n",
    "    \n",
    "for i in numeric:\n",
    "    print(i)\n",
    "    Shapiro(df[i])"
   ]
  },
  {
   "cell_type": "code",
   "execution_count": 87,
   "id": "9faf0636",
   "metadata": {},
   "outputs": [
    {
     "name": "stdout",
     "output_type": "stream",
     "text": [
      "Statistics=658.337, p=0.000\n",
      "Sample does not look Gaussian (reject H0)\n",
      "Statistics=20449.467, p=0.000\n",
      "Sample does not look Gaussian (reject H0)\n",
      "Statistics=2866.628, p=0.000\n",
      "Sample does not look Gaussian (reject H0)\n",
      "Statistics=39204.476, p=0.000\n",
      "Sample does not look Gaussian (reject H0)\n",
      "Statistics=3761.729, p=0.000\n",
      "Sample does not look Gaussian (reject H0)\n",
      "Statistics=2254.635, p=0.000\n",
      "Sample does not look Gaussian (reject H0)\n",
      "Statistics=2329.172, p=0.000\n",
      "Sample does not look Gaussian (reject H0)\n",
      "Statistics=5039.294, p=0.000\n",
      "Sample does not look Gaussian (reject H0)\n",
      "Statistics=376.801, p=0.000\n",
      "Sample does not look Gaussian (reject H0)\n",
      "Statistics=6658.081, p=0.000\n",
      "Sample does not look Gaussian (reject H0)\n",
      "Statistics=2565.770, p=0.000\n",
      "Sample does not look Gaussian (reject H0)\n"
     ]
    }
   ],
   "source": [
    "from scipy.stats import normaltest\n",
    "def agostino_test(d):\n",
    "    stat, p = normaltest(d)\n",
    "    print('Statistics=%.3f, p=%.3f' % (stat, p))\n",
    "    # interpret\n",
    "    alpha = 0.05\n",
    "    if p > alpha:\n",
    "        print('Sample looks Gaussian (fail to reject H0)')\n",
    "    else:\n",
    "        print('Sample does not look Gaussian (reject H0)')\n",
    "    \n",
    "for i in numeric:\n",
    "    agostino_test(df[i])"
   ]
  },
  {
   "cell_type": "code",
   "execution_count": 88,
   "id": "6cea7555",
   "metadata": {},
   "outputs": [
    {
     "name": "stdout",
     "output_type": "stream",
     "text": [
      "\n",
      " age\n",
      "Statistics=0.981, p=0.000\n",
      "Sample does not look Gaussian (reject H0)\n",
      "\n",
      " job_ok\n",
      "Statistics=nan, p=1.000\n",
      "Sample looks Gaussian (fail to reject H0)\n",
      "\n",
      " nbre_enf\n",
      "Statistics=nan, p=1.000\n",
      "Sample looks Gaussian (fail to reject H0)\n",
      "\n",
      " ann_dipl\n",
      "Statistics=0.020, p=0.000\n",
      "Sample does not look Gaussian (reject H0)\n",
      "\n",
      " ordre\n",
      "Statistics=0.925, p=0.000\n",
      "Sample does not look Gaussian (reject H0)\n",
      "\n",
      " annee_ent\n",
      "Statistics=0.867, p=0.000\n",
      "Sample does not look Gaussian (reject H0)\n",
      "\n",
      " date_ent\n",
      "Statistics=0.819, p=0.000\n",
      "Sample does not look Gaussian (reject H0)\n",
      "\n",
      " date_ps\n",
      "Statistics=0.852, p=0.000\n",
      "Sample does not look Gaussian (reject H0)\n",
      "\n",
      " dat_retraite\n",
      "Statistics=0.971, p=0.000\n",
      "Sample does not look Gaussian (reject H0)\n",
      "\n",
      " dt_echeance\n",
      "Statistics=0.507, p=0.000\n",
      "Sample does not look Gaussian (reject H0)\n",
      "\n",
      " tot_afct\n",
      "Statistics=nan, p=1.000\n",
      "Sample looks Gaussian (fail to reject H0)\n"
     ]
    },
    {
     "name": "stderr",
     "output_type": "stream",
     "text": [
      "/home/asina/anaconda3/lib/python3.8/site-packages/pandas/core/arraylike.py:364: RuntimeWarning: divide by zero encountered in log\n",
      "  result = getattr(ufunc, method)(*inputs, **kwargs)\n"
     ]
    }
   ],
   "source": [
    "p_values = {}\n",
    "for col in numeric:\n",
    "    print(\"\\n\",col)\n",
    "    Shapiro(np.log(df[col].dropna()))"
   ]
  },
  {
   "cell_type": "markdown",
   "id": "96eb79a7",
   "metadata": {},
   "source": [
    "## log"
   ]
  },
  {
   "cell_type": "markdown",
   "id": "157d1caf",
   "metadata": {},
   "source": [
    "## Stendardisation"
   ]
  },
  {
   "cell_type": "code",
   "execution_count": 90,
   "id": "d5623f45",
   "metadata": {},
   "outputs": [],
   "source": [
    "df.to_csv(r'data/preproce.csv',index=False)"
   ]
  },
  {
   "cell_type": "code",
   "execution_count": null,
   "id": "dda6c072",
   "metadata": {},
   "outputs": [],
   "source": []
  },
  {
   "cell_type": "code",
   "execution_count": null,
   "id": "6cc27370",
   "metadata": {},
   "outputs": [],
   "source": []
  }
 ],
 "metadata": {
  "kernelspec": {
   "display_name": "Python 3 (ipykernel)",
   "language": "python",
   "name": "python3"
  },
  "language_info": {
   "codemirror_mode": {
    "name": "ipython",
    "version": 3
   },
   "file_extension": ".py",
   "mimetype": "text/x-python",
   "name": "python",
   "nbconvert_exporter": "python",
   "pygments_lexer": "ipython3",
   "version": "3.8.8"
  }
 },
 "nbformat": 4,
 "nbformat_minor": 5
}
