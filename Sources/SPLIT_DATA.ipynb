{
 "cells": [
  {
   "cell_type": "markdown",
   "id": "174adb93",
   "metadata": {},
   "source": [
    "<h1><center>SPLIT DATA</center></h1>"
   ]
  },
  {
   "cell_type": "code",
   "execution_count": 32,
   "id": "aa503a5b",
   "metadata": {},
   "outputs": [],
   "source": [
    "import pandas as pd\n",
    "import numpy as np\n",
    "import matplotlib.pyplot as plt\n",
    "import seaborn as sns\n",
    "from scipy.stats import chi2_contingency\n",
    "from sklearn.model_selection import train_test_split"
   ]
  },
  {
   "cell_type": "code",
   "execution_count": 33,
   "id": "dab68bad",
   "metadata": {},
   "outputs": [],
   "source": [
    "data = pd.read_csv(\"data/preproce.csv\")\n"
   ]
  },
  {
   "cell_type": "code",
   "execution_count": 34,
   "id": "fe32fa60",
   "metadata": {},
   "outputs": [],
   "source": [
    "df = data.copy()"
   ]
  },
  {
   "cell_type": "markdown",
   "id": "e1c12b21",
   "metadata": {},
   "source": [
    "## Split : Train : 75% Val:15% Test:10% "
   ]
  },
  {
   "cell_type": "code",
   "execution_count": 35,
   "id": "997edb44",
   "metadata": {},
   "outputs": [],
   "source": [
    "train_val,test=train_test_split(df,test_size=0.1,random_state=0)"
   ]
  },
  {
   "cell_type": "code",
   "execution_count": 36,
   "id": "1d9280e8",
   "metadata": {},
   "outputs": [
    {
     "data": {
      "text/plain": "(11993, 44)"
     },
     "execution_count": 36,
     "metadata": {},
     "output_type": "execute_result"
    }
   ],
   "source": [
    "train_val.shape"
   ]
  },
  {
   "cell_type": "code",
   "execution_count": 37,
   "id": "2e57715c",
   "metadata": {},
   "outputs": [],
   "source": [
    "train,val=train_test_split(train_val,test_size=0.3,random_state=0)"
   ]
  },
  {
   "cell_type": "code",
   "execution_count": 38,
   "id": "9333913e",
   "metadata": {},
   "outputs": [
    {
     "data": {
      "text/plain": "(8395, 44)"
     },
     "execution_count": 38,
     "metadata": {},
     "output_type": "execute_result"
    }
   ],
   "source": [
    "train.shape"
   ]
  },
  {
   "cell_type": "code",
   "execution_count": 39,
   "id": "02b78c8f",
   "metadata": {},
   "outputs": [
    {
     "data": {
      "text/plain": "(3598, 44)"
     },
     "execution_count": 39,
     "metadata": {},
     "output_type": "execute_result"
    }
   ],
   "source": [
    "val.shape"
   ]
  },
  {
   "cell_type": "code",
   "execution_count": 40,
   "id": "69d7d817",
   "metadata": {},
   "outputs": [],
   "source": [
    "numeric = []\n",
    "qualitative= []\n",
    "\n",
    "for variable in data.columns.tolist():\n",
    "    if data.dtypes[variable] in ['float64','int64']:\n",
    "        numeric.append(variable)\n",
    "    else :\n",
    "        qualitative.append(variable)"
   ]
  },
  {
   "cell_type": "markdown",
   "id": "359a3580",
   "metadata": {},
   "source": [
    "<h3>FUNCTION</h3>"
   ]
  },
  {
   "cell_type": "code",
   "execution_count": 41,
   "id": "8dd5925a",
   "metadata": {},
   "outputs": [],
   "source": [
    "def processPerLevels(data,list_feature):\n",
    "    catHead = ['Feature', 'Level', 'Count', 'Frequence %']\n",
    "    count = []\n",
    "    freq = []\n",
    "    feature_all = []\n",
    "    list_level_all = []\n",
    "    for feature in list_feature:\n",
    "        \n",
    "        list_level = data[feature].unique().tolist()\n",
    "\n",
    "        len_level = len(list_level)\n",
    "\n",
    "        for level in list_level:\n",
    "            count_level = len(data.loc[data[feature] == level])\n",
    "            count.append(count_level)\n",
    "            freq_level = count_level * 100/len(data)\n",
    "            freq.append(round(freq_level, 2))\n",
    "            feature_all.append(feature)\n",
    "            list_level_all.append(level)\n",
    "    \n",
    "    resultDf = pd.DataFrame(columns=catHead)\n",
    "    resultDf['Level'] = list_level_all\n",
    "    resultDf['Feature'] = feature_all\n",
    "    resultDf['Count'] = count\n",
    "    resultDf['Frequence %'] = freq\n",
    "    resultDf.set_index(['Feature', 'Level'], inplace=True)\n",
    "    return resultDf"
   ]
  },
  {
   "cell_type": "code",
   "execution_count": 29,
   "id": "18e89234",
   "metadata": {},
   "outputs": [],
   "source": [
    "# var_qualitative = ['Town', 'Type of Property']\n",
    "# processPerLevels(df,var_qualitative)"
   ]
  },
  {
   "cell_type": "code",
   "execution_count": 42,
   "id": "b35feeab",
   "metadata": {},
   "outputs": [
    {
     "data": {
      "text/plain": "                        Count  Frequence %\nFeature      Level                        \nage          38.000000    374         4.46\n             44.000000    483         5.75\n             49.000000    304         3.62\n             40.000000    503         5.99\n             47.000000    477         5.68\n...                       ...          ...\nstd_tot_afct 2.334224      54         0.64\n             2.983440      48         0.57\n             2.658832      17         0.20\n             5.255695      33         0.39\n             4.606479      11         0.13\n\n[640 rows x 2 columns]",
      "text/html": "<div>\n<style scoped>\n    .dataframe tbody tr th:only-of-type {\n        vertical-align: middle;\n    }\n\n    .dataframe tbody tr th {\n        vertical-align: top;\n    }\n\n    .dataframe thead th {\n        text-align: right;\n    }\n</style>\n<table border=\"1\" class=\"dataframe\">\n  <thead>\n    <tr style=\"text-align: right;\">\n      <th></th>\n      <th></th>\n      <th>Count</th>\n      <th>Frequence %</th>\n    </tr>\n    <tr>\n      <th>Feature</th>\n      <th>Level</th>\n      <th></th>\n      <th></th>\n    </tr>\n  </thead>\n  <tbody>\n    <tr>\n      <th rowspan=\"5\" valign=\"top\">age</th>\n      <th>38.000000</th>\n      <td>374</td>\n      <td>4.46</td>\n    </tr>\n    <tr>\n      <th>44.000000</th>\n      <td>483</td>\n      <td>5.75</td>\n    </tr>\n    <tr>\n      <th>49.000000</th>\n      <td>304</td>\n      <td>3.62</td>\n    </tr>\n    <tr>\n      <th>40.000000</th>\n      <td>503</td>\n      <td>5.99</td>\n    </tr>\n    <tr>\n      <th>47.000000</th>\n      <td>477</td>\n      <td>5.68</td>\n    </tr>\n    <tr>\n      <th>...</th>\n      <th>...</th>\n      <td>...</td>\n      <td>...</td>\n    </tr>\n    <tr>\n      <th rowspan=\"5\" valign=\"top\">std_tot_afct</th>\n      <th>2.334224</th>\n      <td>54</td>\n      <td>0.64</td>\n    </tr>\n    <tr>\n      <th>2.983440</th>\n      <td>48</td>\n      <td>0.57</td>\n    </tr>\n    <tr>\n      <th>2.658832</th>\n      <td>17</td>\n      <td>0.20</td>\n    </tr>\n    <tr>\n      <th>5.255695</th>\n      <td>33</td>\n      <td>0.39</td>\n    </tr>\n    <tr>\n      <th>4.606479</th>\n      <td>11</td>\n      <td>0.13</td>\n    </tr>\n  </tbody>\n</table>\n<p>640 rows × 2 columns</p>\n</div>"
     },
     "execution_count": 42,
     "metadata": {},
     "output_type": "execute_result"
    }
   ],
   "source": [
    "processPerLevels(train,numeric)"
   ]
  },
  {
   "cell_type": "code",
   "execution_count": 43,
   "id": "5e2d065d",
   "metadata": {},
   "outputs": [],
   "source": [
    "train.to_csv(r'data/train.csv',index=False)\n",
    "test.to_csv(r'data/test.csv',index=False)\n",
    "val.to_csv(r'data/val.csv',index=False)"
   ]
  },
  {
   "cell_type": "code",
   "execution_count": 31,
   "id": "b46d4d1d",
   "metadata": {},
   "outputs": [],
   "source": []
  }
 ],
 "metadata": {
  "kernelspec": {
   "display_name": "Python 3 (ipykernel)",
   "language": "python",
   "name": "python3"
  },
  "language_info": {
   "codemirror_mode": {
    "name": "ipython",
    "version": 3
   },
   "file_extension": ".py",
   "mimetype": "text/x-python",
   "name": "python",
   "nbconvert_exporter": "python",
   "pygments_lexer": "ipython3",
   "version": "3.8.8"
  }
 },
 "nbformat": 4,
 "nbformat_minor": 5
}