{
 "cells": [
  {
   "cell_type": "code",
   "execution_count": 232,
   "id": "8b9441a6",
   "metadata": {},
   "outputs": [],
   "source": [
    "import pandas as pd\n",
    "import numpy as np\n",
    "import matplotlib.pyplot as plt\n",
    "import seaborn as sns\n",
    "from plotly.subplots import make_subplots\n",
    "import plotly.graph_objects as go\n",
    "import plotly.express as px"
   ]
  },
  {
   "cell_type": "code",
   "execution_count": 233,
   "id": "1082d4b6",
   "metadata": {},
   "outputs": [
    {
     "data": {
      "text/plain": "    num_im      sexe  date_naiss                      age   sit_fam  job_ok  \\\n0  275 850  MASCULIN  26/07/1974  44 ans 05 mois 01 jours  MARIE(E)       0   \n1  318 069  MASCULIN  11/06/1979  39 ans 06 mois 16 jours  MARIE(E)       1   \n2  318 069  MASCULIN  11/06/1979  39 ans 06 mois 16 jours  MARIE(E)       1   \n3  318 069  MASCULIN  11/06/1979  39 ans 06 mois 16 jours  MARIE(E)       1   \n4  318 069  MASCULIN  11/06/1979  39 ans 06 mois 16 jours  MARIE(E)       1   \n\n   nbre_enf      nature                                             design  \\\n0         1     DIPLOME         CERTIFICAT D'ETUDES PRIMAIRES ELEMENTAIRES   \n1         2  CERTIFICAT                           GRAPHISTE ET MAQUETTISTE   \n2         2     DIPLOME  DIPLOME D'INGENIEUR EN GENIE ELECTRONIQUE MANAGER   \n3         2     DIPLOME    DIPLOME DE TECHNICIEN SUPERIEUR EN ELECTRONIQUE   \n4         2  CERTIFICAT                   ADMINISTRATION RESEAUX-AUF JREWS   \n\n   ann_dipl  ...  division_af service_af  direction_af date_ps dat_retraite  \\\n0       NaN  ...          NaN        SOC           DSE     NaN   2034-07-26   \n1       NaN  ...          NaN        SOC           DSE     NaN   2039-06-11   \n2    2008.0  ...          NaN        SOC           DSE     NaN   2039-06-11   \n3    2000.0  ...          NaN        SOC           DSE     NaN   2039-06-11   \n4       NaN  ...          NaN        SOC           DSE     NaN   2039-06-11   \n\n  poste_act                    job_act dt_echeance tot_afct   statut_act  \n0      22TP                    ECOREUR  2019-02-09        3  EN FONCTION  \n1      22TP  CHEF DE SITE INFORMATIQUE  2013-12-22        1  EN FONCTION  \n2      22TP  CHEF DE SITE INFORMATIQUE  2013-12-22        1  EN FONCTION  \n3      22TP  CHEF DE SITE INFORMATIQUE  2013-12-22        1  EN FONCTION  \n4      22TP  CHEF DE SITE INFORMATIQUE  2013-12-22        1  EN FONCTION  \n\n[5 rows x 29 columns]",
      "text/html": "<div>\n<style scoped>\n    .dataframe tbody tr th:only-of-type {\n        vertical-align: middle;\n    }\n\n    .dataframe tbody tr th {\n        vertical-align: top;\n    }\n\n    .dataframe thead th {\n        text-align: right;\n    }\n</style>\n<table border=\"1\" class=\"dataframe\">\n  <thead>\n    <tr style=\"text-align: right;\">\n      <th></th>\n      <th>num_im</th>\n      <th>sexe</th>\n      <th>date_naiss</th>\n      <th>age</th>\n      <th>sit_fam</th>\n      <th>job_ok</th>\n      <th>nbre_enf</th>\n      <th>nature</th>\n      <th>design</th>\n      <th>ann_dipl</th>\n      <th>...</th>\n      <th>division_af</th>\n      <th>service_af</th>\n      <th>direction_af</th>\n      <th>date_ps</th>\n      <th>dat_retraite</th>\n      <th>poste_act</th>\n      <th>job_act</th>\n      <th>dt_echeance</th>\n      <th>tot_afct</th>\n      <th>statut_act</th>\n    </tr>\n  </thead>\n  <tbody>\n    <tr>\n      <th>0</th>\n      <td>275 850</td>\n      <td>MASCULIN</td>\n      <td>26/07/1974</td>\n      <td>44 ans 05 mois 01 jours</td>\n      <td>MARIE(E)</td>\n      <td>0</td>\n      <td>1</td>\n      <td>DIPLOME</td>\n      <td>CERTIFICAT D'ETUDES PRIMAIRES ELEMENTAIRES</td>\n      <td>NaN</td>\n      <td>...</td>\n      <td>NaN</td>\n      <td>SOC</td>\n      <td>DSE</td>\n      <td>NaN</td>\n      <td>2034-07-26</td>\n      <td>22TP</td>\n      <td>ECOREUR</td>\n      <td>2019-02-09</td>\n      <td>3</td>\n      <td>EN FONCTION</td>\n    </tr>\n    <tr>\n      <th>1</th>\n      <td>318 069</td>\n      <td>MASCULIN</td>\n      <td>11/06/1979</td>\n      <td>39 ans 06 mois 16 jours</td>\n      <td>MARIE(E)</td>\n      <td>1</td>\n      <td>2</td>\n      <td>CERTIFICAT</td>\n      <td>GRAPHISTE ET MAQUETTISTE</td>\n      <td>NaN</td>\n      <td>...</td>\n      <td>NaN</td>\n      <td>SOC</td>\n      <td>DSE</td>\n      <td>NaN</td>\n      <td>2039-06-11</td>\n      <td>22TP</td>\n      <td>CHEF DE SITE INFORMATIQUE</td>\n      <td>2013-12-22</td>\n      <td>1</td>\n      <td>EN FONCTION</td>\n    </tr>\n    <tr>\n      <th>2</th>\n      <td>318 069</td>\n      <td>MASCULIN</td>\n      <td>11/06/1979</td>\n      <td>39 ans 06 mois 16 jours</td>\n      <td>MARIE(E)</td>\n      <td>1</td>\n      <td>2</td>\n      <td>DIPLOME</td>\n      <td>DIPLOME D'INGENIEUR EN GENIE ELECTRONIQUE MANAGER</td>\n      <td>2008.0</td>\n      <td>...</td>\n      <td>NaN</td>\n      <td>SOC</td>\n      <td>DSE</td>\n      <td>NaN</td>\n      <td>2039-06-11</td>\n      <td>22TP</td>\n      <td>CHEF DE SITE INFORMATIQUE</td>\n      <td>2013-12-22</td>\n      <td>1</td>\n      <td>EN FONCTION</td>\n    </tr>\n    <tr>\n      <th>3</th>\n      <td>318 069</td>\n      <td>MASCULIN</td>\n      <td>11/06/1979</td>\n      <td>39 ans 06 mois 16 jours</td>\n      <td>MARIE(E)</td>\n      <td>1</td>\n      <td>2</td>\n      <td>DIPLOME</td>\n      <td>DIPLOME DE TECHNICIEN SUPERIEUR EN ELECTRONIQUE</td>\n      <td>2000.0</td>\n      <td>...</td>\n      <td>NaN</td>\n      <td>SOC</td>\n      <td>DSE</td>\n      <td>NaN</td>\n      <td>2039-06-11</td>\n      <td>22TP</td>\n      <td>CHEF DE SITE INFORMATIQUE</td>\n      <td>2013-12-22</td>\n      <td>1</td>\n      <td>EN FONCTION</td>\n    </tr>\n    <tr>\n      <th>4</th>\n      <td>318 069</td>\n      <td>MASCULIN</td>\n      <td>11/06/1979</td>\n      <td>39 ans 06 mois 16 jours</td>\n      <td>MARIE(E)</td>\n      <td>1</td>\n      <td>2</td>\n      <td>CERTIFICAT</td>\n      <td>ADMINISTRATION RESEAUX-AUF JREWS</td>\n      <td>NaN</td>\n      <td>...</td>\n      <td>NaN</td>\n      <td>SOC</td>\n      <td>DSE</td>\n      <td>NaN</td>\n      <td>2039-06-11</td>\n      <td>22TP</td>\n      <td>CHEF DE SITE INFORMATIQUE</td>\n      <td>2013-12-22</td>\n      <td>1</td>\n      <td>EN FONCTION</td>\n    </tr>\n  </tbody>\n</table>\n<p>5 rows × 29 columns</p>\n</div>"
     },
     "execution_count": 233,
     "metadata": {},
     "output_type": "execute_result"
    }
   ],
   "source": [
    "data=pd.read_csv(\"data/rhdata.csv\")\n",
    "data.head()"
   ]
  },
  {
   "cell_type": "code",
   "execution_count": 262,
   "id": "98d77ea5",
   "metadata": {},
   "outputs": [],
   "source": [
    "df = data.copy()\n",
    "qualitative = []\n",
    "quantitative = []\n",
    "\n",
    "for variable in df.columns.tolist():\n",
    "    if df.dtypes[variable] in ['float64', 'int64']:\n",
    "        quantitative.append(variable)\n",
    "    else :\n",
    "        qualitative.append(variable)"
   ]
  },
  {
   "cell_type": "markdown",
   "id": "96b88294",
   "metadata": {},
   "source": [
    "### qualitative"
   ]
  },
  {
   "cell_type": "code",
   "execution_count": 263,
   "id": "c2c81bfd",
   "metadata": {
    "pycharm": {
     "name": "#%%\n"
    }
   },
   "outputs": [
    {
     "data": {
      "text/plain": "['num_im',\n 'sexe',\n 'date_naiss',\n 'age',\n 'sit_fam',\n 'nature',\n 'design',\n 'mode_ent',\n 'date_ent',\n 'corps_ent',\n 'poste_ent',\n 'lieu_af',\n 'motif_affect',\n 'fonction_af',\n 'division_af',\n 'service_af',\n 'direction_af',\n 'date_ps',\n 'dat_retraite',\n 'poste_act',\n 'job_act',\n 'dt_echeance',\n 'statut_act']"
     },
     "execution_count": 263,
     "metadata": {},
     "output_type": "execute_result"
    }
   ],
   "source": [
    "qualitative"
   ]
  },
  {
   "cell_type": "markdown",
   "id": "3e742a8b",
   "metadata": {},
   "source": [
    "### quantitative"
   ]
  },
  {
   "cell_type": "code",
   "execution_count": 264,
   "id": "e4c2dc0f",
   "metadata": {
    "pycharm": {
     "name": "#%%\n"
    }
   },
   "outputs": [
    {
     "data": {
      "text/plain": "['job_ok', 'nbre_enf', 'ann_dipl', 'ordre', 'annee_ent', 'tot_afct']"
     },
     "execution_count": 264,
     "metadata": {},
     "output_type": "execute_result"
    }
   ],
   "source": [
    "quantitative"
   ]
  },
  {
   "cell_type": "code",
   "execution_count": 237,
   "id": "870f70b1",
   "metadata": {},
   "outputs": [
    {
     "data": {
      "text/plain": "array(['275 850', '318 069', '275 855', ..., '353 660', '402 429',\n       '433 890'], dtype=object)"
     },
     "execution_count": 237,
     "metadata": {},
     "output_type": "execute_result"
    }
   ],
   "source": [
    "#num_im\n",
    "df[qualitative[0]].unique()"
   ]
  },
  {
   "cell_type": "code",
   "execution_count": 238,
   "id": "d0caba64",
   "metadata": {},
   "outputs": [
    {
     "data": {
      "text/plain": "array(['MASCULIN', 'FEMININ'], dtype=object)"
     },
     "execution_count": 238,
     "metadata": {},
     "output_type": "execute_result"
    }
   ],
   "source": [
    "#sexe\n",
    "df[qualitative[1]].unique()"
   ]
  },
  {
   "cell_type": "code",
   "execution_count": 239,
   "id": "0a14c53b",
   "metadata": {},
   "outputs": [
    {
     "data": {
      "text/plain": "array(['26/07/1974', '11/06/1979', '07/05/1970', ..., '24/04/1974',\n       '17/05/1991', '06/01/1981'], dtype=object)"
     },
     "execution_count": 239,
     "metadata": {},
     "output_type": "execute_result"
    }
   ],
   "source": [
    "#date_naiss\n",
    "df[qualitative[2]].unique()"
   ]
  },
  {
   "cell_type": "code",
   "execution_count": 240,
   "id": "6062e4a9",
   "metadata": {
    "pycharm": {
     "name": "#%%\n"
    }
   },
   "outputs": [
    {
     "data": {
      "text/plain": "array(['44 ans 05 mois 01 jours', '39 ans 06 mois 16 jours',\n       '48 ans 07 mois 20 jours', ..., '46 ans 04 mois 04 jours',\n       '29 ans 03 mois 11 jours', '39 ans 07 mois 20 jours'], dtype=object)"
     },
     "execution_count": 240,
     "metadata": {},
     "output_type": "execute_result"
    }
   ],
   "source": [
    "#age\n",
    "df[qualitative[3]].unique()"
   ]
  },
  {
   "cell_type": "code",
   "execution_count": 265,
   "id": "3878d57f",
   "metadata": {},
   "outputs": [],
   "source": [
    "#age\n",
    "import re\n",
    "d=df[qualitative[3]]\n",
    "d=list(d)\n",
    "\n",
    "for index, value in enumerate(d):\n",
    "        numbers = [float(s) for s in re.findall(r'-?\\d+\\.?\\d*', value)]\n",
    "        d[index]=numbers[0]\n",
    "\n",
    "df[qualitative[3]] = [float(v) for v in d]"
   ]
  },
  {
   "cell_type": "code",
   "execution_count": 242,
   "id": "5c900917",
   "metadata": {},
   "outputs": [
    {
     "data": {
      "text/plain": "array(['MARIE(E)', 'DIVORCE(E)', 'CELIBATAIRE', 'VEUF(VE)', nan],\n      dtype=object)"
     },
     "execution_count": 242,
     "metadata": {},
     "output_type": "execute_result"
    }
   ],
   "source": [
    "#sit_fam\n",
    "df[qualitative[4]].unique()"
   ]
  },
  {
   "cell_type": "code",
   "execution_count": 243,
   "id": "1d1c0cb2",
   "metadata": {},
   "outputs": [
    {
     "data": {
      "text/plain": "array(['DIPLOME', 'CERTIFICAT', 'FORMATION', 'ATTESTATION',\n       'APTITUDE PROFESSIONNEL', 'APTITUDE PROFESSIONNELLE'], dtype=object)"
     },
     "execution_count": 243,
     "metadata": {},
     "output_type": "execute_result"
    }
   ],
   "source": [
    "#nature\n",
    "df[qualitative[5]].unique()"
   ]
  },
  {
   "cell_type": "code",
   "execution_count": 244,
   "id": "b3c6b54b",
   "metadata": {},
   "outputs": [
    {
     "data": {
      "text/plain": "array([\"CERTIFICAT D'ETUDES PRIMAIRES ELEMENTAIRES\",\n       'GRAPHISTE ET MAQUETTISTE',\n       \"DIPLOME D'INGENIEUR EN GENIE ELECTRONIQUE MANAGER\", ...,\n       'MASTER 1', 'LICENCE EN ECONOMIE-GESTION',\n       'MASTER EN CONTROLE DE GESTION ET AUDIT OPERATIONNEL'],\n      dtype=object)"
     },
     "execution_count": 244,
     "metadata": {},
     "output_type": "execute_result"
    }
   ],
   "source": [
    "#design\n",
    "df[qualitative[6]].unique()"
   ]
  },
  {
   "cell_type": "code",
   "execution_count": 245,
   "id": "11afa436",
   "metadata": {},
   "outputs": [
    {
     "data": {
      "text/plain": "array(['CONCOURS DIRECT', \"CONTRAT D'ENGAGEMENT\", \"DECISION D'ENGAGEMENT\",\n       'AFFECTATION DEFINITIVE', 'DETACHEMENT', nan], dtype=object)"
     },
     "execution_count": 245,
     "metadata": {},
     "output_type": "execute_result"
    }
   ],
   "source": [
    "#mode_ent\n",
    "df[qualitative[7]].unique()\n"
   ]
  },
  {
   "cell_type": "code",
   "execution_count": 266,
   "id": "e4004f15",
   "metadata": {},
   "outputs": [],
   "source": [
    "#date_ent\n",
    "df[qualitative[8]].unique()\n",
    "data_y = df[qualitative[8]]\n",
    "df[qualitative[8]]=pd.to_datetime(data_y).dt.year"
   ]
  },
  {
   "cell_type": "code",
   "execution_count": 247,
   "id": "e70da2bd",
   "metadata": {},
   "outputs": [
    {
     "data": {
      "text/plain": "array(['PREPOSE DES DOUANES', 'EFA4', 'CONTROLEUR DES DOUANES',\n       'INSPECTEUR DES DOUANES', 'AGENT DE CONSTATATION DES DOUANES',\n       'SOUS-CHEF DE BUREAU DES SCES FINANCIERS', 'EFA3', 'ELD4', 'EFA2',\n       \"AGENT D'ENCADREMENT DES DOUANES\",\n       \"ADMINISTRATEUR DE SERVICE DE L' A.N.\", 'EFA1',\n       'EMPLOYE DE COURTE DUREE', 'PROFESSEUR CERTIFIE', 'EFA8',\n       'INGENIEUR PRINCIPAL DE LA STATISTIQUE', 'EFA6', 'EFA5',\n       'CHEF DE BUREAU DES SCES FINANCIERS', 'PERCEPTEUR DES FINANCES',\n       'ADMINISTRATEUR CIVIL',\n       \"ASSISTANT D'ENSEIGNEMENT SUPERIEUR ET DE RECHERCHE\",\n       'CONTROLEUR DES IMPOTS',\n       'INSPECTEUR DU TRAVAIL ET DES LOIS SOCIALES', 'OFFICIER DE POLICE',\n       \"ADJOINT D'ADMINISTRATION\", 'MILITAIRE',\n       'INSPECTEUR PENITENTIAIRE', \"ASSISTANT D'ADMINISTRATION\", 'EFA7',\n       nan, \"ADMINISTRATEUR D'UNIVERSITE\", 'EFA9',\n       'ADMINISTRATEUR DES SCES FINANCIERS'], dtype=object)"
     },
     "execution_count": 247,
     "metadata": {},
     "output_type": "execute_result"
    }
   ],
   "source": [
    "#corps_ent\n",
    "df[qualitative[9]].unique()"
   ]
  },
  {
   "cell_type": "code",
   "execution_count": 248,
   "id": "c13dc09a",
   "metadata": {},
   "outputs": [
    {
     "data": {
      "text/plain": "array(['42MG', '22TP', '34AS', '12IV', '21TO', 'DGD', 'SAI', 'SAF', 'SRI',\n       nan, '53TL', 'SLF', '25BT', 'SED', '11AN', 'SS', 'SLR', 'DSCD',\n       '24SM', 'PRMP', 'AUTRES', 'SAGD', 'SAJC', 'SID', 'SDI', 'SAGRH',\n       'SDC', '51MD', '35NB', 'SRH', 'SE/DSCD', '32SA', 'SFRC/DNF',\n       'SCAP', 'SCDD', '13AB', '31AH', 'SVO', 'DESD', 'DLRE', 'DAJLF',\n       'SCD', 'CCSEAD', '62MJ', '41AL', 'SCRS', '16ZE', '54TG', '17ZO',\n       '15ZS', '61MK', 'DTERD', 'SCC', '63FI', 'DAGD', 'DSE', 'SSD',\n       'BUDORS', 'SBID', 'SST', 'SSAE', 'SCSR', 'CIR', 'DAAD', '23MA',\n       'ENSD', 'SCRU', 'SI', 'SSLC', 'DNFP', 'SRAR', 'SOC', 'DLV',\n       'SRDAAMI', 'SE', '33VO', 'DLSD', 'SAE', '14MA', 'SSOC', 'SF',\n       'CPERF', 'CDL'], dtype=object)"
     },
     "execution_count": 248,
     "metadata": {},
     "output_type": "execute_result"
    }
   ],
   "source": [
    "#poste_ent\n",
    "df[qualitative[10]].unique()"
   ]
  },
  {
   "cell_type": "code",
   "execution_count": 267,
   "outputs": [
    {
     "data": {
      "text/plain": "array(['ANTSIRANANA', 'TOAMASINA-PETROLES', 'IVATO-AEROPORT',\n       'BETAINOMBY DEDIE SHERRITT', 'BS TOAMASINA', 'MAHAJANGA',\n       'BUREAU DES DOUANES DE TOAMASINA PORT',\n       'DIRECTION NATIONALE DE LA FORMATION PROFESSIONELLE',\n       'DIRECTION GENERALE DES DOUANES', 'ANTALAHA',\n       'SERVICE DES RESSOURCES HUMAINES',\n       \"CELLULE DE COORDINATION,DE SUIVI ET D'EVALUATION DES ACTIONS DOUANIERES\",\n       \"SERVICE DE L'INSPECTION DOUANIERE\",\n       \"SERVICE DE L'AUDIT ET DE L'INSPECTION\",\n       'PERSONNE RESPONSABLE DU MARCHE PUBLIC', 'TOLIARA',\n       'SERVICE DES ETUDES ET DE LA DOCUMENTATION',\n       'SERVICE ADMINISTRATIF ET FINANCIER',\n       'SERVICE DES RELATIONS INTERNATIONALES',\n       'SERVICE DU CONTROLE DES REGIMES SUSPENSIFS', 'BMS DIEGO',\n       'SERVICE DE LA LUTTE CONTRE LA FRAUDE',\n       'SERVICE DE LA SURVEILLANCE DOUANIERE', 'ANTANANARIVO',\n       'ANTENNE DES DOUANES ANOSISOA', 'SAINTE-MARIE',\n       'DIRECTION DES ENQUETES ET DE LA SURVEILLANCE DOUANIERES',\n       'SERVICE DES STATISTIQUES ET DE LA COMPTABILITE',\n       'SERVICE DE LA LEGISLATION ET DE LA REGLEMENTATION',\n       'ECOLE NATIONALE SUPERIEURE DES DOUANES',\n       'DIRECTION DES STATISTIQUES ET DE LA COMPTABILITE DOUANIERES',\n       'SERVICE DE LA COMPTABILITE ET DU SUIVI DE RECOUVREMENT',\n       'SERVICE DES ACTIONS ECONOMIQUES',\n       'SERVICE DES AFFAIRES JURIDIQUES ET DU CONTENTIEUX',\n       'DIRECTION DES AFFAIRES GENERALES DES DOUANES', 'MANANJARY',\n       'MANAKARA', 'ANTSIRABE', 'MORONDAVA', 'MOROMBE', 'ILE MAURICE',\n       'BRUXELLES', 'FIANARANTSOA', 'BMS FIANARANTSOA',\n       \"SERVICE DE L'INFORMATIQUE\",\n       'SERVICE DE LA COMMUNICATION ET DE LA COORDINATION',\n       'SERVICE DE LA COMPTABILITE DOUANIERE',\n       'SERVICE DES DROITS INDIRECTS EXTERIEURS',\n       \"SERVICE DE LA VALEUR ET DE L'ORIGINE\", 'SERVICE DES STATISTIQUES',\n       'SERVICE ADMINISTRATIF ET DE LA GESTION DES RESSOURCES HUMAINES',\n       'DIRECTION DES SERVICES EXTERIEURS', 'NOSY-BE', 'SAMBAVA',\n       'SERVICE DE LA DOCUMENTATION ET DE LA COMMUNICATION',\n       'ANTENNE DES DOUANES ANOSIZATO',\n       'DIRECTION DE LA LEGISLATION ET DE LA VALEUR', 'AUTRES BUREAUX',\n       'SERVICE DE SUIVI DES OPERATIONS COMMERCIALES', 'TAOLAGNARO',\n       'SERVICE DE LA FORMATION ET DU RENFORCEMENT DES CAPACITES',\n       'SERVICE DES ETUDES',\n       'SERVICE DE COORDINATION DES ACTIONS DOUANIERES ET DE LA PROGRAMMATION',\n       'MAMORY-IVATO', 'SERVICE DES OPERATIONS COMMERCIALES',\n       'SERVICE DES AFFAIRES GENERALES DES DOUANES',\n       'DIRECTION DES RESSOURCES ET DE LA FORMATION',\n       'ANTENNE DES DOUANES AMBOHIBAO', 'MAROANTSETRA',\n       'ANTANANARIVO -EX ANTANIMENA',\n       \"SERVICE DU RENSEIGNMT, DE LA DOC ET DE L'ASSIST ADMIN MUT INTLE\",\n       'SERVICE DE LA SURVEILLANCE ET DE LA LUTTE CONTRE LA CONTREBANDE',\n       'SERVICE DES STATISTIQUES ET DES ANALYSES ECONOMIQUES',\n       'SERVICE DE LA FORMATION', 'ABROGEE',\n       'DIRECTION DES AFFAIRES JURIDIQUES ET DES LUTTES CONTRE LES FRAUDES',\n       'SERVICE DE LA COMMUNICATION ET DE LA RELATION AVEC LES USAGERS',\n       \"DIRECTION DE L'INFORMATIQUE,DES STATISTIQUES ET DE LA COMPTABILITE DOUANIERES\",\n       'SERVICE DE PILOTAGE ET DE COORDINATION DES BUREAUX DES DOUANES',\n       \"SERVICE DU RENSEIGNEMENT ET DE L'ANALYSE DES RISQUES\",\n       'ANALALAVA', 'BS ANTANANARIVO', 'VOHEMAR',\n       'BUREAU UNIQUE DE DOMICILIATION DES REGIMES SUSPENSIFS',\n       'BMS TULEAR',\n       'DIRECTION DE LA TECHNIQUE, DES ENQUETES ET DES RECHERCHES DOUANIERES',\n       'DIRECTION DE LA LEGISLATION ET DES STATISTIQUES DOUANIERES',\n       'DIRECTION DE LA LEGISLATION,DE LA REGLEMENTATION ET DES ETUDES',\n       \"SERVICE DE LA BRIGADE D'INSPECTION DOUANIERE\",\n       'SERVICE ADMINISTRATIF ET FINANCIER-DNFP', 'BMS MAJUNGA',\n       'SERVICE DES EQUIPEMENTS',\n       'SERVICE DES ETUDES DE LA TECHNIQUE DOUANIERE ET DES RELATIONS INTERNATIONALES',\n       'SERVICE CENTRAL DES DOUANES', 'WASHINGTON-DC',\n       'SERVICE DE SURVEILLANCE DU TERRITOIRE', 'GENEVE',\n       'DIRECTION DES AFFAIRES ADMINISTRATIVES DES DOUANES',\n       'CELLULE DE PERFORMANCE', 'PARIS',\n       'DIRECTION DES AFFAIRES JURIDIQUES ET DE LA LUTTE CONTRE LES FRAUDES',\n       'CENTRE DE LIQUIDATION', 'POSTE DE SURVEILLANCE MAJUNGA',\n       \"POSTE DE SURVEILLANCE D'ANTSIRANANA\",\n       'POSTE DE SURVEILLANCE DE TOLIARA',\n       'POSTE DE SURVEILLANCE DE NOSSY-BE',\n       'POSTE DE SURVEILLANCE DE TAOLAGNARO'], dtype=object)"
     },
     "execution_count": 267,
     "metadata": {},
     "output_type": "execute_result"
    }
   ],
   "source": [
    "#lieu_af\n",
    "df[qualitative[11]].unique()\n"
   ],
   "metadata": {
    "collapsed": false,
    "pycharm": {
     "name": "#%%\n"
    }
   }
  },
  {
   "cell_type": "code",
   "execution_count": 268,
   "outputs": [
    {
     "data": {
      "text/plain": "array([\"COMPLEMENT D'EFFECTIF\", nan,\n       'NOMME RECEVEUR DES DOUANES BETAINOMBY', '1ERE AFFECTATION',\n       'NOMME MEMBRE CCSEAD', 'NOMME CHEF DE DIVISION',\n       'NOMME CHEF DES OPERATIONS COMMERCIALES', 'NOMME COORDONNATEUR',\n       'NOMINATION', 'MUTATION', 'NOMINATION SUR FONCTION', 'NOMME PRMP',\n       'ABROGEE', 'PREMIERE AFFECTATION', 'NOMME CHEF DE PROJET',\n       \"Complement d'effectif\", 'RAPPROCHEMENT',\n       'NOMINATION CHEF DE DIVISION', 'NOMME CHEF DE VISITE',\n       'NOMME RECEVEUR DES DOUANES', 'NOMME RECEVEUR', 'REMPLACEMENT',\n       \"STAGIAIRE COMPLEMENT D'EFFECTIF\", 'DAME VISITEUSE',\n       'NOMME CHEF DES OPERATIONS DIVERSES', 'ANNULEE',\n       'NOMINATION CHEF DE SITE', 'NOMINATION DE CHEF DE SERVICE',\n       'VERIFICATEUR', 'NOMME CHEF DE SERVICE',\n       'NOMME RECEVEUR DES DOUANES DE TOAMASINA-PORT',\n       'EQUIPE NATIONALE SYDONIA', 'NOMME ADJOINT DU CHEF DE PROJET',\n       'NOUVELLEMENT RECRUTE', 'NECESSITE DE SERVICE',\n       'NOMME RECEVEUR DES DOUANES DE SAMBAVA',\n       \"NOMME RECEVEUR DES DOUANES D'ANTSIRANANA\",\n       'NOMME CHEF DE BRIGADE SPECIALE', \"NOMME CHEF D'ANTENNE\",\n       'NOMME ADJOINT AU RECEVEUR SOARANO', 'STAGE',\n       'NOMINATION CHEF DE POSTE', 'NOMINATION RECDOU',\n       'NOMINATION CHEF DE SERVICE', 'ABROGE',\n       \"NOMINATION D'UN CHEF DE DIVISION\", 'NOMINATION DE DIRECTEUR',\n       'ABROGATION DRF', 'NOMINATION DIRECTEUR', 'NOMME DGD',\n       'CHEF DE DIVISION', 'NOMME DIRECTEUR PAR INTERIM',\n       'NOMME DIRECTEUR', 'RECRUTEMENT ANALYSTE PROGRAMMEUR',\n       'NOMME CHEF SECTEUR', 'NOMME ADJOINT AU RECEVEUR',\n       'NOUVELLEMENT RECRUTEE', 'NOUVELLEMENT NOMME INSPECTEUR',\n       'NOUVELLEMENT NOMME', 'PREMIERE POSTE', 'CE', 'MISE A DISPOSITION',\n       '1ERE POSTE', 'REAFFECTATION', 'NOMINATION RECEVEUR',\n       'NOMINATION CHEF DE DIV', 'NOMINATION CHEF DIV',\n       'ABROGE SUIVANT DECISION N?106 DU 13/10/16', '12IV ANNULE',\n       'ABROGEE SUIVANT DEC 007 DU 08/02/17', 'MAINTIEN AU POSTE',\n       'ABROGATION MAINTIEN 21TO', 'MAINTIEN AU BUREAU 13AB',\n       'MAINTIEN AU BUREAU 22TP',\n       'FIN DE MISE A DISPOSITION ET NOMINATION ',\n       'MISE A LA DISPOSITION', 'MAINTIEN AU BUREAU SSLC',\n       'PROJET ANALYSE DE MANIFESTE', 'MAINTIEN', 'MAINTENU AU BDD 42MG',\n       'NOMIINATION SUR FONCTION'], dtype=object)"
     },
     "execution_count": 268,
     "metadata": {},
     "output_type": "execute_result"
    }
   ],
   "source": [
    "#motif_affect\n",
    "df[qualitative[12]].unique()"
   ],
   "metadata": {
    "collapsed": false,
    "pycharm": {
     "name": "#%%\n"
    }
   }
  },
  {
   "cell_type": "code",
   "execution_count": 269,
   "outputs": [
    {
     "data": {
      "text/plain": "array([nan, 'CHEF DE SITE', 'ECOR ET SURVEILLANCE', 'BILLETEUR', 'IVL',\n       'RECEVEUR DES DOUANES',\n       'RESPONSABLE DES AVANCEMENTS DES AGENTS AUXILIAIRES',\n       'MEMBRE CCSEAD', 'CHEF DE DIVISION', 'SECRETAIRE',\n       'CHEF DES OPERATIONS COMMERCIALES', 'CHAUFFEUR', 'VERIFICATEUR',\n       'COORDONNATEUR', 'RESPONSABLE NAVIGATION', 'RECEVABILITE',\n       'ANALYSTE IMAGE SCANNER-ENVOI COLIS POSTAUX', 'CHEF DE POSTE',\n       'RESPONSABLE DES AVANCEMENTS', 'CHEF DE SITE INFORMATIQUE',\n       'AGENT DU BRIGADE', 'UNITE MOBILE DE SURVEILLANCE',\n       'AGENT DE BRIGADE', 'PLANTON',\n       'RECEVEUR DES DOUANES DE SAINTE-MARIE', 'PRMP', 'ABROGEE',\n       'CHEF COMPTABLE', 'COMPTABILITE', 'AGENT BMS',\n       'VISITEUR-ENLEVEMENT-PORTE', 'AUDITEUR',\n       'COORDONNATEUR-ADJOINT AU RECEVEUR',\n       \"CHEF DU SERVICE DE L'INSPECTION DOUANIERE\",\n       'CONSEILLERE DES AFFAIRES DOUANIERES',\n       'CONSEILLER AUX AFFAIRES DOUANIERES', 'CHEF DE VISITE', 'CHEF BMS',\n       'CHEF DE PROJET',\n       \"INSPECTEUR DES DOUANES EN COMPLEMENT D'EFFECTIF\",\n       'RECEVEUR DES DOUANES 25BT', 'CAISSIERE', 'PREPOSE VISITEUR',\n       'RESPONSABLE MANDATEMENT-BILLETEUR SAF', 'CHEF DE DIVISION SOLDE',\n       'CONGE ET VALIDATION', 'RECEVEUR DES DOUANES DE NOSY-BE',\n       'APUREMENT MANIFESTE', 'DAME VISITEUSE', 'DEPOSITAIRE COMPTABLE',\n       'COPDIV', 'ADJOINT RECEVEUR', 'INFORMATICIEN',\n       'CHEF DU SERVICE DE LA LUTTE CONTRE LA FRAUDE',\n       'CHEF DU SERVICE SFRC', 'CAISSIER-COMPTABLE',\n       'ADMINISTRATEUR DE CAMERA', 'ADMINISTRATEUR CAMERA',\n       'ADJOINT DU CHEF DE PROJET', \"CHARGE D'ETUDES\",\n       'ADJOINT AU RECEVEUR DES DOUANES', \"COMPLEMENT D'EFFECTIF\",\n       'RECEVEUR INTERIMAIRE', 'COPCO', 'CHEF DU SERVICE SRH',\n       'INSPECTEUR', 'QUITTANCIER', 'CAISSE-ESCALE',\n       'RESPONSABLE DES REMBOURSEMENTS TPP ET TVAPP', 'REVISION',\n       'SUIVI ECOR ET STOCKS', 'RESPONSABLE DE LA FORMATION',\n       'SECRETAIRE-RH', 'CHEF DE SERVICE', 'CHEF DE BRIGADE SPECIALE',\n       \"CHEF D'ANTENNE\", 'ADJOINT AU RECEVEUR', 'VERIFICATEUR-BILLETEUR',\n       'UNITE MOBILE DE SURVEILLANCE-BRIGADE DES DOUANES',\n       'BRIGADE DES DOUANES - ECOR ET SURVEILLANCE', 'PERSONNEL',\n       'VISITEUR', 'CHEF DE POSTE SHERRITT', 'CHEF DE POSTE U.M.S.',\n       'CONCEPTEUR RH', 'RESPONSABLE DE REMBOURSEMENT',\n       'CHEF DE DIVISION ETUDES', 'OPERATRICE',\n       'CHEF DE DIVISION SOCIALE', 'ECOR', 'OPERATEUR DE SAISIE',\n       'CHEF DU SERVICE SAJC', 'CHEF DU SERVICE SI',\n       'CHEF DE DIVISION REFORME', 'CHEF DE DIVISION PA/AT/TSD',\n       'CHEF DE DIVISION APPLICATION DES CONVENTIONS INT.',\n       'CHEF DE DIVISION LEGISLATION', 'CHEF DE DIVISION ETUDE',\n       'CHEF DE DIV. ETUDES DOC ET DEMAT',\n       'CHEF DE DIVISION ENTREPOT ET REEXPORTATION', 'RECEVEUR 54TG',\n       'CHEF DU SERVICE SRI', 'CHEF DE DIVISION VALEUR EN DOUANESET BDD',\n       'CHEF DU SERVICE SLR',\n       'CHEF DE DIVISION DES RELATIONS AVEC LES USAGERS',\n       'CHEF DE DIVISION COOPERATION REGIONALE',\n       'CHEF DE DIVISION GESTION ET SUIVI MESSG RISQ',\n       'CHEF DES OPERATIONS DIVERSES', 'CHEF DU SERVICE SPCB',\n       'COPCO MADARAIL ANTANANARIVO', \"CHEF D'ANTENNE ANTSIRABE\",\n       \"RECEVEUR DES DOUANES D'ANTANANARIVO\",\n       'CHEF DE DIVISION VALEUR DES VEHICULES IMPORTES', 'CHEF OPCO 42MG',\n       'RECEVEUR DES DOUANES 12IV', 'RECEVEUR DES DOUANES 53TL',\n       'RESPONSABLE DE LA GESTION DE PERFORMANCE',\n       'RECEVEUR DES DOUANES DE TAOLAGNARO', 'CONTROLEUR ENTREPOT',\n       \"VISITEUR A L'AIR MAD.COM\",\n       'CHEF DE DIVISION DE LA LUTTE CONTRE LA CONTREFACON',\n       'RECEVEUR NOSY-BE', 'RECEVEUR', 'RECEVEUR PAR INTERIM',\n       'MANDATEMENT DE SOLDE', 'CHEF RET', 'CHEF DE DIVISION SUIVI RET',\n       'CHEF DES OPERATIONS DE SURVEILLANCE', 'CHEF SECTEUR BMS TULEAR',\n       'CHEF DU SERVICE SCAP', 'CHEF DE SECTEUR BMS TAMATAVE',\n       'CHEF DES OPERATIONS COMMERCIALES ESCALE',\n       'CHEF DE DIVISION DOCUMENTATION JURIDIQUE',\n       'COORDONNATEUR ET COPDIV', 'AFFECTATION PROVISOIRE',\n       'CHEF DE DIVISION CAP',\n       'CHEF DE DIVISION COOPERATION AVEC LES ORGAN.INTLES',\n       'CHEF DU SERVICE SAE',\n       'CHEF DE DIVISION SUPERVISION ET COORDINATION',\n       'CHEF DE DIVISION TARIF', 'CHEF DE DIVISION DU RECOUVREMENT',\n       'ABROGE', 'CHEF DE DIVISION DE LA VALEUR ET DE LA SELECTIVITE',\n       'DIRECTEUR', 'CHEF DE DIVISION REGLEMENTATION',\n       'CHEF DU SERVICE SDC', 'CHEF DU SERVICE SSOC', 'DIRECTEUR GENERAL',\n       'CHEF DE DIVISION ETUDES ET COORDINATION',\n       \"CHEF D'ESCALE 12IV- ANNULEE\", 'CHEF DE LA BMS MAHAJANGA',\n       \"DIRECTEUR DE L'ENSD PAR INTERIM\", \"DIRECTEUR DE L'ENSD\",\n       'DIRECTEUR DNFP', 'ANALYSTE PROGRAMMEUR CONTRACTUEL',\n       'CHEF SECTEUR BMS MAJUNGA',\n       'CHEF DE DIVISION CLASSEMENT,SUIVI ET ARCHIVAGE', 'RECEVEUR 42MG',\n       'ADJOINT AU RECEVEUR 34AS', 'CHEF DE SECTEUR BMS TOAMASINA',\n       'RECEVEUR DES DOUANES 35NB', 'RECEVEUR DES DOUANES 34AS',\n       'CHEF DE DIVISION FINANCIERE', 'CHEF DU SERVICE DES EQUIPEMENTS',\n       'CHEF DE PROJET SYDONIA', 'CHEF DU SERVICE INFORMATIQUE',\n       'CHEF DU SERVICE DES ETUDES', 'COORDONNATEUR 12IV',\n       'DIRECTEUR DAJLF',\n       'CHEF DE DIVISION GESTION DE RENSEIGNEMENT ET RIS',\n       'CHARGE DES APUREMENTS ET VALIDATIONS', 'AGENT DE SURVEILLANCE',\n       'NAVIGATION', 'CHEF DE ZONE MAGASIN SOUS-DOUANE IMPORT',\n       'ADJOINT AU CHEF DE POSTE', 'AGENT BRIGADE',\n       'ADJOINT DU RECEVEUR 12IV', 'CHEF DU SERVICE DE LA SSLC',\n       'CHEF DE VISITE ESCALE 12IV',\n       'CHEF DE DIVISION RENSEIGNEMENT ET INVESTIGATION', 'RECEVEUR 53TL',\n       'CHEF OPCO', 'CHEF DU SERVICE SVO', 'CHEF DE DIVISION AGOA',\n       'DIRECTEUR DES SERVICES EXTERIEURS', 'DIRECTEUR DLV',\n       'CHEF DU SERVICE SRDAAMI', 'CHEF DU SERVICE SRAR',\n       'DIRECTEUR DSCD', 'RECEVEUR PAR INTERIM 54TG',\n       \"RESPONSABLE DE L'ALIMENTATION DE LA BDD VALEUR\",\n       'CHEF BMS TULEAR', 'CHEF SECTEUR BMS TOAMASINA',\n       'RECEVEUR DES DOUANES 13AB', 'ADJOINT AU RECEVEUR 11AN',\n       'CHEF DE DIVISION DES ETUDES ET FONCTIONNALITES', 'CE',\n       'CHEF DE DIVISION APPUI AU DAJLF',\n       'CHEF DU SERVICE DE LA SCOLARITE P.I.', 'CHEF DU SERVICE SLF',\n       'RECEVEUR 21TO', 'CHEF DU SERVICE SRAR PAR INTERIM',\n       'CHEF DU SERVICE DE LA FORMATION',\n       'CHEF DE DIVISION SUIVI DES PROCEDURES ET COORDINAT',\n       'CHEF DE DIVISION SUIVI ET STATISTIQUES', \"AGENT A L'ACCUEIL\",\n       \"CONSEILLER AUPRES DE L'AMBASSADE DE M/CAR\",\n       'DIRECTEUR PAR INTERIM', 'RECEVEUR 12IV',\n       'REPRESENTANT AU CENTRE IMMATRICULATEUR',\n       'CHEF DE SECTEUR BMS TANA', 'TRAITEMENT DOSSIERS CONTENTIEUX',\n       'MAGASINIER', 'AGENT DE BUREAU MIDEX',\n       'TRAITEMENT DE DOSSIERS CONTENTIEUX', 'RESP.RECEVABILITE AGOA',\n       'RESPONSABLE IM5', \"CHARGE DE L'IM8\", 'ENCADREUR',\n       'CHEF OPCO MADARAIL', 'CHEF DU REGIME ECONOMIQUE ET DU TRANSIT',\n       'CHEF DIV COORDINATION DES OPERATIONS ET U.S.',\n       'RECEVEUR DES DOUANES 32SA',\n       'CHEF DE DIVISION LOGISTIQUE ET PERSONNEL',\n       'CHEF DE DIVISION SUIVI ET ENTRETIEN', 'CHEF DE POSTE BMS MAJUNGA',\n       'CHEF DE POSTE BS TOAMASINA', 'CHEF DE SECTION NGM-MD',\n       'CHARGE CONTENTIEUX', 'CHARGEE DOSSIERS ADMISSION TEMPORAIRE',\n       'COMPTABLE', 'CHEF DE DIVISION DOCUMENTATION ET ARCHIVES',\n       \"CHEF DE DIVISION VALEUR ENGINS ET TRACTEURS D'OCC.\",\n       'CHEF DE ZONE', 'BRIGADE', 'CHEF DU SERVICE SSAE',\n       'CHEF DE DIVISION DE LA PROGRAMMATION', 'ADJOINT CHEF DE POSTE',\n       'AGENT DE SURVEILLANCE ESCALE', 'COMPTABLE SOLDE',\n       'SECRETAIRE-PLANTON', 'AGENT DE BUREAU-PLANTON',\n       'CHEF DE DIVISION ODD',\n       'RESP.SUIVI DE LA REGULARISATION DES DEPENSES FASAD',\n       'CHARGE DU SUIVI DES DOSSIERS AUPRES DES COURS/TRIB',\n       'CHARGE DU MATERIEL', \"CHARGE D'ETUDES DIV APPLICTN CONV INTLES\",\n       'CHEF DE DIVISION BANQUE DE DONNEES ET AUTOMATISAT?',\n       'CHEF DE DIVISION EFFECTIF',\n       'CHEF DE DIVISION SUIVI ADMIN,MATERIEL ET FINC',\n       'CHARGE ENVOIS STATISTIQUES',\n       'CHARGE DE MISSION SUR PARTENARIAT SOCIAL',\n       'CHEF DE DIVISION ETUDE,SUIVI ET COORDINAT?DES ACT?',\n       'CHARGE DE MISSION',\n       'CHARGE DE MISSION SUR ASSAINISSEMENT ZF ET EF',\n       'CHEF DU SERVICE SID', 'CHEF DU SERVICE SCSR',\n       'CHEF DE DIVISION ANALYSE DES RISQUES', 'ATTACHE DOUANIER A PARIS',\n       'RECEVEUR DES DOUANES 63FI', 'CHEF DE DIVISION UDCTS',\n       'RECEVEUR DES DOUANES 33VO', 'CHEF DE DIVISION SUIVI TECHNIQUE',\n       'CHEF DE DIVISION RELATIONS PUBLIQUES ET COMM.EXT.',\n       \"CHEF DE DIVISION 'MODELISATION ET ANALYSE ECONOMQ.\",\n       'CHEF DE DIVISION FC',\n       'CHEF DE DIVISION COOPER. AVEC LES ORG.INTLES',\n       'RESP.CONGE ET VALIDATION', 'AGENT CAISSE',\n       'COORDONNATEUR DU CENTRE DE LIQUIDATION',\n       'CHARGE DU SUIVI DOSSIER SLR', 'INTERIMAIRE SECRETAIRE DGD',\n       'CHARGE DE MISSION APPUI A LA DSCD',\n       'ADJOINT CHEF DE SITE INFORMATIQUE',\n       'CHEF DE DIVISION DES AFFAIRES ADMINISTRATIVES',\n       'CHEF DE DIVISION GESTION DU PARC AUTOMOBILE',\n       'CHEF DE DIVISION ETUDES ET CONCEPTIONS',\n       'CHARGE DE MISSION POUR LA MISE EN PLACE DU PROCESS',\n       'CHEF DE SERVICE SAJC', 'CHEF DE SERVICE SLF',\n       'CHEF DE SERVICE SRAR', 'CHEF DE SERVICE SDC',\n       'CHEF DE SERVICE SRH', 'CHEF DE SERVICE DE LA FORMATION',\n       'CHEF DE SERVICE SE', 'CHEF DE DIVISION AFFAIRES JURIDIQUES',\n       'CHEF DE DIVISION AUDIT ET PROCEDURE',\n       'CHEF DE DIVISION COORDINATION DES ACTIONS DES US',\n       'CHEF DE DIVISION CONTROLE SECTORIEL',\n       'CHEF DE DIVISION VALEUR EN DOUANES ET BDD',\n       'CHEF DE DIVISION VALEUR FOB ENGINS ET TRACTEURS-VR',\n       'REPRESENTANT AU CIM',\n       'DIRECTEUR DE LA LEGISLATION ET DE LA VALEUR',\n       'DIRECTEUR DES RESSOURCES ET DE LA FORMATION',\n       'DIRECTEUR DES STATISTIQUES ET DE LA COMPTABILITE',\n       'CHEF DE SERVICE SCAP', 'INFORMATICIEN ANALYSTE DE MANIFESTE',\n       'DEVELOPPEUR', 'CHARGE RESEAU ET MAINTENANCE',\n       'CHARGE SUIVI DE DOSSIER', 'ADJOINT CHEF SECTEUR',\n       'RECEVEUR DES DOUANES 42MG', 'RECEVEUR DES DOUANES 24SM',\n       'RECEVEUR DES DOUANES 14MA',\n       'CHEF DU REGIME ECONOMIQUE ET TRANSIT', 'CHEF OPDIV 12IV',\n       'CHEF DES OPERATIONS COMMERCIALES 14MA', 'CHEF OPDIV',\n       'CHEF DES OPERATIONS COMMERCIALES 25BT',\n       'COORDONNATEUR-VERIFICATEUR',\n       'CHEF DE MISSION DEMATERIALISATION ADMINISTRATIVE',\n       'CHEF DE MISSION ASSAINISSEMENT DES ZEF', 'CHEF DE DIVISION AUDIT',\n       'CHEF DE DIVISION INSPECTION', 'CHEF DE DIVISION PROGRAMMATION',\n       'CHEF DE DIVISION SUIVI STRATEGIQUE',\n       'CHEF DE DIVISION SUIVI PROCEDURES ET COORDINATION',\n       'CHEF DE DIVISION TRANSIT ET SOUMISSION',\n       'CHEF DE DIVISION SUIVI DES REGIMES ECONOMIQUES',\n       'RESPONSABLE DU CELLULE DE PERFORMANCE',\n       'RECEVEUR DES DOUANES 21TO', 'RECEVEUR DES DOUANES 11AN',\n       \"CHEF DE DIVISION D'APPUI SUIVI ET COORDINATION\",\n       'ADJOINT AU RECEVEUR 12IV', 'CHEF SECTEUR BSTNR',\n       'CHEF DE DIVISION UCTS', 'ANALYSTE',\n       'CHEF DE DIVISION APPLICATION DES REFORMES',\n       'CHEF DE DIVISION APPUI', 'CHEF DE DIVISION CONTENTIEUX',\n       'CHEF DE DIVISION RECOUVREMENT', 'CHEF DE DIVISION CONTROLE RET',\n       'CHARGE DE MISSION SUR LA REALISATION DE GRANDS EVT',\n       'FORMATEUR PERMANENT ET CHARGE DE MISSION GPEEC',\n       'RECEVEUR DES DOUANES 32MJ', 'CHEF DE SERVICE SID',\n       'CHEF DE SERVICE SSOC', 'CHEF DE SERVICE SPCB',\n       'CHEF DE SERVICE SSLC', 'CHEF DE SERVICE SLR',\n       'CHEF DE SERVICE SRI', 'CHEF DE SERVICE SAE',\n       'CHEF DE SERVICE SVO', 'CHEF DE SERVICE SI',\n       'CHEF DE SERVICE SCSR', 'CHEF SECTEUR BS TOAMASINA',\n       'CHARGE DE MISSION APPUI A LA DSE',\n       'CHEF DE DIVISION DE SUIVI FONCTIONNEL', 'FORMATEUR PERMANENT',\n       'CHEF DE DIVISION FORMATION CONTINUE',\n       'CHEF DE SERVICE APPUI A LA PERF ADMIN',\n       'CHEF DE MISSION STRATEGIE DE MODERNISATION', 'CHARGE CAISSE',\n       'CHEF DE DIVISION DES AFFAIRES JURIDIQUES',\n       'CHEF DE DIVISION COOPERATION INTERNATIONALE',\n       'CHEF DE DIVISION ORIENTATION DU CONTROLE',\n       'CHEF DE DIVISION INTERVENTION',\n       'CHEF DE DIVISION INFORMATIQUE ET GESTION DE LA SEL',\n       'CHEF DE DIVISION DE CONTROLE DES GRANDES ESES'], dtype=object)"
     },
     "execution_count": 269,
     "metadata": {},
     "output_type": "execute_result"
    }
   ],
   "source": [
    "#fonction_af\n",
    "df[qualitative[13]].unique()"
   ],
   "metadata": {
    "collapsed": false,
    "pycharm": {
     "name": "#%%\n"
    }
   }
  },
  {
   "cell_type": "code",
   "execution_count": 270,
   "outputs": [
    {
     "data": {
      "text/plain": "array([nan, 'DAA', 'DIVISION MATERIEL', 'CAISSE',\n       'ETUDES ET SUIVI FONCTIONNEL', 'SOLDE', 'CONGE',\n       'RECETTE DES DOUANES MAHAJANGA', 'INFORMATIQUE', 'EFFECTIF',\n       'RECETTE DES DOUANES DE NOSY-BE', 'ECRITURE',\n       'SOCIALES ET LOISIRS', 'ETUDES', 'DIVISION SOCIALE',\n       'COOPERATION REGIONALE', 'VVI', 'RET', 'SECRETARIAT',\n       'COMPTABILITE DES DOUANES', 'CAP',\n       'COOPERATION AVEC LES ORGANISATIONS INTLES', 'RECOUVREMENT',\n       'REGLEMENTATION', 'OPDIV', 'ETUDES ET COORDINATION',\n       'CONTROLE DES ENTREPRISES', 'DAR',\n       'GESTION DE RENSEIGNEMENT ET RELATION INTER SCE',\n       'OPERATION DE SURVEILLANCE', 'BRIGADE', 'OPCO', 'BRIGADE/OPCO',\n       'DVS', 'RI', 'AGOA', 'ETUDES ET FONCTIONNALITES',\n       'RELATION AVEC LES USAGERS', 'ADJOINT AU RECEVEUR',\n       'COORDINATION DES OPERATIONS ET UNITES DE SURV.',\n       'DOCUMENTATION ET ARCHIVES', 'PROGRAMMATION', 'ENTREPOT',\n       'OPERATIONS DIVERSES', 'OPERATIONS COMMERCIALES',\n       'DIVISION PROGRAMMATION', 'DEVELOPPEMENT',\n       'OBSERVATOIRE DU DELAI DE DEDOUANEMENT', 'CONTENTIEUX',\n       'EQUIPEMENTS', 'APPLICATION CONVENTIONS INTERNATIONALES',\n       'EQUIPEMENT', 'MATERIEL', 'TECHNIQUE', 'FC', 'DIVPRO',\n       'SUIVI FONCTIONNEL', 'DIVISION DES AFFAIRES ADMINISTRATIVES',\n       'GESTION DU PARC AUTOMOBILE', 'ETUDES ET CONCEPTION',\n       'AFFAIRES JURIDIQUES', 'AUDIT ET PROCEDURE',\n       'UNITE DES SURVEILLANCES', 'CONTROLE SECTORIEL',\n       'VALEUR EN DOUANES ET BDD',\n       'VALEUR FOB ENGINS ET TRACTEURS IMP -VR', 'PROCEDURES DOUANIERES',\n       'LEGISLATION', 'RESEAU ET MAINTENANCE', 'AUDIT', 'INSPECTION',\n       'DIV.PRO.', 'SUIVI STRATEGIQUE',\n       'SUIVI PROCEDURES ET COORDINATION', 'TRANSIT ET SOUMISSION',\n       'APPUI', 'GESTION DE LA SELECTIVITE ET DU CIRCUIT DE DEDOUAN',\n       'BSTNR', 'UNITE DOUANIERE CONTRE LES TRAFICS DE STUP', 'TARIF',\n       'APPLICATION DES REFORMES', 'CONTROLE RET', 'BSTMM',\n       'CENTRE DE COORDINATION 12IV', 'FORMATION CONTINUE',\n       'COOPERATION INTERNATIONALE', 'ORIENTATION DU CONTROLE',\n       'INTERVENTION', 'INFORMATIQUE ET GESTION DE LA SELECTIVITE',\n       'CONTROLE DES GRANDES ENTREPRISES'], dtype=object)"
     },
     "execution_count": 270,
     "metadata": {},
     "output_type": "execute_result"
    }
   ],
   "source": [
    "#division_af\n",
    "df[qualitative[14]].unique()"
   ],
   "metadata": {
    "collapsed": false,
    "pycharm": {
     "name": "#%%\n"
    }
   }
  },
  {
   "cell_type": "code",
   "execution_count": 271,
   "outputs": [
    {
     "data": {
      "text/plain": "array(['SOC', 'SPCB', 'SSLC', nan, 'SRH', 'CCSEAD', 'SID', 'SAI', 'PRMP',\n       'SED', 'SAF', 'SRI', 'SCRS', 'SLF', 'SSD', 'SSC', 'SLR', 'ENSD',\n       'SCSR', 'SAE', 'SAJC', 'EXTERIEUR', 'SI', 'SCC', 'SDI', 'SVO',\n       'SDC', 'SECRETARIAT GENERAL DU MFB', 'SSFRC', 'SE', 'SCAP', 'SAGD',\n       'SSOC', 'SRAR', 'SF', 'SAF/DNFP',\n       'SERVICE DE COORDINATION ET DU SUIVI DES RE7 BUDGTR', 'SS',\n       'SE/DSCD', 'SRH (EX-SAF)', 'SRDAAMI', 'SCOLARITE', 'SCRU',\n       'EX-SAF', 'SCAP (EX-SAF)', 'SSAE', 'SST', 'EX-SST',\n       'CELLULE DE GESTION DE PERFORMANCE',\n       \"SERVICE D'ENQUETE ET D'INVESTIGATION\", 'CPERF', 'CDL', 'CGP',\n       'SCE APPUI'], dtype=object)"
     },
     "execution_count": 271,
     "metadata": {},
     "output_type": "execute_result"
    }
   ],
   "source": [
    "#service_af\n",
    "df[qualitative[15]].unique()"
   ],
   "metadata": {
    "collapsed": false,
    "pycharm": {
     "name": "#%%\n"
    }
   }
  },
  {
   "cell_type": "code",
   "execution_count": 272,
   "outputs": [
    {
     "data": {
      "text/plain": "array(['DSE', 'DNFP', 'DGD', 'DRF', nan, 'DLR', 'DLRE', 'DAJLF', 'DTERD',\n       'DESD', 'DLV', 'DSCD', 'DAGD', 'MFB/SG', 'DVL', 'DISCD',\n       'SG DU MBDPA ANTANANARIVO', 'SPCB', 'EX-DNFP', 'EX-DLRE', 'SVO',\n       'DAAD', 'DCI'], dtype=object)"
     },
     "execution_count": 272,
     "metadata": {},
     "output_type": "execute_result"
    }
   ],
   "source": [
    "#direction_af\n",
    "df[qualitative[16]].unique()"
   ],
   "metadata": {
    "collapsed": false,
    "pycharm": {
     "name": "#%%\n"
    }
   }
  },
  {
   "cell_type": "code",
   "execution_count": 273,
   "id": "518970d8",
   "metadata": {},
   "outputs": [],
   "source": [
    "#date_ps\n",
    "df[qualitative[17]].unique()\n",
    "df[qualitative[17]]=pd.to_datetime(df[qualitative[17]]).dt.year"
   ]
  },
  {
   "cell_type": "code",
   "execution_count": 274,
   "id": "950bb102",
   "metadata": {},
   "outputs": [],
   "source": [
    "#dat_retraite\n",
    "df[qualitative[18]]=pd.to_datetime(df[qualitative[18]]).dt.year"
   ]
  },
  {
   "cell_type": "code",
   "execution_count": 275,
   "id": "4f557010",
   "metadata": {},
   "outputs": [
    {
     "data": {
      "text/plain": "array(['22TP', '21TO', '25BT', '11AN', '35NB', 'SAE', '13AB', 'DGD',\n       '31AH', 'SLF', 'SRH', 'SI', '34AS', '33VO', '14MA', '12IV', '42MG',\n       '54TG', '32SA', 'DSE', 'DRF', 'SAJC', 'SCAP', 'SID', 'SRAR',\n       'PRMP', 'ILMAU', 'SLR', '63FI', '53TL', 'SDC', 'CDL', 'BSTNR',\n       'CPERF', 'BSTMM', 'SPCB', 'DAJLF', 'SE', 'SVO', 'SF', 'SSLC',\n       'SRI', '61MK', 'SCSR', '62MJ', 'GNV', 'SSOC', 'DSCD', 'DLV', 'PRS',\n       'BRX', '51MD', '24SM', 'SSAE', 'PSMJG', 'AUTRES', '23MA', 'PSTUL',\n       'PSTAO', 'PSNSB'], dtype=object)"
     },
     "execution_count": 275,
     "metadata": {},
     "output_type": "execute_result"
    }
   ],
   "source": [
    "#post_act\n",
    "df[qualitative[19]].unique()"
   ]
  },
  {
   "cell_type": "code",
   "execution_count": 276,
   "id": "87fa800c",
   "metadata": {
    "pycharm": {
     "name": "#%%\n"
    }
   },
   "outputs": [
    {
     "data": {
      "text/plain": "array(['ECOREUR', 'CHEF DE SITE INFORMATIQUE',\n       'AGENT DE VISITE SECTION CONTENTIEUSES',\n       'CHARGE DU SUIVI ET ET FRCHS PROVSR', 'ADJOINT AU RECEVEUR',\n       'VERIFICATEUR-CTX-BILLETEUR', 'CHEF DES OPERATIONS COMMERCIALES',\n       'CHEF DE SERVICE SAE', 'Visiteur', \"AGENT D'ACCUEIL\",\n       'CHARGE DE MISSION PROCESSUS INTEGRAL', 'LIQUIDATEUR',\n       'RECEVEUR DES DOUANES 35NB', 'CHAUFFEUR',\n       'CHARGE AVANCEMENT AGENTS NON ENCADRES',\n       'CHEF DE DIVISION DE SUIVI FONCTIONNEL',\n       'CHEF DES OPERATIONS COMMERCIALES-BILLETEUR', nan, 'CHEF DE POSTE',\n       'CHAUFFEUR-CHARGE DU PERSONNEL', 'AGENT DE BRIGADE', 'PLANTON',\n       'RECEVEUR DES DOUANES 33VO-BILLETEUR', 'AGENT DE SURVEILLANCE',\n       'RECEVEUR DES DOUANES 54TG-BILLETEUR',\n       'CHARGE DE MISSION SUR ASSAINISSEMENT ZF ET EF', 'VERIFICATEUR',\n       'RECEVEUR DES DOUANES 11AN', 'RECEVEUR DES DOUANES 25BT',\n       'CHARGE DU TRANSIT', 'BILLETEUR', 'CHARGE DE LA COMPTABILITE',\n       'SECRETAIRE', 'CHARGE DE LA REPARTITION DES AMENDES',\n       'AGENT DE BRIGADE UMS', 'BRIGADE',\n       'UNITE DE GESTION DES PASSATIONS DE MARCHE',\n       'RESPONSABLE DE LA FORMATION',\n       'CONSEILLER AUX AFFAIRES DOUANIERES', 'REPRESENTANT AU CIM',\n       'RECEVEUR DES DOUANES', 'CHEF DE PROJET SYDONIA WORD', 'COPDIV',\n       'RECEVEUR DES DOUANES 53TL',\n       'CHARGE DE MISSION SUR PARTENARIAT SOCIAL', 'OPERATEUR DE SAISIE',\n       'CHEF CONTENTIEUX-VERIFICATEUR',\n       'CHARGE DU RAPPROCHEMENT DES DONNEES COMPTABLES',\n       'CHEF DE DIVISION', 'CHARGE DE MANDATEMENT',\n       'CHEF DE DIVISION SOLDE', 'CHEF DE POSTE U.M.S.',\n       'CHARGE DU CONGE', \"CHARGE DU TRANSIT-CHEF D'EQUIPE AEROPORT\",\n       'AGENT ECOREUR', 'REPRESENTANT DE LA DOUANE AU C.I.M.',\n       'CHEF DE DIVISION COMMUNICATION INTERNE', 'Secr?taire',\n       'INFORMATICIEN ANALYSTE DE MANIFESTE', 'RECEVEUR DES DOUANES 63FI',\n       'CHEF DE DIVISION CONTENTIEUX',\n       'COORDONNATEUR DU CENTRE DE LIQUIDATION', 'INFORMATICIEN',\n       'CHEF DE DIVISION INSPECTION', 'CHARGE DU SUIVI DES TRANSITS',\n       'ADMINISTRATEUR DE SITE',\n       'CHEF DE DIVISION INFORMATIQUE DECISIONNELLE',\n       'CHEF DE PROJET ADJOINT SYDONIA WORD',\n       'CONCEPTEUR EN RESSOURCES HUMAINES', 'GARDIEN',\n       'COPCO MADARAIL ANTANANARIVO', 'ADJOINT CHEF SECTEUR',\n       'CHEF DE MISSION ASSAINISSEMENT DES ZEF', 'VERIFICATEUR-CHEF RET',\n       'CHEF RET-VERIFICATEUR', 'CHARGE AVIS DE PAIEMENT',\n       'AGENT UNITE MOBILE DE SURVEILLANCE', 'D?positaire Comptable',\n       'SECRETAIRE-RH', 'V?rificateur-RESP.RH', \"COMPLEMENT D'EFFECTIF\",\n       'CHARGE DE LA RECEVABILITE', 'AGENT DE LA BRIGADE NIVEAU 1',\n       'CHEF DE DIVISION APPUI AU SRH', \"CHARGE D'ETUDES REGLEMENTATION\",\n       'Comptable', 'VAGUEMESTRE', 'CHARGE DE REMBOURSEMENT',\n       'DEPOSITAIRE COMPTABLE',\n       'CHEF DE DIVISION LITIGES ET CONTENTIEUX ADMIN.',\n       'Op?rateur de Saisie', \"CHARGE D'ETUDES\",\n       'CHEF DE DIVISION RECOUVREMENT', 'DIRECTEUR DAJLF',\n       'RECEVEUR DES DOUANES 12IV',\n       'CHEF DE DIVISION SUIVI PROCEDURES ET COORDINATION',\n       'CHEF DE SERVICE SLR', 'CHEF DE SERVICE SE',\n       'CHEF DE DIVISION EF/AGOA', '2EME ADJOINT CHEF SECTEUR BSTMM',\n       'V?rificateur - Liquidateur', 'COORDONNATEUR 21TO',\n       'COORDONNATEUR', 'V?rificateur',\n       'CHEF DE DIVISION VALEUR EN DOUANES ET BDD',\n       'V?rificateur-CHEF CTX', 'CHEF DE DIVISION LEGISLATION',\n       'CHEF DE DIVISION PROGRAMMATION', \"charg? d'enqu?tes\",\n       'RESPONSABLE DE LA CELLULE DE GESTION DES PERF',\n       'CHEF DE DIVISION CONTROLE RET',\n       'CHEF DE DIVISION FORMATION CONTINUE',\n       'chef de division du contr?le RET', 'CHEF DE DIVISION TARIF',\n       'CHARGE DE MISSION SUR LA REALISATION DE GRANDS EVT',\n       'CHEF DE DIVISION SUIVI STRATEGIQUE',\n       'CHEF DES OPERATIONS COMMERCIALES 25BT', 'CHEF DE SERVICE SVO',\n       'RECEVEUR DES DOUANES 34AS',\n       'CHEF DES OPERATIONS COMMERCIALES 12IV', 'CHEF DE DIVISION UCTS',\n       'CHEF DE GROUPE ESCALE', 'COORDONNATEUR-VERIFICATEUR',\n       'CHEF DE DIVISION APPLICATION DES REFORMES',\n       'RECEVEUR DES DOUANES 13AB', 'CHEF DE SERVICE SPCB',\n       'CHEF DE SERVICE SID', 'CHEF SECTEUR BS TOAMASINA',\n       'DIRECTEUR GENERAL', 'CHEF DES OPERATIONS COMMERCIALES 14MA',\n       '\\x04', 'CHEF DE DIVISION AUDIT',\n       'CHEF DE DIVISION COOPER. AVEC LES ORG.INTLES',\n       'CHEF DE DIVISION GESTION ET SUIVI MESSG RISQ', 'IVL',\n       'CHEF DE SERVICE SI', 'CHEF OPDIV 12IV', 'VISITEUR',\n       'COORDINATEUR SUPPLEANT DE LA FORMATION INITIALE',\n       'CHEF DE ZONE QUAI PLAGE', 'AGENT VISITEUR', 'CONTROLEUR ENTREPOT',\n       'CHARGE DU COURRIER', 'AGENT DE SURVEILLANCE - AGENT VISITEUR',\n       \"AGENT D'ENLEVEMENT\", 'AGENT DE VISITE MOLE A1',\n       'CHARGE MANIFESTE', 'AGENT DE BRIGADE MAGASIN',\n       'CHARGE DU SUIVI MANIFESTE-CHARGE DU MAGASIN DEPOT',\n       'AGENT DE LA BRIGADE NIVEAU 2', 'ABROGEE', 'Visiteur ESCALE',\n       'CHARGE ENREGISTREMENT DEVISES', 'MAGASINIER',\n       'Visiteur Export/Fret', \"AGENT D'INTERVENTION\",\n       'CHEF DE DIVISION DU CONTR?LE EN ENTREPRISE',\n       \"CHARGE DE MISSION MISE EN PLACE DU SCE D'ENQU?TE\",\n       'CHEF DU REGIME ECONOMIQUE ET TRANSIT',\n       'CHEF DE DIVISION SUIVI DES REGIMES ECONOMIQUES',\n       'ADJOINT AU RECEVEUR - VERIFICATEUR', 'RECEVEUR DES DOUANES 14MA',\n       'RECEVEUR DES DOUANES 42MG',\n       'CHEF DE DIVISION AFFAIRES JURIDIQUES', 'CHEF DE SERVICE SCAP',\n       'CHARGE DE MISSION APPUI A LA DSE', 'CHEF OPDIV',\n       'CHEF DE MISSION DEMATERIALISATION ADMINISTRATIVE',\n       'CHEF DE DIVISION AUDIT ET PROCEDURE',\n       'CHEF DES OPERATIONS COMMERCIALES ESCALE', 'CHEF RET',\n       'DIRECTEUR DES SERVICES EXTERIEURS', 'CHEF DE SERVICE SSLC',\n       'CHEF DE SERVICE DE LA FORMATION', 'RECEVEUR DES DOUANES 22TP',\n       'CHEF DE MISSION STRATEGIE DE MODERNISATION',\n       'CHEF DE SERVICE SDC',\n       'DIRECTEUR DES STATISTIQUES ET DE LA COMPTABILITE',\n       'DIRECTEUR DE LA LEGISLATION ET DE LA VALEUR',\n       'FORMATEUR PERMANENT ET CHARGE DE MISSION GPEEC',\n       'CHEF SECTEUR BSTNR', 'CHEF DE DIVISION APPUI',\n       'ATTACHE DOUANIER A PARIS', 'CHEF DE SERVICE SRI',\n       'CHEF DE SERVICE SSOC',\n       'DIRECTEUR DES RESSOURCES ET DE LA FORMATION',\n       'CHEF DE DIVISION RENSEIGNEMENT ET INVESTIGATION',\n       'FORMATEUR PERMANENT', 'CHARGE DE MISSION APPUI A LA DSCD',\n       'CHEF DE SERVICE SCSR', 'CHEF DE SERVICE SAJC',\n       'CHEF DE SERVICE SRH', 'VERIFICATEUR-CHEF DES OPDIV ',\n       'RECEVEUR DES DOUANES 21TO', 'CHEF DE SERVICE SLF',\n       'AGENT VISITEUR EXPORT', 'CHEF DE ZONE', 'AGENT SCANNER IMPORT',\n       'Brigade Portail', 'CHEF DE DIVISION MATERIELS', 'VISITEUR ESCALE',\n       'BILLETEUR-AGENT VISITEUR', 'Agent de surveillance',\n       'CHEF DE SERVICE SRAR', 'COORDONNATEUR 12IV',\n       'CHEF DE DIVISION GESTION DE RENSEIGNEMENT ET RIS',\n       'CHEF UNITE MOBILE DE SURVEILLANCE', 'AGENT DE RENSEIGNEMENT',\n       'Ecoreur', 'VISITEUR BCB', 'RESPONSABLE MATERIEL-DEP.COMPT.',\n       'CHARGE CAISSE ET COMPTABILITE', 'CAISSIER',\n       'AGENT CHARGE DU CONTENTIEUX', 'DEPOSITAIRE COMPTABLE-RESP MAT',\n       'ADJOINT AU CHEF DE POSTE', 'CHEF DE BRIGADE SLF',\n       'CHARGE DU PERSONNEL', 'ENCADREUR',\n       'CHEF DE DIVISION (Attestation de Destination)',\n       'CHEF DE POSTE-BILLETEUR', 'CHEF DE ZONE MAGASIN SSDOUANE DHL',\n       'CHEF DE ZONE IMPORT', 'VISITEUR-BILLETEUR', 'CHEF DE ZONE A1',\n       'AGENT DE VISITE SECTION CONTENTIEUSE', 'ADJOINT CHEF DE POSTE',\n       'CHEF DE ZONE EXPORT', \"CHARGE D'ENQUETES NIVEAU 2\",\n       'CHARGE DE  RECOUVREMENT',\n       'CHEF DE DIVISION ETUDES DISPOSITIONS DOUANIERES',\n       'CHEF DE SITE INFORM SUPPL - CHARGE DE LA COMPTA',\n       'CHARGE DU SUIVI DES DOSSIERS AUPRES DES COURS/TRIB',\n       'AGENT SCANNER -CHARGE MANIFESTE',\n       'CHEF DE SITE INFORMATIQUE-BILLETEUR', 'CHEF COMPTABLE',\n       'CHARGE DU SUIVI REGIME DE MISE EN ENTREPOT',\n       \"CHARGE D'ETUDES DES DISPOSITIONS DOUANIERES\",\n       'CHARGE DU Suivi FASAD',\n       'CHEF DE LA DIVISION COOPERATION BILATERALE',\n       'CHARGE DES ENTREPRISES FRANCHES ET AGOA',\n       \"CHARGE D'ETUDES DE LA DIV COOP AVEC ORGAN INTLES\",\n       'REPRESENTANT AU CENTRE IMMATRICULATEUR',\n       'Charg? des Entreprises Franches - AGOA',\n       'RESPONSABLE DU PERSONNEL',\n       'CHEF DE DIVISION DES AFFAIRES ADMINISTRATIVES',\n       'CHARGE DES AFFAIRES CONTENTIEUSES',\n       'ASSISTANT DU CD ANALYS RISQ LIES AUX ACTIV MAR',\n       'RESPONSABLE ADMISSION TEMPORAIRE', 'CHARGE DES MANIFESTES',\n       'CHEF DE DIVISION LOGISTIQUE ET PERSONNEL', 'ENCADREUR ESCALE',\n       'CHEF DE DIVISION SUIVI ET STATISTIQUES',\n       'RECEVEUR DES DOUANES 32MJ', 'CHARGE RET',\n       'RECEVEUR DES DOUANES 32SA',\n       'CHEF DE LA DIVISION TENUE ET ARMEMENT',\n       'Charg?e du suivi des doss aup des cours et tribx',\n       'CHEF DE POSTE BS TOAMASINA-BILLETEUR',\n       \"Charg? de l'admission temporaire\",\n       'Charg?e du recouvrement-DEPOSIT.COMPT.', \"Charg? d'Etudes\",\n       'RECEVEUR DES DOUANES 24SM', 'CHARGE DES COLIS POSTAUX',\n       'CHARGEE DOSSIERS ADMISSION TEMPORAIRE', 'COMPTABLE',\n       \"CHARGE D'ETUDES-DEPOSITAIRE CPTBL\",\n       'CHEF DE SECTION CTRL EN MER ET MOY. DE TRANSP',\n       \"COMITE D'APPEL D'OFFRE\",\n       'CHARGE DE VERIFICATION VOLUME ET QUANTITE', 'AGENT RET',\n       'CHEF CAISSE', 'CHARGE DU SUIVI DES ZEF',\n       'CHARGE DU CONTENTIEUX RET', 'CHEF DE SECTION RECEVABILITE',\n       \"CHARGE D'ETUDES DES REGIMES ECONOMIQUES\",\n       'CAISSIER DES OPERATIONS A CREDIT',\n       \"CHEF DE DIVISION VALEUR ENGINS ET TRACTEURS D'OCC.\",\n       'CHARGE CAISSE', 'RESPONSABLE CAISSE',\n       'CHARGE SUIVI DU REGIME DE MISE EN ENTREPOT',\n       'CHARGE RECEVABILITE', 'AGENT SCANNER EXPORT',\n       \"AGENT D'ENTRETIEN ET DE MAINTENANCE POLYVALENT\",\n       'CHARGE DE LA DOCUMENTATION', 'Planton',\n       'Comptable - BILLETEUR SUPPL - ORDSEC suppl',\n       'BILLETEUR-SECRETAIRE',\n       'ADJOINT CHEF DE FILE-CHARGE DES AFFAIRES CTX', 'BILLETEUR DGD',\n       'CHARGE DE LA NAVIGATION', 'CHARGE DE SOUMISSION',\n       'CHARGE du Suivi du D?lai de D?douanement',\n       'D?positaire comptable',\n       'Ordonnateur Secondaire - BILLETEUR SUPPL?ANT',\n       'ADJOINT CHEF DE SITE INFORMATIQUE', 'AGENT PERMANENT ESCALE',\n       'AGENT ACCEUIL - PLANTON', 'CHEF DU SERVICE SSAE',\n       'CHEF DE DIVISION DE LA PROGRAMMATION',\n       'CHEF DE SITE INFORMATIQUE SUPPLEANT', 'POINT FOCAL DE LA DSE',\n       'CHARGE DE LA DOCUMENTATION JURIDIQUE',\n       'CHEF DE DIVISION SECRETARIAT', 'CHEF DE BRIGADE',\n       'CHEF DE ZONE VISITE', 'AGENT UMS', 'CHARGE DU SUIVI ETAT BLEU',\n       'CHARGE NAVIG - VERIFICATEUR- CHARGE CAISSE/COMPTA',\n       'CHARGE DE LA FORMATION CONTINUE', 'CHARGE DE RECOUVREMENT',\n       'CHARGE DES REGIMES ECONOMIQUES ET DU TRANSIT',\n       'AGENT SCANNER - CHARGE SOUMISSION',\n       \"AGENT D'ACCUEIL-CHARGE CAISSE-CHARGE COMPTA\",\n       'CHARGE DE RECEVABILITE', 'CHEF DE ZONE ESCALE',\n       'Op?rateur de saisie donn?es', 'CHARGE ACCUEIL',\n       \"CHARGE D'ETUDES EN AUDIT ET INSPECTION\",\n       \"CHARGE DU CENTRE D'INFORMATION\", 'CHARGE DU SUIVI DOSSIER SLR',\n       'AGENT SCANNER-CHARGE TRANSIT', 'CHARGE RECEVABILITE DE LA SLR',\n       'SECRETAIRE DE DIRECTION', 'COMPTABLE SOLDE',\n       'CHARGE DE LA LOGISTIQUE', 'CHARGE SUIVI DU DOSSIER DU SLR',\n       'CHARGE DU MATERIEL', 'CHARGE EF/AGOA',\n       'CHARGE DE LA NAVIG ET DU MANIFESTE-CHARGE CAISSE',\n       'CHARGE DES ARCHIVES',\n       'CHARGE DE LA RECEVABILITE DOSSIERS VEHICULES',\n       'RESP.CONGE ET VALIDATION', 'CHEF DE DIVISION APPUI A LA DRF',\n       'SECRETAIRE-PLANTON', \"RESPONSABLE DU PERS - CHARGE D'ETUDES\",\n       'CHARGE DEPART DU DOSSIER DU SLR', 'PLANTON CONTENTIEUX',\n       'CHARGE FIN DE CARRIERE', 'Chauffeur - Coursier', 'PLANTON CI-CO',\n       'planton', 'ASSISTANT', 'CHARGE ARCHIVE ET CLASSEMENT',\n       'DEVELOPPEUR', 'CHEF DE DIVISION ODD',\n       \"Charg? d'Etudes - D?positR Cmptble (Chq carbt)\",\n       \"Agent d'Acceuil du Centre d'Information\",\n       'CHEF DE DIVISION BANQUE DE DONNEES ET AUTOMATISAT?',\n       'CHARGE RESEAU ET MAINTENANCE', 'Charg? des statistiques',\n       'CHEF DE DIVISION ETUDES ET CONCEPTIONS',\n       'Charg? Communication Externe et Relations Publiq',\n       'CHEF DE DIVISION EFFECTIF', 'CHARGE RECRUTEMENT ET AFFECTATION',\n       'CHARGE DU SUIVI DE TRANSIT',\n       'CHEF DE DIVISION RESEAU ET MAINTENANCE', 'CHEF DE DIVISION DEV',\n       'CHEF DE DIVISION (Logistique et s?curit?) ',\n       'CHEF DE LA DIVISION COOPERATION REGIONALE',\n       \"CHARGE D'ETUDES ATTESTATION DE DESTINATION\",\n       \"CHEF DE DIVISION D'APPUI SUIVI ET COORDINATION\",\n       'CHARGE ENREGISTREMENT', 'CHEF DE DIVISION COMM EXT ET REL PUB',\n       'CHEF DE DIVISION DU SUIVI ADMINISTRATIF',\n       'SECRETAIRE-CHARGE DU PERSONNEL', 'CHARGE REGISTRES ET IMPRIMES',\n       'CHARGE ACCUEIL-CHEF DE SITE SUPPLEANT', 'S?cr?taire',\n       'CHARGE AVANCEMENT AGENTS ENCADRES',\n       'CHEF DE DIVISION RELATIONS PUBLIQUES ET COMM.EXT.',\n       'CHARGE SUIVI DOSSIER', 'CHAUFFEUR-COURSIER',\n       'CHEF DE LA DIVISION PATRIMOINE',\n       \"CHARGE D'ETUDES aupr?s du Service\",\n       'CHEF DE DIVISION PARTENARIAT ET COMMUNICATION', 'AUDITEUR',\n       'SECR?TAIRE', \"CHEF DE DIVISION 'MODELISATION ET ANALYSE ECONOMQ.\",\n       'CHARGE DE LA VALIDATION', 'PLANTON - GARDIEN',\n       'COORDINATEUR DE LA FORMATION INITIALE',\n       \"CHARGE LIQUIDATION D'OFFICE\",\n       'CHARGE DE DEMATERIALISATION DES DOSSIERS CTX',\n       'ASSISTANT DIVISION CIBLAGE',\n       'CHEF DE DIVISION GESTION DU PARC AUTOMOBILE', 'PRMP',\n       'AGENT POSTE PERMANENCE OPERATIONNELLE',\n       'CHARGE DE LA RECEVABILITE - AGENT DE SURV ESCALE',\n       'CHARGE SOUMISSION',\n       'CHARGE DE LA FORMATION EN PARTENARIAT NATIONAL', 'ANALYSTE',\n       'CHARGE DU REGIME ECONOMIQUE ET DU TRANSIT',\n       'CHARGE ETS T BORD- AGENT DE SURVEILLANCE ESCALE',\n       'CHARGE DEPART DOSSIER', 'TECHNICIEN EN INFORMATIQUE',\n       'CHARGE DU SUIVI MANIFESTE', 'CHARGE ALIMENTATION SITE WEB',\n       'CHARGE DE LA COMPTABILITE ET DE LA CAISSE',\n       'CHARGE DE LA REFORME ET DE LA MODERNISATION',\n       'CHEF DE DIVISION COORDINATION DES ACTIONS DES US',\n       'CHEF DE DIVISION CONTROLE SECTORIEL',\n       'CHEF DE DIVISION VALEUR FOB ENGINS ET TRACTEURS-VR',\n       'CHARGE DE MANIFESTE ET NAVIGATION',\n       'CHEF DES OPERATIONS DIVERSES',\n       \"CHARGE D'ETUDES DE DIV DE L'APPLIC DES REFORMES\",\n       \"CHARG? D'?TUDES\",\n       'CHARGE DE LA RECEVA -SECRETAIRE- CHARGE DU PERS',\n       'AGENT SCANNER-CHARGE MANIFESTE-CHARGE VAE',\n       'CHARGE DE SUIVI DES DOSSIERS',\n       'CHARGE DU CONTENTIEUX ET DES ETATS DE REPARTITIONS',\n       'ANALYSTE DE RENSEIGNEMENT COMMERCIAL',\n       \"CHARGE D'ETUDES DE LA SELECTIVITE\",\n       'CHARGE DES ADMISSIONS TEMPORAIRES',\n       'CHEF DES RET-CHARGE DES AFF CTX', 'COORDINATEUR E-LEARNING',\n       \"CHARGE D'ETUDES SUIVI STRATEGIQUE\",\n       \"CHARGE D'ETUDES ENTREP?T ET EXPORTATION TEMP\",\n       'CHARGE DE LA RECEVABILITE-AGENT DE SURV ESCALE',\n       \"ASSISTANT AUX CHARGES D'ENQUETES\",\n       'CHARGE DE DEPOT ET VENTE AUX ENCHERES',\n       'CHEF DE DIVISION DES AFFAIRES JURIDIQUES',\n       'CHEF DE DIVISION COOPERATION INTERNATIONALE',\n       'CHEF DE DIVISION ORIENTATION DU CONTROLE',\n       'CHEF DE DIVISION INTERVENTION',\n       'CHEF DE DIVISION INFORMATIQUE ET GESTION DE LA SEL',\n       'CHEF DE DIVISION DE CONTROLE DES GRANDES ESES'], dtype=object)"
     },
     "execution_count": 276,
     "metadata": {},
     "output_type": "execute_result"
    }
   ],
   "source": [
    "#job_act\n",
    "df[qualitative[20]].unique()"
   ]
  },
  {
   "cell_type": "code",
   "execution_count": 277,
   "id": "57028b8d",
   "metadata": {},
   "outputs": [],
   "source": [
    "#dat_echeance\n",
    "df[qualitative[21]]=pd.to_datetime(df[qualitative[21]]).dt.year"
   ]
  },
  {
   "cell_type": "code",
   "execution_count": 278,
   "id": "2fab567e",
   "metadata": {
    "pycharm": {
     "name": "#%%\n"
    }
   },
   "outputs": [
    {
     "data": {
      "text/plain": "array(['EN FONCTION', 'RETRAITE(E)', 'DECEDE(E)', 'FIN DE CONTRAT', nan],\n      dtype=object)"
     },
     "execution_count": 278,
     "metadata": {},
     "output_type": "execute_result"
    }
   ],
   "source": [
    "#statut_act\n",
    "df[qualitative[22]].unique()"
   ]
  },
  {
   "cell_type": "code",
   "execution_count": 279,
   "id": "2b6c623f",
   "metadata": {
    "pycharm": {
     "name": "#%%\n"
    }
   },
   "outputs": [],
   "source": [
    "df.to_csv(\"data/clean.csv\",index=False)\n",
    "\n"
   ]
  }
 ],
 "metadata": {
  "kernelspec": {
   "display_name": "Python 3 (ipykernel)",
   "language": "python",
   "name": "python3"
  },
  "language_info": {
   "codemirror_mode": {
    "name": "ipython",
    "version": 3
   },
   "file_extension": ".py",
   "mimetype": "text/x-python",
   "name": "python",
   "nbconvert_exporter": "python",
   "pygments_lexer": "ipython3",
   "version": "3.9.6"
  }
 },
 "nbformat": 4,
 "nbformat_minor": 5
}