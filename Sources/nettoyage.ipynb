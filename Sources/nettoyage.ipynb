{
 "cells": [
  {
   "cell_type": "code",
   "execution_count": 297,
   "id": "8b9441a6",
   "metadata": {},
   "outputs": [],
   "source": [
    "import pandas as pd\n",
    "import numpy as np\n",
    "import matplotlib.pyplot as plt\n",
    "import seaborn as sns\n",
    "from plotly.subplots import make_subplots\n",
    "import plotly.graph_objects as go\n",
    "import plotly.express as px\n",
    "from datetime import datetime"
   ]
  },
  {
   "cell_type": "code",
   "execution_count": 298,
   "id": "1082d4b6",
   "metadata": {},
   "outputs": [
    {
     "data": {
      "text/plain": "       sexe  date_naiss                      age   sit_fam  job_ok  nbre_enf  \\\n0  MASCULIN  26/07/1974  44 ans 05 mois 01 jours  MARIE(E)       0         1   \n1  MASCULIN  11/06/1979  39 ans 06 mois 16 jours  MARIE(E)       1         2   \n2  MASCULIN  11/06/1979  39 ans 06 mois 16 jours  MARIE(E)       1         2   \n3  MASCULIN  11/06/1979  39 ans 06 mois 16 jours  MARIE(E)       1         2   \n4  MASCULIN  11/06/1979  39 ans 06 mois 16 jours  MARIE(E)       1         2   \n\n       nature                                             design  ann_dipl  \\\n0     DIPLOME         CERTIFICAT D'ETUDES PRIMAIRES ELEMENTAIRES       NaN   \n1  CERTIFICAT                           GRAPHISTE ET MAQUETTISTE       NaN   \n2     DIPLOME  DIPLOME D'INGENIEUR EN GENIE ELECTRONIQUE MANAGER    2008.0   \n3     DIPLOME    DIPLOME DE TECHNICIEN SUPERIEUR EN ELECTRONIQUE    2000.0   \n4  CERTIFICAT                   ADMINISTRATION RESEAUX-AUF JREWS       NaN   \n\n   ordre  ... division_af  service_af direction_af date_ps dat_retraite  \\\n0      1  ...         NaN         SOC          DSE     NaN   2034-07-26   \n1      6  ...         NaN         SOC          DSE     NaN   2039-06-11   \n2      1  ...         NaN         SOC          DSE     NaN   2039-06-11   \n3      2  ...         NaN         SOC          DSE     NaN   2039-06-11   \n4      2  ...         NaN         SOC          DSE     NaN   2039-06-11   \n\n  poste_act                    job_act dt_echeance tot_afct   statut_act  \n0      22TP                    ECOREUR  2019-02-09        3  EN FONCTION  \n1      22TP  CHEF DE SITE INFORMATIQUE  2013-12-22        1  EN FONCTION  \n2      22TP  CHEF DE SITE INFORMATIQUE  2013-12-22        1  EN FONCTION  \n3      22TP  CHEF DE SITE INFORMATIQUE  2013-12-22        1  EN FONCTION  \n4      22TP  CHEF DE SITE INFORMATIQUE  2013-12-22        1  EN FONCTION  \n\n[5 rows x 28 columns]",
      "text/html": "<div>\n<style scoped>\n    .dataframe tbody tr th:only-of-type {\n        vertical-align: middle;\n    }\n\n    .dataframe tbody tr th {\n        vertical-align: top;\n    }\n\n    .dataframe thead th {\n        text-align: right;\n    }\n</style>\n<table border=\"1\" class=\"dataframe\">\n  <thead>\n    <tr style=\"text-align: right;\">\n      <th></th>\n      <th>sexe</th>\n      <th>date_naiss</th>\n      <th>age</th>\n      <th>sit_fam</th>\n      <th>job_ok</th>\n      <th>nbre_enf</th>\n      <th>nature</th>\n      <th>design</th>\n      <th>ann_dipl</th>\n      <th>ordre</th>\n      <th>...</th>\n      <th>division_af</th>\n      <th>service_af</th>\n      <th>direction_af</th>\n      <th>date_ps</th>\n      <th>dat_retraite</th>\n      <th>poste_act</th>\n      <th>job_act</th>\n      <th>dt_echeance</th>\n      <th>tot_afct</th>\n      <th>statut_act</th>\n    </tr>\n  </thead>\n  <tbody>\n    <tr>\n      <th>0</th>\n      <td>MASCULIN</td>\n      <td>26/07/1974</td>\n      <td>44 ans 05 mois 01 jours</td>\n      <td>MARIE(E)</td>\n      <td>0</td>\n      <td>1</td>\n      <td>DIPLOME</td>\n      <td>CERTIFICAT D'ETUDES PRIMAIRES ELEMENTAIRES</td>\n      <td>NaN</td>\n      <td>1</td>\n      <td>...</td>\n      <td>NaN</td>\n      <td>SOC</td>\n      <td>DSE</td>\n      <td>NaN</td>\n      <td>2034-07-26</td>\n      <td>22TP</td>\n      <td>ECOREUR</td>\n      <td>2019-02-09</td>\n      <td>3</td>\n      <td>EN FONCTION</td>\n    </tr>\n    <tr>\n      <th>1</th>\n      <td>MASCULIN</td>\n      <td>11/06/1979</td>\n      <td>39 ans 06 mois 16 jours</td>\n      <td>MARIE(E)</td>\n      <td>1</td>\n      <td>2</td>\n      <td>CERTIFICAT</td>\n      <td>GRAPHISTE ET MAQUETTISTE</td>\n      <td>NaN</td>\n      <td>6</td>\n      <td>...</td>\n      <td>NaN</td>\n      <td>SOC</td>\n      <td>DSE</td>\n      <td>NaN</td>\n      <td>2039-06-11</td>\n      <td>22TP</td>\n      <td>CHEF DE SITE INFORMATIQUE</td>\n      <td>2013-12-22</td>\n      <td>1</td>\n      <td>EN FONCTION</td>\n    </tr>\n    <tr>\n      <th>2</th>\n      <td>MASCULIN</td>\n      <td>11/06/1979</td>\n      <td>39 ans 06 mois 16 jours</td>\n      <td>MARIE(E)</td>\n      <td>1</td>\n      <td>2</td>\n      <td>DIPLOME</td>\n      <td>DIPLOME D'INGENIEUR EN GENIE ELECTRONIQUE MANAGER</td>\n      <td>2008.0</td>\n      <td>1</td>\n      <td>...</td>\n      <td>NaN</td>\n      <td>SOC</td>\n      <td>DSE</td>\n      <td>NaN</td>\n      <td>2039-06-11</td>\n      <td>22TP</td>\n      <td>CHEF DE SITE INFORMATIQUE</td>\n      <td>2013-12-22</td>\n      <td>1</td>\n      <td>EN FONCTION</td>\n    </tr>\n    <tr>\n      <th>3</th>\n      <td>MASCULIN</td>\n      <td>11/06/1979</td>\n      <td>39 ans 06 mois 16 jours</td>\n      <td>MARIE(E)</td>\n      <td>1</td>\n      <td>2</td>\n      <td>DIPLOME</td>\n      <td>DIPLOME DE TECHNICIEN SUPERIEUR EN ELECTRONIQUE</td>\n      <td>2000.0</td>\n      <td>2</td>\n      <td>...</td>\n      <td>NaN</td>\n      <td>SOC</td>\n      <td>DSE</td>\n      <td>NaN</td>\n      <td>2039-06-11</td>\n      <td>22TP</td>\n      <td>CHEF DE SITE INFORMATIQUE</td>\n      <td>2013-12-22</td>\n      <td>1</td>\n      <td>EN FONCTION</td>\n    </tr>\n    <tr>\n      <th>4</th>\n      <td>MASCULIN</td>\n      <td>11/06/1979</td>\n      <td>39 ans 06 mois 16 jours</td>\n      <td>MARIE(E)</td>\n      <td>1</td>\n      <td>2</td>\n      <td>CERTIFICAT</td>\n      <td>ADMINISTRATION RESEAUX-AUF JREWS</td>\n      <td>NaN</td>\n      <td>2</td>\n      <td>...</td>\n      <td>NaN</td>\n      <td>SOC</td>\n      <td>DSE</td>\n      <td>NaN</td>\n      <td>2039-06-11</td>\n      <td>22TP</td>\n      <td>CHEF DE SITE INFORMATIQUE</td>\n      <td>2013-12-22</td>\n      <td>1</td>\n      <td>EN FONCTION</td>\n    </tr>\n  </tbody>\n</table>\n<p>5 rows × 28 columns</p>\n</div>"
     },
     "execution_count": 298,
     "metadata": {},
     "output_type": "execute_result"
    }
   ],
   "source": [
    "data=pd.read_csv(\"data/rhdata.csv\")\n",
    "data=data.drop(\"num_im\",axis=1)\n",
    "data.head()\n"
   ]
  },
  {
   "cell_type": "code",
   "execution_count": 313,
   "id": "98d77ea5",
   "metadata": {},
   "outputs": [],
   "source": [
    "df = data.copy()\n",
    "qualitative = []\n",
    "quantitative = []\n",
    "\n",
    "for variable in df.columns.tolist():\n",
    "    if df.dtypes[variable] in ['float64', 'int64']:\n",
    "        quantitative.append(variable)\n",
    "    else :\n",
    "        qualitative.append(variable)"
   ]
  },
  {
   "cell_type": "code",
   "id": "96b88294",
   "metadata": {
    "pycharm": {
     "name": "#%%\n"
    }
   },
   "source": [
    "\n",
    "df[qualitative[0]].unique()"
   ],
   "execution_count": 314,
   "outputs": [
    {
     "data": {
      "text/plain": "array(['MASCULIN', 'FEMININ'], dtype=object)"
     },
     "execution_count": 314,
     "metadata": {},
     "output_type": "execute_result"
    }
   ]
  },
  {
   "cell_type": "code",
   "execution_count": 315,
   "id": "c2c81bfd",
   "metadata": {
    "pycharm": {
     "name": "#%%\n"
    }
   },
   "outputs": [
    {
     "data": {
      "text/plain": "array(['26/07/1974', '11/06/1979', '07/05/1970', ..., '24/04/1974',\n       '17/05/1991', '06/01/1981'], dtype=object)"
     },
     "execution_count": 315,
     "metadata": {},
     "output_type": "execute_result"
    }
   ],
   "source": [
    "df[qualitative[1]].unique()"
   ]
  },
  {
   "cell_type": "code",
   "id": "3e742a8b",
   "metadata": {
    "pycharm": {
     "name": "#%%\n"
    }
   },
   "source": [
    "df[qualitative[2]].unique()"
   ],
   "execution_count": 316,
   "outputs": [
    {
     "data": {
      "text/plain": "array(['44 ans 05 mois 01 jours', '39 ans 06 mois 16 jours',\n       '48 ans 07 mois 20 jours', ..., '46 ans 04 mois 04 jours',\n       '29 ans 03 mois 11 jours', '39 ans 07 mois 20 jours'], dtype=object)"
     },
     "execution_count": 316,
     "metadata": {},
     "output_type": "execute_result"
    }
   ]
  },
  {
   "cell_type": "code",
   "execution_count": 317,
   "id": "e4c2dc0f",
   "metadata": {
    "pycharm": {
     "name": "#%%\n"
    }
   },
   "outputs": [],
   "source": [
    "import re\n",
    "d=df[qualitative[2]]\n",
    "d=list(d)\n",
    "for index, value in enumerate(d):\n",
    "        numbers = [float(s) for s in re.findall(r'-?\\d+\\.?\\d*', value)]\n",
    "        d[index]=numbers[0]\n",
    "\n",
    "df[qualitative[2]] = [float(v) for v in d]"
   ]
  },
  {
   "cell_type": "code",
   "execution_count": 318,
   "id": "870f70b1",
   "metadata": {},
   "outputs": [
    {
     "data": {
      "text/plain": "array(['MARIE(E)', 'DIVORCE(E)', 'CELIBATAIRE', 'VEUF(VE)', nan],\n      dtype=object)"
     },
     "execution_count": 318,
     "metadata": {},
     "output_type": "execute_result"
    }
   ],
   "source": [
    "df[qualitative[3]].unique()"
   ]
  },
  {
   "cell_type": "code",
   "execution_count": 319,
   "id": "d0caba64",
   "metadata": {},
   "outputs": [
    {
     "data": {
      "text/plain": "array(['DIPLOME', 'CERTIFICAT', 'FORMATION', 'ATTESTATION',\n       'APTITUDE PROFESSIONNEL', 'APTITUDE PROFESSIONNELLE'], dtype=object)"
     },
     "execution_count": 319,
     "metadata": {},
     "output_type": "execute_result"
    }
   ],
   "source": [
    "df[qualitative[4]].unique()"
   ]
  },
  {
   "cell_type": "code",
   "execution_count": 320,
   "id": "0a14c53b",
   "metadata": {},
   "outputs": [
    {
     "data": {
      "text/plain": "array([\"CERTIFICAT D'ETUDES PRIMAIRES ELEMENTAIRES\",\n       'GRAPHISTE ET MAQUETTISTE',\n       \"DIPLOME D'INGENIEUR EN GENIE ELECTRONIQUE MANAGER\", ...,\n       'MASTER 1', 'LICENCE EN ECONOMIE-GESTION',\n       'MASTER EN CONTROLE DE GESTION ET AUDIT OPERATIONNEL'],\n      dtype=object)"
     },
     "execution_count": 320,
     "metadata": {},
     "output_type": "execute_result"
    }
   ],
   "source": [
    "df[qualitative[5]].unique()"
   ]
  },
  {
   "cell_type": "code",
   "execution_count": 321,
   "id": "6062e4a9",
   "metadata": {
    "pycharm": {
     "name": "#%%\n"
    }
   },
   "outputs": [
    {
     "data": {
      "text/plain": "array(['CONCOURS DIRECT', \"CONTRAT D'ENGAGEMENT\", \"DECISION D'ENGAGEMENT\",\n       'AFFECTATION DEFINITIVE', 'DETACHEMENT', nan], dtype=object)"
     },
     "execution_count": 321,
     "metadata": {},
     "output_type": "execute_result"
    }
   ],
   "source": [
    "df[qualitative[6]].unique()"
   ]
  },
  {
   "cell_type": "code",
   "execution_count": 322,
   "id": "3878d57f",
   "metadata": {},
   "outputs": [],
   "source": [
    "df[qualitative[7]].unique()\n",
    "data_y = df[qualitative[7]]\n",
    "\n",
    "df[qualitative[7]]=pd.to_datetime(data_y).dt.year\n"
   ]
  },
  {
   "cell_type": "code",
   "execution_count": 323,
   "id": "5c900917",
   "metadata": {},
   "outputs": [
    {
     "data": {
      "text/plain": "array([2000, 2008, 1999, 2001, 2010, 1987, 1998, 2003, 2004, 2002, 2005,\n       1989, 2006, 2011, 1988, 1980, 2015, 2013, 1977, 1978, 2016, 1990,\n       1979, 1995, 1994, 1996, 1982, 2012, 1993, 1981, 1992, 1997, 1984,\n       2009, 2007, 2017, 2014, 2018, 2019], dtype=int64)"
     },
     "execution_count": 323,
     "metadata": {},
     "output_type": "execute_result"
    }
   ],
   "source": [
    "df[qualitative[7]].unique()"
   ]
  },
  {
   "cell_type": "code",
   "execution_count": 324,
   "id": "1d1c0cb2",
   "metadata": {},
   "outputs": [
    {
     "data": {
      "text/plain": "array(['42MG', '22TP', '34AS', '12IV', '21TO', 'DGD', 'SAI', 'SAF', 'SRI',\n       nan, '53TL', 'SLF', '25BT', 'SED', '11AN', 'SS', 'SLR', 'DSCD',\n       '24SM', 'PRMP', 'AUTRES', 'SAGD', 'SAJC', 'SID', 'SDI', 'SAGRH',\n       'SDC', '51MD', '35NB', 'SRH', 'SE/DSCD', '32SA', 'SFRC/DNF',\n       'SCAP', 'SCDD', '13AB', '31AH', 'SVO', 'DESD', 'DLRE', 'DAJLF',\n       'SCD', 'CCSEAD', '62MJ', '41AL', 'SCRS', '16ZE', '54TG', '17ZO',\n       '15ZS', '61MK', 'DTERD', 'SCC', '63FI', 'DAGD', 'DSE', 'SSD',\n       'BUDORS', 'SBID', 'SST', 'SSAE', 'SCSR', 'CIR', 'DAAD', '23MA',\n       'ENSD', 'SCRU', 'SI', 'SSLC', 'DNFP', 'SRAR', 'SOC', 'DLV',\n       'SRDAAMI', 'SE', '33VO', 'DLSD', 'SAE', '14MA', 'SSOC', 'SF',\n       'CPERF', 'CDL'], dtype=object)"
     },
     "execution_count": 324,
     "metadata": {},
     "output_type": "execute_result"
    }
   ],
   "source": [
    "df[qualitative[9]].unique()"
   ]
  },
  {
   "cell_type": "code",
   "execution_count": 325,
   "id": "b3c6b54b",
   "metadata": {},
   "outputs": [],
   "source": [
    "df[qualitative[16]]=pd.to_datetime(df[qualitative[16]]).dt.year\n",
    "df[qualitative[17]]=pd.to_datetime(df[qualitative[17]]).dt.year\n",
    "df[qualitative[20]]=pd.to_datetime(df[qualitative[20]]).dt.year"
   ]
  },
  {
   "cell_type": "code",
   "execution_count": 326,
   "id": "11afa436",
   "metadata": {},
   "outputs": [],
   "source": [
    "df.to_csv(\"data/clean.csv\",index=False)"
   ]
  },
  {
   "cell_type": "code",
   "execution_count": 312,
   "id": "e4004f15",
   "metadata": {
    "pycharm": {
     "name": "#%%\n"
    }
   },
   "outputs": [],
   "source": [
    "\n"
   ]
  }
 ],
 "metadata": {
  "kernelspec": {
   "display_name": "Python 3 (ipykernel)",
   "language": "python",
   "name": "python3"
  },
  "language_info": {
   "codemirror_mode": {
    "name": "ipython",
    "version": 3
   },
   "file_extension": ".py",
   "mimetype": "text/x-python",
   "name": "python",
   "nbconvert_exporter": "python",
   "pygments_lexer": "ipython3",
   "version": "3.9.6"
  }
 },
 "nbformat": 4,
 "nbformat_minor": 5
}